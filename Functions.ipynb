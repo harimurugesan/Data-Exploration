{
 "cells": [
  {
   "cell_type": "code",
   "execution_count": 4,
   "metadata": {},
   "outputs": [
    {
     "name": "stdout",
     "output_type": "stream",
     "text": [
      "1\n"
     ]
    },
    {
     "data": {
      "text/plain": [
       "'1 is odd'"
      ]
     },
     "execution_count": 4,
     "metadata": {},
     "output_type": "execute_result"
    }
   ],
   "source": [
    "# Function blocks begin with the keyword \"def\" followed by the function name and parentheses ( ( ) ).\n",
    "# The code block within every function starts with a colon (:) and is indented.\n",
    "# The statement \"return\"  exits a function\n",
    "# A return statement with no arguments is the same as return None\n",
    "\n",
    "def oddOrEven(var1):\n",
    "    var1 = int(var1)\n",
    "    if var1 % 2 == 0:\n",
    "        return \"{} is even\".format(var1)\n",
    "    else:\n",
    "        return \"{} is odd\".format(var1)\n",
    "oddOrEven(input())\n",
    "    "
   ]
  },
  {
   "cell_type": "markdown",
   "metadata": {},
   "source": [
    "# Pass by reference vs value "
   ]
  },
  {
   "cell_type": "code",
   "execution_count": 10,
   "metadata": {},
   "outputs": [
    {
     "name": "stdout",
     "output_type": "stream",
     "text": [
      "inside func : [0, 2, 4, 6, 8, 1, 3, 5, 7, 9]\n",
      "outside function : [0, 2, 4, 6, 8, 1, 3, 5, 7, 9]\n"
     ]
    }
   ],
   "source": [
    "# we are maintaining reference of the passed object and appending values in the same object\n",
    "\n",
    "def func(a):\n",
    "    a.extend([1,3,5,7,9])\n",
    "    print(\"inside func :\",a)\n",
    "a = [0,2,4,6,8]\n",
    "func(a)\n",
    "print(\"outside function :\",a)"
   ]
  },
  {
   "cell_type": "code",
   "execution_count": 11,
   "metadata": {},
   "outputs": [
    {
     "name": "stdout",
     "output_type": "stream",
     "text": [
      "inside func : [1, 3, 5, 7, 9]\n",
      "outside function : [0, 2, 4, 6, 8]\n"
     ]
    }
   ],
   "source": [
    "# Changing \"a\" within the function does not affect a\n",
    "\n",
    "def func(a):\n",
    "    a = [1,3,5,7,9]\n",
    "    print(\"inside func :\",a)\n",
    "a = [0,2,4,6,8]\n",
    "func(a)\n",
    "print(\"outside function :\",a)"
   ]
  },
  {
   "cell_type": "markdown",
   "metadata": {},
   "source": [
    "# Function arguments"
   ]
  },
  {
   "cell_type": "code",
   "execution_count": 12,
   "metadata": {},
   "outputs": [
    {
     "ename": "TypeError",
     "evalue": "oddOrEven() missing 1 required positional argument: 'var1'",
     "output_type": "error",
     "traceback": [
      "\u001b[1;31m---------------------------------------------------------------------------\u001b[0m",
      "\u001b[1;31mTypeError\u001b[0m                                 Traceback (most recent call last)",
      "\u001b[1;32m<ipython-input-12-dbdeeca12a69>\u001b[0m in \u001b[0;36m<module>\u001b[1;34m()\u001b[0m\n\u001b[0;32m      8\u001b[0m     \u001b[1;32melse\u001b[0m\u001b[1;33m:\u001b[0m\u001b[1;33m\u001b[0m\u001b[0m\n\u001b[0;32m      9\u001b[0m         \u001b[1;32mreturn\u001b[0m \u001b[1;34m\"{} is odd\"\u001b[0m\u001b[1;33m.\u001b[0m\u001b[0mformat\u001b[0m\u001b[1;33m(\u001b[0m\u001b[0mvar1\u001b[0m\u001b[1;33m)\u001b[0m\u001b[1;33m\u001b[0m\u001b[0m\n\u001b[1;32m---> 10\u001b[1;33m \u001b[0moddOrEven\u001b[0m\u001b[1;33m(\u001b[0m\u001b[1;33m)\u001b[0m\u001b[1;33m\u001b[0m\u001b[0m\n\u001b[0m\u001b[0;32m     11\u001b[0m \u001b[1;33m\u001b[0m\u001b[0m\n",
      "\u001b[1;31mTypeError\u001b[0m: oddOrEven() missing 1 required positional argument: 'var1'"
     ]
    }
   ],
   "source": [
    "# required arguments.\n",
    "# number of arguments in the function call should match exactly with the function definition.\n",
    "# if one or more arguments is present the positional order must be maintained.\n",
    "def oddOrEven(var1):\n",
    "    var1 = int(var1)\n",
    "    if var1 % 2 == 0:\n",
    "        return \"{} is even\".format(var1)\n",
    "    else:\n",
    "        return \"{} is odd\".format(var1)\n",
    "oddOrEven()\n",
    "    "
   ]
  },
  {
   "cell_type": "code",
   "execution_count": 14,
   "metadata": {},
   "outputs": [
    {
     "name": "stdout",
     "output_type": "stream",
     "text": [
      "9 is big\n",
      "7 is big\n"
     ]
    }
   ],
   "source": [
    "# default arguments.\n",
    "# assumes a default value if a value is not provided in the function call for that argument.\n",
    "\n",
    "def bigNum(var1,var2 = 7):\n",
    "    if var1 > var2 :\n",
    "        return \"{} is big\".format(var1)\n",
    "    else:\n",
    "        return \"{} is big\".format(var2)\n",
    "print(bigNum(5,9))\n",
    "print(bigNum(5))"
   ]
  },
  {
   "cell_type": "code",
   "execution_count": null,
   "metadata": {},
   "outputs": [],
   "source": [
    "# variable length arguments\n",
    "def func(a,*b):\n",
    "    total = a\n",
    "    print(type(b),b)\n",
    "    if b:\n",
    "        for i in b:\n",
    "            total+=i\n",
    "    return total\n",
    "func(1,2,3,4,5)"
   ]
  },
  {
   "cell_type": "markdown",
   "metadata": {},
   "source": [
    "# Scope of Variables"
   ]
  },
  {
   "cell_type": "code",
   "execution_count": 36,
   "metadata": {},
   "outputs": [
    {
     "name": "stdout",
     "output_type": "stream",
     "text": [
      "inside func1 :  10\n",
      "outside func : 5\n"
     ]
    }
   ],
   "source": [
    "a = 5 # global var will not gets affected\n",
    "def func1():\n",
    "    a = 10 # local var has scope only within function\n",
    "    print(\"inside func1 : \",a)\n",
    "func1()\n",
    "print(\"outside func :\",a)"
   ]
  },
  {
   "cell_type": "code",
   "execution_count": 38,
   "metadata": {},
   "outputs": [
    {
     "name": "stdout",
     "output_type": "stream",
     "text": [
      "inside func1 :  10\n",
      "outside func : 10\n"
     ]
    }
   ],
   "source": [
    "a = 5 \n",
    "def func1():\n",
    "    global a # if you want to reflect the change to global mention the global keyword\n",
    "    a =10\n",
    "    print(\"inside func1 : \",a)\n",
    "func1()\n",
    "print(\"outside func :\",a)"
   ]
  }
 ],
 "metadata": {
  "kernelspec": {
   "display_name": "Python 3",
   "language": "python",
   "name": "python3"
  },
  "language_info": {
   "codemirror_mode": {
    "name": "ipython",
    "version": 3
   },
   "file_extension": ".py",
   "mimetype": "text/x-python",
   "name": "python",
   "nbconvert_exporter": "python",
   "pygments_lexer": "ipython3",
   "version": "3.6.4"
  }
 },
 "nbformat": 4,
 "nbformat_minor": 2
}
