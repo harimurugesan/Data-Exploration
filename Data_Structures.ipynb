{
 "cells": [
  {
   "cell_type": "markdown",
   "metadata": {},
   "source": [
    "<p style=\"font-family: Arial; font-size:3em;color:purple; font-style:bold\"><br>\n",
    "Python Data Sturctures <br><br><br></p>"
   ]
  },
  {
   "cell_type": "markdown",
   "metadata": {},
   "source": [
    "# 1). List"
   ]
  },
  {
   "cell_type": "code",
   "execution_count": 151,
   "metadata": {},
   "outputs": [
    {
     "data": {
      "text/plain": [
       "19"
      ]
     },
     "execution_count": 151,
     "metadata": {},
     "output_type": "execute_result"
    }
   ],
   "source": [
    "# a list is defined by the square brackets\n",
    "a = [1,32,536,113,1,536,141,441,114,14,6,15,1,4,353,5,1,4,4]\n",
    "len(a) # It gives the length of the list"
   ]
  },
  {
   "cell_type": "code",
   "execution_count": 177,
   "metadata": {},
   "outputs": [
    {
     "data": {
      "text/plain": [
       "[1, 2, 3, 4, 5, 6, 7, 8, 9]"
      ]
     },
     "execution_count": 177,
     "metadata": {},
     "output_type": "execute_result"
    }
   ],
   "source": [
    "# we can also create list using range(start,end-1)\n",
    "ar = list(range(1,10))\n",
    "ar"
   ]
  },
  {
   "cell_type": "code",
   "execution_count": 152,
   "metadata": {},
   "outputs": [
    {
     "name": "stdout",
     "output_type": "stream",
     "text": [
      "1\n",
      "4\n"
     ]
    }
   ],
   "source": [
    "# This technique of getting the element in the list is called indexing.\n",
    "# we can get only one element using indexing\n",
    "print(a[0]) \n",
    "print(a[-1])"
   ]
  },
  {
   "cell_type": "code",
   "execution_count": 153,
   "metadata": {},
   "outputs": [
    {
     "name": "stdout",
     "output_type": "stream",
     "text": [
      "[1, 32, 536, 113, 1, 536, 141, 441, 114, 14, 6, 15, 1, 4, 353, 5, 1, 4, 4]\n",
      "[1, 32, 536, 113, 1, 536, 141, 441, 114, 14, 6, 15, 1, 4, 353, 5, 1]\n"
     ]
    }
   ],
   "source": [
    "# This technique is called slicing\n",
    "# With slicing we can get multiple elements\n",
    "print(a[0:])\n",
    "print(a[0:-2])"
   ]
  },
  {
   "cell_type": "code",
   "execution_count": 154,
   "metadata": {},
   "outputs": [
    {
     "name": "stdout",
     "output_type": "stream",
     "text": [
      "[1, 32, 536, 113, 1, 536, 141, 441, 114, 14, 6, 15, 1, 4, 353, 5, 1, 4, 4, 'hari']\n"
     ]
    },
    {
     "data": {
      "text/plain": [
       "20"
      ]
     },
     "execution_count": 154,
     "metadata": {},
     "output_type": "execute_result"
    }
   ],
   "source": [
    "# we can add new elements in the list using append function\n",
    "# It adds the new elements to the end of the list\n",
    "# with append we can add only one element at a time\n",
    "a.append(\"hari\")\n",
    "print(a)\n",
    "len(a)\n"
   ]
  },
  {
   "cell_type": "code",
   "execution_count": 155,
   "metadata": {},
   "outputs": [
    {
     "name": "stdout",
     "output_type": "stream",
     "text": [
      "[1, 32, 536, 113, 1, 536, 141, 441, 114, 14, 6, 15, 1, 4, 353, 5, 1, 4, 4, 'hari', 500, 500, 500]\n"
     ]
    },
    {
     "data": {
      "text/plain": [
       "23"
      ]
     },
     "execution_count": 155,
     "metadata": {},
     "output_type": "execute_result"
    }
   ],
   "source": [
    "#But with extend function we can add multiple elements\n",
    "a.extend([500,500,500])\n",
    "print(a)\n",
    "len(a)"
   ]
  },
  {
   "cell_type": "code",
   "execution_count": 156,
   "metadata": {},
   "outputs": [
    {
     "name": "stdout",
     "output_type": "stream",
     "text": [
      "[1, 32, 0, 536, 113, 1, 536, 141, 441, 114, 14, 6, 15, 1, 4, 353, 5, 1, 4, 4, 'hari', 500, 500, 500]\n"
     ]
    }
   ],
   "source": [
    "# If we want to insert elements in a specific location go for insert funstion\n",
    "a.insert(2,0)\n",
    "print(a)"
   ]
  },
  {
   "cell_type": "code",
   "execution_count": 157,
   "metadata": {},
   "outputs": [
    {
     "data": {
      "text/plain": [
       "4"
      ]
     },
     "execution_count": 157,
     "metadata": {},
     "output_type": "execute_result"
    }
   ],
   "source": [
    "# count function gives the number of occurences of a particular element\n",
    "a.count(1)"
   ]
  },
  {
   "cell_type": "code",
   "execution_count": 158,
   "metadata": {},
   "outputs": [
    {
     "name": "stdout",
     "output_type": "stream",
     "text": [
      "0\n",
      "14\n"
     ]
    }
   ],
   "source": [
    "# It gives the index of the elements you want to find \n",
    "print(a.index(1))\n",
    "print(a.index(4))"
   ]
  },
  {
   "cell_type": "code",
   "execution_count": 163,
   "metadata": {},
   "outputs": [
    {
     "name": "stdout",
     "output_type": "stream",
     "text": [
      "[1, 536, 113, 1, 536, 141, 441, 114, 14, 6, 15, 1, 4, 353, 5, 1, 4]\n",
      "[1, 113, 1, 536, 141, 441, 114, 14, 6, 15, 1, 4, 353, 5, 1]\n"
     ]
    }
   ],
   "source": [
    "print(a)\n",
    "a.pop() # pop removes the last element from the list if the index is npot given\n",
    "a.pop(1)# If index is given it removes the specific index value\n",
    "print(a)"
   ]
  },
  {
   "cell_type": "code",
   "execution_count": 169,
   "metadata": {},
   "outputs": [
    {
     "name": "stdout",
     "output_type": "stream",
     "text": [
      "[1, 2, 3]\n",
      "[1, 2, 3]\n",
      "['hari', 2, 3]\n",
      "['hari', 2, 3]\n"
     ]
    }
   ],
   "source": [
    "A1 = [1,2,3]\n",
    "print(A1)\n",
    "A2 = A1\n",
    "print(A2)\n",
    "A2[0] = 'hari'\n",
    "print(A1) # when I try to change A2 then A1 also changes. This is called deep copying\n",
    "print(A2) #  inserts copies of the objects found in the original. They have shared copy"
   ]
  },
  {
   "cell_type": "code",
   "execution_count": 170,
   "metadata": {},
   "outputs": [
    {
     "name": "stdout",
     "output_type": "stream",
     "text": [
      "['hari', 2, 3]\n",
      "[1, 2, 3]\n"
     ]
    }
   ],
   "source": [
    "A1 = [1,2,3]\n",
    "A2 = A1.copy() # To avoid deep copy we can use shallow copy using copy function\n",
    "A2[0] = 'hari'\n",
    "print(A2)\n",
    "print(A1)"
   ]
  },
  {
   "cell_type": "code",
   "execution_count": 77,
   "metadata": {},
   "outputs": [
    {
     "name": "stdout",
     "output_type": "stream",
     "text": [
      "['hari', 2, 3]\n",
      "[2, 3]\n"
     ]
    }
   ],
   "source": [
    "print(A1)\n",
    "A1.remove('hari') # It removes the elements from the list and it removes only one element\n",
    "print(A1) # To be precise it removes only the first instances of the element"
   ]
  },
  {
   "cell_type": "code",
   "execution_count": 171,
   "metadata": {},
   "outputs": [
    {
     "name": "stdout",
     "output_type": "stream",
     "text": [
      "[1, 113, 1, 536, 141, 441, 114, 14, 6, 15, 1, 4, 353, 5, 1]\n",
      "15\n",
      "[113, 1, 536, 141, 441, 114, 14, 6, 15, 1, 4, 353, 5, 1]\n",
      "14\n"
     ]
    }
   ],
   "source": [
    "print(a)\n",
    "print(len(a))\n",
    "a.remove(1) #To be precise it removes only the first instances of the element\n",
    "print(a)\n",
    "print(len(a))\n"
   ]
  },
  {
   "cell_type": "code",
   "execution_count": 79,
   "metadata": {},
   "outputs": [
    {
     "name": "stdout",
     "output_type": "stream",
     "text": [
      "[0, 1, 1, 1, 1, 4, 4, 4, 5, 6, 14, 15, 32, 113, 114, 141, 353, 441, 536, 536]\n",
      "[536, 536, 441, 353, 141, 114, 113, 32, 15, 14, 6, 5, 4, 4, 4, 1, 1, 1, 1, 0]\n",
      "[1, 32, 0, 536, 113, 1, 536, 141, 441, 114, 14, 6, 15, 1, 4, 353, 5, 1, 4, 4]\n"
     ]
    }
   ],
   "source": [
    "a = [1, 32, 0, 536, 113, 1, 536, 141, 441, 114, 14, 6, 15, 1, 4, 353, 5, 1, 4, 4]\n",
    "print(sorted(a))# we can sort the elements in the list using sorted function\n",
    "print(sorted(a,reverse=True)) # by deafault reverse reverse  = False which is ASc you can change to DESc by using false\n",
    "print(a)# It is not inplace sort hence the values won't change in the original"
   ]
  },
  {
   "cell_type": "code",
   "execution_count": 80,
   "metadata": {},
   "outputs": [
    {
     "name": "stdout",
     "output_type": "stream",
     "text": [
      "[0, 1, 1, 1, 1, 4, 4, 4, 5, 6, 14, 15, 32, 113, 114, 141, 353, 441, 536, 536]\n"
     ]
    }
   ],
   "source": [
    "a = [1, 32, 0, 536, 113, 1, 536, 141, 441, 114, 14, 6, 15, 1, 4, 353, 5, 1, 4, 4]\n",
    "a.sort()# whereas in sort function it is a inplace sort \n",
    "print(a)# so the original values got affected"
   ]
  },
  {
   "cell_type": "code",
   "execution_count": 81,
   "metadata": {},
   "outputs": [
    {
     "name": "stdout",
     "output_type": "stream",
     "text": [
      "[0, 1, 1, 1, 1, 4, 4, 4, 5, 6, 14, 15, 32, 113, 114, 141, 353, 441, 536, 536]\n",
      "[536, 536, 441, 353, 141, 114, 113, 32, 15, 14, 6, 5, 4, 4, 4, 1, 1, 1, 1, 0]\n"
     ]
    }
   ],
   "source": [
    "print(a)\n",
    "a.reverse() # It reverses the list and it is inplace = True\n",
    "print(a)\n"
   ]
  },
  {
   "cell_type": "code",
   "execution_count": 66,
   "metadata": {},
   "outputs": [
    {
     "name": "stdout",
     "output_type": "stream",
     "text": [
      "[4, 4, 1, 5, 353, 4, 1, 15, 6, 14, 114, 441, 141, 536, 1, 113, 536, 32, 1]\n",
      "[4, 1, 15, 6, 14, 114, 441, 141, 536, 1, 113, 536, 32, 1]\n"
     ]
    }
   ],
   "source": [
    "print(a)\n",
    "del a[0:5] # you can delete the elements of a particular span by using del\n",
    "print(a)"
   ]
  },
  {
   "cell_type": "code",
   "execution_count": 70,
   "metadata": {},
   "outputs": [
    {
     "name": "stdout",
     "output_type": "stream",
     "text": [
      "[4, 1, 15, 6, 14, 114, 441, 141, 536, 1, 113, 536, 32, 1]\n",
      "[4, 1, 15, 6, 1, 1, 1, 1, 1, 1, 113, 536, 32, 1]\n"
     ]
    }
   ],
   "source": [
    "print(a)\n",
    "for i in range(4,9):\n",
    "    a[i] = 1\n",
    "print(a)"
   ]
  },
  {
   "cell_type": "markdown",
   "metadata": {},
   "source": [
    "# Tuple"
   ]
  },
  {
   "cell_type": "code",
   "execution_count": 82,
   "metadata": {},
   "outputs": [],
   "source": [
    "# A tuple is defined by ()\n",
    "# only difference between list and tuple is list is mutable and tuple is immutable\n",
    "A = (4, 1, 15, 6, 14, 114, 441, 141, 536, 1, 113, 536, 32, 1)"
   ]
  },
  {
   "cell_type": "code",
   "execution_count": 83,
   "metadata": {},
   "outputs": [
    {
     "name": "stdout",
     "output_type": "stream",
     "text": [
      "3\n",
      "2\n"
     ]
    }
   ],
   "source": [
    "print(A.count(1))#same as list\n",
    "print(A.index(15))"
   ]
  },
  {
   "cell_type": "markdown",
   "metadata": {},
   "source": [
    "# Dictionary"
   ]
  },
  {
   "cell_type": "code",
   "execution_count": 91,
   "metadata": {},
   "outputs": [
    {
     "name": "stdout",
     "output_type": "stream",
     "text": [
      "dict_keys(['a', 'b', 'c'])\n",
      "dict_items([('a', 1), ('b', 2), ('c', 5)])\n",
      "dict_values([1, 2, 5])\n",
      "dict_items([('b', 2), ('c', 5)])\n"
     ]
    }
   ],
   "source": [
    "# A dictionary is defined by using curly brackets  {}\n",
    "# A dictionary is a {key :value} pair element\n",
    "# where key is unique in dictionary\n",
    "dic1= {'a':1,'b':2,'c':5}\n",
    "print(dic1.keys())\n",
    "print(dic1.items())\n",
    "print(dic1.values())\n",
    "dic1.pop('a')\n",
    "print(dic1.items())"
   ]
  },
  {
   "cell_type": "code",
   "execution_count": 97,
   "metadata": {},
   "outputs": [
    {
     "name": "stdout",
     "output_type": "stream",
     "text": [
      "{'b': 2, 'c': 5}\n",
      "2\n",
      "2\n"
     ]
    }
   ],
   "source": [
    "print(dic1)\n",
    "print(dic1['b']) # retriving values with the help of key\n",
    "print(dic1.get('b'))"
   ]
  },
  {
   "cell_type": "code",
   "execution_count": 101,
   "metadata": {},
   "outputs": [
    {
     "name": "stdout",
     "output_type": "stream",
     "text": [
      "{'b': 2, 'c': 5, 'a': 4}\n"
     ]
    },
    {
     "data": {
      "text/plain": [
       "{'a': 4, 'b': 2, 'c': 5, 'd': 4}"
      ]
     },
     "execution_count": 101,
     "metadata": {},
     "output_type": "execute_result"
    }
   ],
   "source": [
    "print(dic1)\n",
    "dic1.update({'d':4}) # we can add the elements to the dictionary with update command\n",
    "dic1"
   ]
  },
  {
   "cell_type": "code",
   "execution_count": 108,
   "metadata": {},
   "outputs": [
    {
     "name": "stdout",
     "output_type": "stream",
     "text": [
      "{'a': 'vowel', 'u': 'vowel', 'e': 'vowel', 'i': 'vowel', 'o': 'vowel'}\n"
     ]
    }
   ],
   "source": [
    "keys = {'a', 'e', 'i', 'o', 'u' }\n",
    "value = 'vowel'\n",
    "\n",
    "vowels = dict.fromkeys(keys, value)# If you want to create dictionary with constant value\n",
    "print(vowels)"
   ]
  },
  {
   "cell_type": "markdown",
   "metadata": {},
   "source": [
    "# Set"
   ]
  },
  {
   "cell_type": "code",
   "execution_count": 107,
   "metadata": {},
   "outputs": [
    {
     "name": "stdout",
     "output_type": "stream",
     "text": [
      "{1, 2, 3, 4, 5, 25, 'hari'}\n",
      "{89, 1, 2, 3, 4, 5, 90, 25, 'hari', 91}\n"
     ]
    }
   ],
   "source": [
    "# set is also defined by using curly brackets {}\n",
    "# set allows only unique elements\n",
    "a= {1,2,3,4,5,1,1,2,2,3}\n",
    "a.add(25)\n",
    "a.add('hari') # It is like append in list\n",
    "print(a)\n",
    "a.update([89,90,91]) # It is like extend in list\n",
    "print(a)"
   ]
  }
 ],
 "metadata": {
  "kernelspec": {
   "display_name": "Python 3",
   "language": "python",
   "name": "python3"
  },
  "language_info": {
   "codemirror_mode": {
    "name": "ipython",
    "version": 3
   },
   "file_extension": ".py",
   "mimetype": "text/x-python",
   "name": "python",
   "nbconvert_exporter": "python",
   "pygments_lexer": "ipython3",
   "version": "3.6.4"
  }
 },
 "nbformat": 4,
 "nbformat_minor": 2
}
