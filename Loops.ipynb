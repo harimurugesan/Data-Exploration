{
 "cells": [
  {
   "cell_type": "markdown",
   "metadata": {},
   "source": [
    "# While loop"
   ]
  },
  {
   "cell_type": "code",
   "execution_count": 10,
   "metadata": {},
   "outputs": [
    {
     "name": "stdout",
     "output_type": "stream",
     "text": [
      "Hi Five\n",
      "4\n",
      "Hi Five\n",
      "3\n",
      "Hi Five\n",
      "2\n",
      "Hi Five\n",
      "1\n",
      "Hi Five\n",
      "0\n"
     ]
    }
   ],
   "source": [
    "# while is a entry check loop\n",
    "# do while is not in python\n",
    "a = 5\n",
    "while(a >= 1):\n",
    "    print(\"Hi Five\")\n",
    "    a-= 1\n",
    "    print(a)"
   ]
  },
  {
   "cell_type": "markdown",
   "metadata": {},
   "source": [
    "# for loop"
   ]
  },
  {
   "cell_type": "code",
   "execution_count": 14,
   "metadata": {},
   "outputs": [
    {
     "name": "stdout",
     "output_type": "stream",
     "text": [
      "[1, 2, 3, 4, 5]\n",
      "1 is not divisible by either 3 or 5\n",
      "2 is not divisible by either 3 or 5\n",
      "3 is divisible by 3\n",
      "4 is not divisible by either 3 or 5\n",
      "5 is divisible by 5\n"
     ]
    }
   ],
   "source": [
    "# for loop iterates every element of the loop\n",
    "# the value of the \"i\" gets overwrited with every iteration \n",
    "list1 = list(range(1,6))\n",
    "print(list1)\n",
    "for i in list1:\n",
    "    if i % 5 == 0: # If enters into the statement if the condition is true\n",
    "        print(\"{} is divisible by 5\".format(i))\n",
    "    elif i % 3  == 0:# when we use elif ,the program try to match any one of the if or elif statement which is True\n",
    "        print(\"{} is divisible by 3\".format(i))\n",
    "    else:# if none matches the condition then else block gets executed\n",
    "        print(\"{} is not divisible by either 3 or 5\".format(i))"
   ]
  },
  {
   "cell_type": "code",
   "execution_count": 15,
   "metadata": {},
   "outputs": [
    {
     "name": "stdout",
     "output_type": "stream",
     "text": [
      "1\n",
      "2\n",
      "3\n",
      "4\n",
      "5\n"
     ]
    }
   ],
   "source": [
    " # Iterating through Tuple\n",
    "tuple1 = (1,2,3,4,5)\n",
    "for i in list1:\n",
    "    print(i)"
   ]
  },
  {
   "cell_type": "code",
   "execution_count": 20,
   "metadata": {},
   "outputs": [
    {
     "name": "stdout",
     "output_type": "stream",
     "text": [
      "a\n",
      "b\n",
      "c\n",
      "d\n",
      "e\n",
      "\n",
      "\n",
      "a 1\n",
      "b 2\n",
      "c 3\n",
      "d 4\n",
      "e 5\n",
      "\n",
      "\n",
      "a 1\n",
      "b 2\n",
      "c 3\n",
      "d 4\n",
      "e 5\n"
     ]
    }
   ],
   "source": [
    "# Iterating through Dictionary\n",
    "# By default it iterates through keys.\n",
    "dict1 = {'a':1,'b':2,'c':3,'d':4,'e':5}\n",
    "for i in dict1:\n",
    "    print(i)\n",
    "\n",
    "print(\"\\n\")\n",
    "dict1 = {'a':1,'b':2,'c':3,'d':4,'e':5}\n",
    "for i in dict1:\n",
    "    print(i,dict1[i])\n",
    "\n",
    "    \n",
    "print(\"\\n\")\n",
    "dict1 = {'a':1,'b':2,'c':3,'d':4,'e':5}\n",
    "for i,j in dict1.items():\n",
    "    print(i,j)"
   ]
  },
  {
   "cell_type": "code",
   "execution_count": 22,
   "metadata": {},
   "outputs": [
    {
     "name": "stdout",
     "output_type": "stream",
     "text": [
      "P\n",
      "h\n",
      "o\n",
      "e\n",
      "n\n",
      "i\n",
      "x\n",
      " \n",
      "m\n",
      "a\n",
      "l\n",
      "l\n"
     ]
    }
   ],
   "source": [
    "# Iterating through String\n",
    "a = \"Phoenix mall\"\n",
    "for i in a:\n",
    "    print (i)\n"
   ]
  },
  {
   "cell_type": "markdown",
   "metadata": {},
   "source": [
    "# Loop Control Statements "
   ]
  },
  {
   "cell_type": "code",
   "execution_count": 3,
   "metadata": {},
   "outputs": [
    {
     "name": "stdout",
     "output_type": "stream",
     "text": [
      "4\n",
      "5\n"
     ]
    }
   ],
   "source": [
    "# We can use continue statement to ignore the iteration\n",
    "# In the following example numbers divisible by 3 gets ignorned and the next iteration will take place\n",
    "a = [3,4,5,6]\n",
    "for i in a:\n",
    "    if i % 3 == 0:\n",
    "        continue\n",
    "    print(i)\n"
   ]
  },
  {
   "cell_type": "code",
   "execution_count": 4,
   "metadata": {},
   "outputs": [
    {
     "name": "stdout",
     "output_type": "stream",
     "text": [
      "3\n",
      "4\n"
     ]
    }
   ],
   "source": [
    "# we can use break statement to terminate the loop \n",
    "# see the first time when the if encounters a number divisible by 5 it breaks the loop printing only 3 and 4\n",
    "a = [3,4,5,6,5]\n",
    "for i in a:\n",
    "    if i % 5 == 0:\n",
    "        break\n",
    "    print(i)"
   ]
  },
  {
   "cell_type": "code",
   "execution_count": 9,
   "metadata": {},
   "outputs": [
    {
     "name": "stdout",
     "output_type": "stream",
     "text": [
      "3\n",
      "4\n",
      "6\n"
     ]
    }
   ],
   "source": [
    "# nothing happens when it executes. \n",
    "# The pass statement is useful in places where your code will eventually go, but has not been written yet\n",
    "a = [3,4,5,6,5]\n",
    "for i in a:\n",
    "    if i % 5 == 0:\n",
    "        pass\n",
    "    else:\n",
    "        print(i)"
   ]
  },
  {
   "cell_type": "markdown",
   "metadata": {},
   "source": [
    "# Nested Loops"
   ]
  },
  {
   "cell_type": "code",
   "execution_count": 17,
   "metadata": {},
   "outputs": [
    {
     "name": "stdout",
     "output_type": "stream",
     "text": [
      "3\n",
      "4\n",
      "outer\n",
      "3\n",
      "4\n",
      "outer\n"
     ]
    }
   ],
   "source": [
    "# As I said earlier only the inner loop gets terminated\n",
    "a = [3,4,5,6]\n",
    "for ii in range(2):\n",
    "    for i in a:\n",
    "        if i % 5 == 0:\n",
    "            break\n",
    "        else:\n",
    "            print(i)\n",
    "    print('outer')"
   ]
  },
  {
   "cell_type": "markdown",
   "metadata": {},
   "source": [
    "# Iterators "
   ]
  },
  {
   "cell_type": "code",
   "execution_count": 24,
   "metadata": {},
   "outputs": [
    {
     "name": "stdout",
     "output_type": "stream",
     "text": [
      "good\n",
      "evening\n",
      "bro\n",
      "whatsapp\n"
     ]
    }
   ],
   "source": [
    "# for loop internally uses a built-in method called iter\n",
    "list1 = [\"good\",\"evening\",\"bro\",\"whatsapp\"]\n",
    "for i in list1:\n",
    "    print (i)"
   ]
  },
  {
   "cell_type": "code",
   "execution_count": 28,
   "metadata": {},
   "outputs": [],
   "source": [
    "iter1 = iter(list1)"
   ]
  },
  {
   "cell_type": "code",
   "execution_count": 29,
   "metadata": {},
   "outputs": [
    {
     "data": {
      "text/plain": [
       "<list_iterator at 0x2e7ba347390>"
      ]
     },
     "execution_count": 29,
     "metadata": {},
     "output_type": "execute_result"
    }
   ],
   "source": [
    "iter1"
   ]
  },
  {
   "cell_type": "code",
   "execution_count": 30,
   "metadata": {},
   "outputs": [
    {
     "data": {
      "text/plain": [
       "'good'"
      ]
     },
     "execution_count": 30,
     "metadata": {},
     "output_type": "execute_result"
    }
   ],
   "source": [
    "next(iter1)"
   ]
  },
  {
   "cell_type": "code",
   "execution_count": 31,
   "metadata": {},
   "outputs": [
    {
     "data": {
      "text/plain": [
       "'evening'"
      ]
     },
     "execution_count": 31,
     "metadata": {},
     "output_type": "execute_result"
    }
   ],
   "source": [
    "next(iter1)"
   ]
  },
  {
   "cell_type": "code",
   "execution_count": 32,
   "metadata": {},
   "outputs": [
    {
     "data": {
      "text/plain": [
       "'bro'"
      ]
     },
     "execution_count": 32,
     "metadata": {},
     "output_type": "execute_result"
    }
   ],
   "source": [
    "next(iter1)"
   ]
  },
  {
   "cell_type": "code",
   "execution_count": 33,
   "metadata": {},
   "outputs": [
    {
     "data": {
      "text/plain": [
       "'whatsapp'"
      ]
     },
     "execution_count": 33,
     "metadata": {},
     "output_type": "execute_result"
    }
   ],
   "source": [
    "next(iter1)"
   ]
  },
  {
   "cell_type": "code",
   "execution_count": 34,
   "metadata": {},
   "outputs": [
    {
     "ename": "StopIteration",
     "evalue": "",
     "output_type": "error",
     "traceback": [
      "\u001b[1;31m---------------------------------------------------------------------------\u001b[0m",
      "\u001b[1;31mStopIteration\u001b[0m                             Traceback (most recent call last)",
      "\u001b[1;32m<ipython-input-34-8c8f0eabcd70>\u001b[0m in \u001b[0;36m<module>\u001b[1;34m()\u001b[0m\n\u001b[1;32m----> 1\u001b[1;33m \u001b[0mnext\u001b[0m\u001b[1;33m(\u001b[0m\u001b[0miter1\u001b[0m\u001b[1;33m)\u001b[0m\u001b[1;33m\u001b[0m\u001b[0m\n\u001b[0m",
      "\u001b[1;31mStopIteration\u001b[0m: "
     ]
    }
   ],
   "source": [
    "# It reaches the end of the list\n",
    "next(iter1)"
   ]
  },
  {
   "cell_type": "code",
   "execution_count": null,
   "metadata": {},
   "outputs": [],
   "source": []
  }
 ],
 "metadata": {
  "kernelspec": {
   "display_name": "Python 3",
   "language": "python",
   "name": "python3"
  },
  "language_info": {
   "codemirror_mode": {
    "name": "ipython",
    "version": 3
   },
   "file_extension": ".py",
   "mimetype": "text/x-python",
   "name": "python",
   "nbconvert_exporter": "python",
   "pygments_lexer": "ipython3",
   "version": "3.6.5"
  }
 },
 "nbformat": 4,
 "nbformat_minor": 2
}
