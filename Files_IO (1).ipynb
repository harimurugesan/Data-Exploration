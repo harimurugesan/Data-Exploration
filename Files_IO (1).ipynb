{
 "cells": [
  {
   "cell_type": "markdown",
   "metadata": {},
   "source": [
    "# Opening ,Closing, Reading &Writing files"
   ]
  },
  {
   "cell_type": "code",
   "execution_count": 33,
   "metadata": {},
   "outputs": [],
   "source": [
    "# There are two parameters we need to give for reading file the file path & mode\n",
    "# \"a\" -> \"a\" mode is the append mode it adds the newcontent with the old content\n",
    "# In this mode we can only write\n",
    "fileopen = open(R\"C:\\Users\\clustrex-1\\Desktop\\file1.txt\",\"a\")\n",
    "fileopen.write(\"\\nhari\")\n",
    "fileopen.close()"
   ]
  },
  {
   "cell_type": "code",
   "execution_count": 34,
   "metadata": {},
   "outputs": [],
   "source": [
    "# \"w\" -> write only mode overwrites the existing content.\n",
    "# In this mode we can only write\n",
    "fileopen = open(R\"C:\\Users\\clustrex-1\\Desktop\\file1.txt\",\"w\")\n",
    "fileopen.write(\"money\")\n",
    "fileopen.close()"
   ]
  },
  {
   "cell_type": "code",
   "execution_count": 35,
   "metadata": {},
   "outputs": [
    {
     "name": "stdout",
     "output_type": "stream",
     "text": [
      "money\n"
     ]
    }
   ],
   "source": [
    "# \"r\" -> read only mode only reads the content\n",
    "fileopen = open(R\"C:\\Users\\Clustrex-1\\Desktop\\file1.txt\",\"r\")\n",
    "for i in fileopen:\n",
    "    print(i)\n",
    "fileopen.close()"
   ]
  },
  {
   "cell_type": "code",
   "execution_count": 37,
   "metadata": {},
   "outputs": [
    {
     "name": "stdout",
     "output_type": "stream",
     "text": [
      "money\n",
      "\n",
      "hai kishore\n"
     ]
    }
   ],
   "source": [
    "# we can read and write using r+\n",
    "fileopen = open(R\"C:\\Users\\Clustrex-1\\Desktop\\file1.txt\",\"r+\")\n",
    "fileopen.write(\"\\nhai venkat\")\n",
    "for i in fileopen:\n",
    "    print(i)\n",
    "fileopen.close()"
   ]
  },
  {
   "cell_type": "code",
   "execution_count": 38,
   "metadata": {},
   "outputs": [],
   "source": [
    "# we write using w+ also\n",
    "# the diff between r+ and w+ is, in w+ if the filename is not available it creates a newfile with the given  filename\n",
    "# whereas in r+ it reads only existing files\n",
    "fileopen = open(R\"C:\\Users\\Clustrex-1\\Desktop\\nofile.txt\",\"w+\")\n",
    "list1 = [\"hi\",\"there\",\"how\",\"are\",\"you?\"]\n",
    "for i in list1:\n",
    "    fileopen.write(\"\\n\"+i)\n",
    "fileopen.close()"
   ]
  },
  {
   "cell_type": "code",
   "execution_count": 41,
   "metadata": {},
   "outputs": [
    {
     "name": "stdout",
     "output_type": "stream",
     "text": [
      "Practice,Patient,Physician,DateOfService\n",
      "\n",
      "ABC,Kumar,Madhu,17-April-2018\n",
      "\n",
      "DEF,Jack,Gupta,18-April-2018\n",
      "\n",
      "GHI,Rushab,Anne,19-April-2018\n",
      "\n",
      "JKL,Mohid,Abraham,20-April-2018\n",
      "\n",
      "ABC,Kumar,Madhu,17-April-2018\n",
      "\n",
      "DEF,Jack,Gupta,18-April-2018\n",
      "\n",
      "GHI,Rushab,Anne,19-April-2018\n",
      "\n",
      "JKL,Mohid,Abraham,20-April-2018\n",
      "\n",
      "ABC,Bharat,Madhu,21-April-2018\n",
      "\n",
      "DEF,Emma,Gupta,22-April-2018\n",
      "\n"
     ]
    }
   ],
   "source": [
    "# It can read text files as well as csv files \n",
    "# default mode is \"r\"\n",
    "fileopen = open(R\"C:\\Users\\Clustrex-8\\Desktop\\patient.csv\")\n",
    "counter = 0\n",
    "for i in fileopen:\n",
    "    print(i)\n",
    "    if  counter == 10:\n",
    "        break\n",
    "    counter += 1\n",
    "fileopen.close()"
   ]
  },
  {
   "cell_type": "markdown",
   "metadata": {},
   "source": [
    "# Reading and writing Csv"
   ]
  },
  {
   "cell_type": "code",
   "execution_count": 42,
   "metadata": {},
   "outputs": [],
   "source": [
    "import csv"
   ]
  },
  {
   "cell_type": "code",
   "execution_count": 40,
   "metadata": {},
   "outputs": [
    {
     "name": "stdout",
     "output_type": "stream",
     "text": [
      "['Practice', 'Patient', 'Physician', 'DateOfService']\n",
      "['ABC', 'Kumar', 'Madhu', '17-April-2018']\n",
      "['DEF', 'Jack', 'Gupta', '18-April-2018']\n",
      "['GHI', 'Rushab', 'Anne', '19-April-2018']\n",
      "['JKL', 'Mohid', 'Abraham', '20-April-2018']\n",
      "['ABC', 'Kumar', 'Madhu', '17-April-2018']\n",
      "['DEF', 'Jack', 'Gupta', '18-April-2018']\n",
      "['GHI', 'Rushab', 'Anne', '19-April-2018']\n",
      "['JKL', 'Mohid', 'Abraham', '20-April-2018']\n",
      "['ABC', 'Bharat', 'Madhu', '21-April-2018']\n"
     ]
    }
   ],
   "source": [
    "#  \n",
    "\n",
    "f = open(R\"C:\\Users\\Clustrex-1\\Desktop\\patient.csv\")\n",
    "csv_f = csv.reader(f)\n",
    "\n",
    "counter = 0\n",
    "for line in csv_f:\n",
    "    print(line)\n",
    "    counter+=1\n",
    "    if counter == 10:\n",
    "        break\n",
    "f.close()"
   ]
  },
  {
   "cell_type": "code",
   "execution_count": 41,
   "metadata": {},
   "outputs": [
    {
     "name": "stdout",
     "output_type": "stream",
     "text": [
      "OrderedDict([('Practice', 'ABC'), ('Patient', 'Kumar'), ('Physician', 'Madhu'), ('DateOfService', '17-April-2018')])\n",
      "OrderedDict([('Practice', 'DEF'), ('Patient', 'Jack'), ('Physician', 'Gupta'), ('DateOfService', '18-April-2018')])\n",
      "OrderedDict([('Practice', 'GHI'), ('Patient', 'Rushab'), ('Physician', 'Anne'), ('DateOfService', '19-April-2018')])\n",
      "OrderedDict([('Practice', 'JKL'), ('Patient', 'Mohid'), ('Physician', 'Abraham'), ('DateOfService', '20-April-2018')])\n",
      "OrderedDict([('Practice', 'ABC'), ('Patient', 'Kumar'), ('Physician', 'Madhu'), ('DateOfService', '17-April-2018')])\n",
      "OrderedDict([('Practice', 'DEF'), ('Patient', 'Jack'), ('Physician', 'Gupta'), ('DateOfService', '18-April-2018')])\n",
      "OrderedDict([('Practice', 'GHI'), ('Patient', 'Rushab'), ('Physician', 'Anne'), ('DateOfService', '19-April-2018')])\n",
      "OrderedDict([('Practice', 'JKL'), ('Patient', 'Mohid'), ('Physician', 'Abraham'), ('DateOfService', '20-April-2018')])\n",
      "OrderedDict([('Practice', 'ABC'), ('Patient', 'Bharat'), ('Physician', 'Madhu'), ('DateOfService', '21-April-2018')])\n",
      "OrderedDict([('Practice', 'DEF'), ('Patient', 'Emma'), ('Physician', 'Gupta'), ('DateOfService', '22-April-2018')])\n"
     ]
    }
   ],
   "source": [
    "f = open(R\"C:\\Users\\Clustrex-1\\Desktop\\patient.csv\")\n",
    "csv_f = csv.DictReader(f)\n",
    "\n",
    "counter = 0\n",
    "for line in csv_f:\n",
    "    print(line)\n",
    "    counter+=1\n",
    "    if counter == 10:\n",
    "        break\n",
    "f.close()"
   ]
  },
  {
   "cell_type": "code",
   "execution_count": 44,
   "metadata": {},
   "outputs": [],
   "source": [
    "with open(R\"C:\\Users\\Clustrex-1\\Desktop\\patient.csv\",\"a\",newline='\\n') as f:\n",
    "    csv_writer = csv.writer(f)\n",
    "    for i in range(10):\n",
    "        csv_writer.writerow(['QQQ',\"Subbu\",\"Chandru\",\"22-june-2018\"])\n",
    "    f.close()"
   ]
  },
  {
   "cell_type": "code",
   "execution_count": 43,
   "metadata": {},
   "outputs": [],
   "source": [
    "f = open(R\"C:\\Users\\Clustrex-8\\Desktop\\patient.csv\",\"a\",newline='\\n')\n",
    "csv_writer = csv.writer(f)\n",
    "for i in range(10):\n",
    "    csv_writer.writerow(['QQQ',\"Subbu\",\"Chandru\",\"22-june-2018\"])\n",
    "f.close()"
   ]
  },
  {
   "cell_type": "code",
   "execution_count": 40,
   "metadata": {},
   "outputs": [
    {
     "data": {
      "text/plain": [
       "['ABC',\n",
       " 'April',\n",
       " 'April',\n",
       " 'Anne',\n",
       " 'April',\n",
       " 'Abraham',\n",
       " 'April',\n",
       " 'ABC',\n",
       " 'April',\n",
       " 'April',\n",
       " 'Anne',\n",
       " 'April',\n",
       " 'Abraham',\n",
       " 'April',\n",
       " 'ABC',\n",
       " 'April',\n",
       " 'April',\n",
       " 'Anne',\n",
       " 'April',\n",
       " 'Abraham',\n",
       " 'April',\n",
       " 'Abraham',\n",
       " 'April',\n",
       " 'ABC',\n",
       " 'April',\n",
       " 'Amitabh',\n",
       " 'April',\n",
       " 'Anne',\n",
       " 'April',\n",
       " 'Anne',\n",
       " 'Abraham',\n",
       " 'Abraham',\n",
       " 'ABC',\n",
       " 'Amitabh',\n",
       " 'Anne',\n",
       " 'ABC',\n",
       " 'April',\n",
       " 'April',\n",
       " 'Anne',\n",
       " 'April',\n",
       " 'Abraham',\n",
       " 'April',\n",
       " 'ABC',\n",
       " 'April',\n",
       " 'April',\n",
       " 'Anne',\n",
       " 'April',\n",
       " 'Abraham',\n",
       " 'April']"
      ]
     },
     "execution_count": 40,
     "metadata": {},
     "output_type": "execute_result"
    }
   ],
   "source": [
    "# using regex in files\n",
    "# Open file\n",
    "import re\n",
    "f = open(R\"C:\\Users\\Clustrex-8\\Desktop\\patient.csv\", 'r')\n",
    "# Feed the file text into findall(); it returns a list of all the found strings\n",
    "strings = re.findall(r'A\\w{2,6}', f.read())\n",
    "strings"
   ]
  },
  {
   "cell_type": "code",
   "execution_count": null,
   "metadata": {},
   "outputs": [],
   "source": []
  }
 ],
 "metadata": {
  "kernelspec": {
   "display_name": "Python 3",
   "language": "python",
   "name": "python3"
  },
  "language_info": {
   "codemirror_mode": {
    "name": "ipython",
    "version": 3
   },
   "file_extension": ".py",
   "mimetype": "text/x-python",
   "name": "python",
   "nbconvert_exporter": "python",
   "pygments_lexer": "ipython3",
   "version": "3.6.5"
  }
 },
 "nbformat": 4,
 "nbformat_minor": 2
}
