{
 "cells": [
  {
   "cell_type": "markdown",
   "metadata": {},
   "source": [
    " \n",
    "<p style=\"font-family: Arial; font-size:3em;color:purple; font-style:bold\"><br>\n",
    "String Fundamentals <br><br><br></p>\n",
    "\n",
    "\n"
   ]
  },
  {
   "cell_type": "markdown",
   "metadata": {},
   "source": [
    "# Basic Operations"
   ]
  },
  {
   "cell_type": "code",
   "execution_count": 44,
   "metadata": {},
   "outputs": [],
   "source": [
    "var1 = \"Vijay\" # we can create a string by enclosing characters in quotes \n",
    "var2 = 'AjithKumar' # We can create it using single('') or double quotes(\" \"). Python treats it as same\n",
    "var3 = \"he's a cricketer\" # we can use the double quotes to escape single quotes "
   ]
  },
  {
   "cell_type": "code",
   "execution_count": 19,
   "metadata": {},
   "outputs": [
    {
     "name": "stdout",
     "output_type": "stream",
     "text": [
      "5\n",
      "10\n"
     ]
    }
   ],
   "source": [
    "print(len(var1))# len function can be used to calculate the length of a string, list, tuple and dict\n",
    "print(len(var2))"
   ]
  },
  {
   "cell_type": "code",
   "execution_count": 12,
   "metadata": {},
   "outputs": [
    {
     "name": "stdout",
     "output_type": "stream",
     "text": [
      "VijayAjithKumar\n",
      "Vijay AjithKumar\n"
     ]
    }
   ],
   "source": [
    "print(var1 + var2) # use \"+\" symbol to merge or concat two strings\n",
    "print(var1 + ' '+ var2)"
   ]
  },
  {
   "cell_type": "code",
   "execution_count": 13,
   "metadata": {},
   "outputs": [
    {
     "name": "stdout",
     "output_type": "stream",
     "text": [
      "VijayVijayVijayVijayVijay\n"
     ]
    }
   ],
   "source": [
    "print(var1  * 5) # for repetition of the string use Asterix symbol"
   ]
  },
  {
   "cell_type": "markdown",
   "metadata": {},
   "source": [
    " \n",
    " # Indexing and Slicing"
   ]
  },
  {
   "cell_type": "code",
   "execution_count": 14,
   "metadata": {},
   "outputs": [
    {
     "name": "stdout",
     "output_type": "stream",
     "text": [
      "Vijay\n",
      "AjithKumar\n",
      "V\n",
      "K\n"
     ]
    }
   ],
   "source": [
    "# Characters in the string are fetched by giving position in square brackets after the string\n",
    "# The index starts from 0\n",
    "# you get one character in indexing\n",
    "print(var1)\n",
    "print(var2)\n",
    "print(var1[0])# indexing\n",
    "print(var2[5])"
   ]
  },
  {
   "cell_type": "code",
   "execution_count": 17,
   "metadata": {},
   "outputs": [
    {
     "name": "stdout",
     "output_type": "stream",
     "text": [
      "Vijay\n",
      "AjithKumar\n",
      "y\n",
      "K\n"
     ]
    }
   ],
   "source": [
    "# negative indexing\n",
    "# you can think of negative indexing as counting backwards from the end\n",
    "print(var1)\n",
    "print(var2)\n",
    "print(var1[-1])\n",
    "print(var2[-5])"
   ]
  },
  {
   "cell_type": "code",
   "execution_count": 21,
   "metadata": {},
   "outputs": [
    {
     "name": "stdout",
     "output_type": "stream",
     "text": [
      "Vijay\n",
      "AjithKumar\n",
      "Vij\n",
      "ith\n",
      "Vij\n",
      "umar\n",
      "Vijay\n"
     ]
    }
   ],
   "source": [
    "# Slicing\n",
    "# Slicing is used to extract a section from String\n",
    "print(var1)\n",
    "print(var2)\n",
    "print(var1[0:3])# It slices 0,1,2(3-1) ,it includes lower bound(left) and upperbound(right) -1\n",
    "print(var2[2:-5])\n",
    "print(var1[:3])# when nothing is given in the lowerbound(left) it takes it as 0\n",
    "print(var2[-4:])# when nothing is given in the upperbound it takes the len(var2)  as upperbound\n",
    "print(var1[:])"
   ]
  },
  {
   "cell_type": "code",
   "execution_count": 36,
   "metadata": {},
   "outputs": [
    {
     "name": "stdout",
     "output_type": "stream",
     "text": [
      "AjithKumar\n",
      "AjithKumar\n",
      "AjithKumar\n",
      "ihu\n",
      "Aihua\n",
      "Aihua\n",
      "ihua\n"
     ]
    }
   ],
   "source": [
    "# Extended Slicing\n",
    "# The third limit is optional which is used to take the values in a specific interval\n",
    "print(var2)\n",
    "print(var2[:len(var2):1])\n",
    "print(var2[:11:1])\n",
    "print(var2[2:7:2])\n",
    "print(var2[0::2])\n",
    "print(var2[::2])\n",
    "print(var2[2:-1:2])"
   ]
  },
  {
   "cell_type": "code",
   "execution_count": 31,
   "metadata": {},
   "outputs": [
    {
     "name": "stdout",
     "output_type": "stream",
     "text": [
      "Vijay\n",
      "Vijay\n",
      "yajiV\n",
      "yjV\n",
      "yi\n"
     ]
    }
   ],
   "source": [
    "print(var1)\n",
    "print(var1[::1])\n",
    "print(var1[::-1])# minus indicates slice should go from right to left\n",
    "print(var1[::-2])\n",
    "print(var1[::-3])"
   ]
  },
  {
   "cell_type": "markdown",
   "metadata": {},
   "source": [
    "# String Functions"
   ]
  },
  {
   "cell_type": "code",
   "execution_count": 92,
   "metadata": {},
   "outputs": [
    {
     "name": "stdout",
     "output_type": "stream",
     "text": [
      "vijay is a nice nice  person\n",
      "Vijay Is A Nice Nice  Person\n",
      "Vijay is a nice nice  person\n",
      "vijay is a mice mice  person\n",
      "2\n",
      "0\n",
      "11\n",
      "-1\n"
     ]
    }
   ],
   "source": [
    "# It capitalizes first letter of each word\n",
    "a = \"vijay is a nice nice  person\"\n",
    "print(a)\n",
    "print(a.title())\n",
    "print(a.capitalize())# First letter capital\n",
    "print(a.replace(\"nice\",\"mice\"))\n",
    "print(a.count('nice')) # gives count of a sub-string\n",
    "print(a.count('hari'))\n",
    "print(a.find('nice')) # returns starting position of the given string ,only takes first occurence\n",
    "print(a.find('kavi')) # if the given substring is not in the string it returns -1"
   ]
  },
  {
   "cell_type": "code",
   "execution_count": 45,
   "metadata": {},
   "outputs": [
    {
     "name": "stdout",
     "output_type": "stream",
     "text": [
      "vijay is a nice nice  person\n",
      "VIJAY IS A NICE NICE  PERSON\n",
      "vijay is a nice nice  person\n",
      "RAm\n",
      "vijay is a nice nice  person\n"
     ]
    }
   ],
   "source": [
    "print(a)\n",
    "print(a.upper())# full uppercase\n",
    "print(a.lower())# full lowercase\n",
    "print(\"raM\".swapcase())# swaps the case\n",
    "print(a.casefold()) # returns lowercase"
   ]
  },
  {
   "cell_type": "code",
   "execution_count": 54,
   "metadata": {},
   "outputs": [
    {
     "name": "stdout",
     "output_type": "stream",
     "text": [
      "True\n",
      "True\n",
      "True\n",
      "True\n",
      "True\n",
      "True\n"
     ]
    }
   ],
   "source": [
    "print(\"473\".isdigit())\n",
    "print(\"cricket\".isalpha())\n",
    "print(\"cricket\".islower())\n",
    "print('658'.isnumeric())\n",
    "print('658'.isdigit())\n",
    "print('7wonders'.isalnum())"
   ]
  },
  {
   "cell_type": "code",
   "execution_count": 81,
   "metadata": {},
   "outputs": [
    {
     "name": "stdout",
     "output_type": "stream",
     "text": [
      "vijay is a nice nice  person\n",
      "dog <class 'str'> 5 3\n",
      "dog  4\n",
      "dog 4\n",
      "['vijay', 'is', 'a', 'nice', 'nice', '', 'person']\n",
      "['what', 'is', 'this']\n"
     ]
    }
   ],
   "source": [
    "print(a)\n",
    "# It strips white spaces and returns string\n",
    "print(\" dog \".strip(),type(\" dog \".strip()),len(\" dog \"),len(\" dog \".strip()))\n",
    "print(\"    dog \".lstrip(),len(\" dog \".lstrip())) # removes left whitespaces\n",
    "print(\"dog   \".rstrip(),len(\" dog   \".rstrip())) # removes left whitespaces\n",
    "print(a.split(\" \"))# It splits the string with the given delimiter and returns list\n",
    "print(\"what/is/this\".split(\"/\"))"
   ]
  },
  {
   "cell_type": "code",
   "execution_count": 52,
   "metadata": {},
   "outputs": [
    {
     "name": "stdout",
     "output_type": "stream",
     "text": [
      "vijay is a nice nice  person\n",
      "True\n",
      "True\n",
      "True\n",
      "True\n",
      "False\n",
      "False\n"
     ]
    }
   ],
   "source": [
    "print(a)\n",
    "print(a.startswith('vijay'))\n",
    "print(a.startswith('vi'))\n",
    "print(a.endswith('person'))\n",
    "print(a.endswith('son'))\n",
    "print(a.startswith('Vijay'))\n",
    "print(a.endswith('Son'))"
   ]
  },
  {
   "cell_type": "markdown",
   "metadata": {},
   "source": [
    "# Regular expressions"
   ]
  },
  {
   "cell_type": "code",
   "execution_count": 18,
   "metadata": {},
   "outputs": [],
   "source": [
    "# \"re\" is the module for regular expressions in python\n",
    "# Regular expression are normally used to extract patterns from text\n",
    "# It is very useful for data cleaning process\n",
    "import re"
   ]
  },
  {
   "cell_type": "code",
   "execution_count": 12,
   "metadata": {},
   "outputs": [
    {
     "name": "stdout",
     "output_type": "stream",
     "text": [
      "<_sre.SRE_Match object; span=(28, 33), match='movie'>\n",
      "movie\n",
      "None\n"
     ]
    }
   ],
   "source": [
    "# \"search()\", \"findall()\" and \"sub()\" are the most common regex function\n",
    "# search() function searches for given pattern and returns an object, by using group() we get matched string\n",
    "# search only returns the first occurence of the matched pattern\n",
    "print(re.search('movie', \"Schindler's list is a great movie. It is a movie about jews\"))\n",
    "print(re.search('movie', \"Schindler's list is a great movie. It is a movie about jews\").group())\n",
    "print(re.search('movie', \"Schindler's list is a great cinema. It is a cinema about jews\"))"
   ]
  },
  {
   "cell_type": "code",
   "execution_count": 25,
   "metadata": {},
   "outputs": [
    {
     "name": "stdout",
     "output_type": "stream",
     "text": [
      "moon\n",
      "['moon', 'pen', 'sun', 'bun']\n"
     ]
    }
   ],
   "source": [
    "#find all() returns all the matched occurences in a list\n",
    "print(re.search(r'\\w+n', 'moon pen max sun dog bun box').group())\n",
    "print(re.findall(r'\\w+n', 'moon pen max sun dog bun box'))"
   ]
  },
  {
   "cell_type": "code",
   "execution_count": 13,
   "metadata": {},
   "outputs": [
    {
     "name": "stdout",
     "output_type": "stream",
     "text": [
      "['movie', 'movie']\n",
      "[]\n"
     ]
    }
   ],
   "source": [
    "# findall returns all the matched occurrences\n",
    "print(re.findall('movie', \"Schindler's list is a great movie. It is a movie about jews\"))\n",
    "print(re.findall('movie', \"Schindler's list is a great cinema. It is a cinema about jews\"))"
   ]
  },
  {
   "cell_type": "markdown",
   "metadata": {},
   "source": [
    "## + --  1 or more occurrences of the pattern to its left, e.g. 'i+' = one or more i's\n",
    "## * -- 0 or more occurrences of the pattern to its left\n",
    "## ? -- match 0 or 1 occurrences of the pattern to its left\n",
    "## d -- Matches digits. Equivalent to [0-9]\n",
    "## D -- Matches nondigits.\n",
    "## w -- Matches word characters.\n",
    "## W -- Matches nonword characters.\n",
    "## s -- Matches whitespace.\n",
    "## S -- Matches nonwhitespace."
   ]
  },
  {
   "cell_type": "code",
   "execution_count": 31,
   "metadata": {},
   "outputs": [
    {
     "name": "stdout",
     "output_type": "stream",
     "text": [
      "1 ['moon']\n",
      "2 ['']\n",
      "3 ['13131341']\n",
      "4 ['']\n",
      "5 []\n",
      "6 ['482']\n",
      "7 ['48242']\n",
      "8 ['a48242Ag']\n"
     ]
    }
   ],
   "source": [
    "print(1,re.findall(r'...n', 'moon'))# . matches any single character \n",
    "print(2,re.findall(r'\\d?', '')) # 1 or 0\n",
    "print(3,re.findall(r'\\d+', '13131341'))# 1 or more\n",
    "print(4,re.findall(r'\\d*', ''))# 0 or more\n",
    "print(5,re.findall(r'\\d', 'shdk'))\n",
    "print(6,re.findall(r'\\d\\d\\d', 'a48242g'))\n",
    "print(7,re.findall(r'\\d+', 'a48242g'))# digits\n",
    "print(8,re.findall(r'\\w+', 'a48242Ag'))# includes all word characters"
   ]
  },
  {
   "cell_type": "code",
   "execution_count": 29,
   "metadata": {},
   "outputs": [
    {
     "name": "stdout",
     "output_type": "stream",
     "text": [
      "1 ['asd', 'dssg']\n",
      "2 [' ', ' ']\n",
      "3 ['asd482', '42d', 'ssg']\n",
      "4 ['om']\n",
      "5 ['jai']\n",
      "6 ['abc']\n",
      "7 ['123']\n",
      "8 ['123']\n"
     ]
    }
   ],
   "source": [
    "print('1',re.findall(r'\\D+', 'asd48242dssg')) # non digits\n",
    "print('2',re.findall(r'\\s+', 'asd482 42d ssg'))\n",
    "print('3',re.findall(r'\\S+', 'asd482 42d ssg'))\n",
    "print('4',re.findall(r'^om','om sairam om'))\n",
    "print('5',re.findall(r'jai$','om sairam jai'))\n",
    "print('6',re.findall(r'\\w\\w\\w', '@@abcd!!'))\n",
    "print('7',re.findall(r'\\d\\s*\\d\\s*\\d', 'xx123xx'))\n",
    "print('8',re.findall(r'\\d\\s*\\d\\s*\\d', 'xx123xx'))"
   ]
  },
  {
   "cell_type": "code",
   "execution_count": null,
   "metadata": {},
   "outputs": [],
   "source": [
    "# {} curly brackets is instead of using \"+\" and \"*\" which is used to repeat any num of characters in the left\n",
    "# this can restrict the repetition\n",
    "num = \"my phone num is 424-242-2422. Don't forget to call me tomorrow\"\n",
    "print(re.findall(\"\\w{1,3}-\\w{3}-\\w{4}\",num))\n",
    "print(re.findall(\"\\d{3}-\\d{3}-\\d{4}\",num))"
   ]
  },
  {
   "cell_type": "code",
   "execution_count": 7,
   "metadata": {},
   "outputs": [
    {
     "name": "stdout",
     "output_type": "stream",
     "text": [
      "['powerpandi@gmail.com', 'rspmharimurugesan@gmail.com', 'kavi.123_cse@hotmail.com', 'raj_123babu@live.com']\n"
     ]
    }
   ],
   "source": [
    "# Here we have to check the valid email Ids \n",
    "# square brackets  eg:[abc] matches 'a' or 'b' or 'c'.\n",
    "str1 = \"powerpandi@gmail.com rspmharimurugesan@gmail.com  rakesh*//13@$guindy.in kavi.123_cse@hotmail.com   raj_123babu@live.com\"\n",
    "match = re.findall(r'[\\w.-]+@[\\w.-]+', str1)\n",
    "print(match)"
   ]
  },
  {
   "cell_type": "code",
   "execution_count": 33,
   "metadata": {},
   "outputs": [
    {
     "data": {
      "text/plain": [
       "\"Schindler's list is a great cinema. It is a cinema about jews\""
      ]
     },
     "execution_count": 33,
     "metadata": {},
     "output_type": "execute_result"
    }
   ],
   "source": [
    "# we can replace all occurrence of the the pattern using sub() function\n",
    "s1 = \"Schindler's list is a great movie. It is a movie about jews\"\n",
    "re.sub('movie','cinema',s1)"
   ]
  },
  {
   "cell_type": "markdown",
   "metadata": {},
   "source": [
    " \n",
    "# String Formatting"
   ]
  },
  {
   "cell_type": "code",
   "execution_count": 35,
   "metadata": {},
   "outputs": [
    {
     "name": "stdout",
     "output_type": "stream",
     "text": [
      "Hello, venkat!\n"
     ]
    }
   ],
   "source": [
    "# Python uses C-style string formatting to create new, formatted strings.\n",
    "\n",
    "name = \"venkat\"\n",
    "print(\"Hello, %s!\" % name) # %s -> string"
   ]
  },
  {
   "cell_type": "code",
   "execution_count": 36,
   "metadata": {},
   "outputs": [
    {
     "name": "stdout",
     "output_type": "stream",
     "text": [
      "subramani is 49 years old.\n"
     ]
    }
   ],
   "source": [
    "# To use two or more argument specifiers, use a tuple (parentheses):\n",
    "name = \"subramani\"\n",
    "age = 49\n",
    "print(\"%s is %d years old.\" % (name, age))# %d -> numbers"
   ]
  },
  {
   "cell_type": "code",
   "execution_count": 38,
   "metadata": {},
   "outputs": [
    {
     "name": "stdout",
     "output_type": "stream",
     "text": [
      "A list: [1, 2, 3]\n"
     ]
    }
   ],
   "source": [
    "# Any object which is not a string can be formatted using the %s operator as well\n",
    "mylist = [1,2,3]\n",
    "print(\"A list: %s\" % mylist)"
   ]
  },
  {
   "cell_type": "code",
   "execution_count": 42,
   "metadata": {},
   "outputs": [
    {
     "name": "stdout",
     "output_type": "stream",
     "text": [
      "Hello venkat ramani your current balance is $874.487\n"
     ]
    }
   ],
   "source": [
    "# can able to restrict num of decimal points as well\n",
    "data = (\"venkat\", \"ramani\", 874.48728472)\n",
    "format_string = \"Hello\"\n",
    "\n",
    "print(\"%s %s %s your current balance is $%.3f\"  %(format_string,data[0],data[1],data[2])) l"
   ]
  },
  {
   "cell_type": "code",
   "execution_count": 43,
   "metadata": {},
   "outputs": [
    {
     "name": "stdout",
     "output_type": "stream",
     "text": [
      "Hello venkat ramani your current balance is $53.44\n"
     ]
    }
   ],
   "source": [
    "# we can use curly brackets {} instead of %d ,%s ,%f etc.,\n",
    "data = (\"venkat\", \"ramani\", 53.44)\n",
    "format_string = \"Hello\"\n",
    "\n",
    "print(\"{} {} {} your current balance is ${}\".format(format_string,data[0],data[1],data[2]))"
   ]
  }
 ],
 "metadata": {
  "kernelspec": {
   "display_name": "Python 3",
   "language": "python",
   "name": "python3"
  },
  "language_info": {
   "codemirror_mode": {
    "name": "ipython",
    "version": 3
   },
   "file_extension": ".py",
   "mimetype": "text/x-python",
   "name": "python",
   "nbconvert_exporter": "python",
   "pygments_lexer": "ipython3",
   "version": "3.6.4"
  }
 },
 "nbformat": 4,
 "nbformat_minor": 2
}
