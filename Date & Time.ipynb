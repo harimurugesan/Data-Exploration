{
 "cells": [
  {
   "cell_type": "markdown",
   "metadata": {},
   "source": [
    "# Time Module"
   ]
  },
  {
   "cell_type": "code",
   "execution_count": 1,
   "metadata": {},
   "outputs": [],
   "source": [
    "# time module available in Python which provides functions for working with times\n",
    "import time"
   ]
  },
  {
   "cell_type": "code",
   "execution_count": 2,
   "metadata": {},
   "outputs": [
    {
     "data": {
      "text/plain": [
       "1529932310.7691936"
      ]
     },
     "execution_count": 2,
     "metadata": {},
     "output_type": "execute_result"
    }
   ],
   "source": [
    "# It returns seconds since 12:00am, January 1, 1970(epoch).\n",
    "time.time()"
   ]
  },
  {
   "cell_type": "code",
   "execution_count": 66,
   "metadata": {},
   "outputs": [
    {
     "data": {
      "text/plain": [
       "time.struct_time(tm_year=2018, tm_mon=6, tm_mday=26, tm_hour=12, tm_min=30, tm_sec=56, tm_wday=1, tm_yday=177, tm_isdst=0)"
      ]
     },
     "execution_count": 66,
     "metadata": {},
     "output_type": "execute_result"
    }
   ],
   "source": [
    "# This returns a tuple with current time and date\n",
    "time.localtime()"
   ]
  },
  {
   "cell_type": "code",
   "execution_count": 67,
   "metadata": {},
   "outputs": [
    {
     "data": {
      "text/plain": [
       "'Tue Jun 26 12:31:02 2018'"
      ]
     },
     "execution_count": 67,
     "metadata": {},
     "output_type": "execute_result"
    }
   ],
   "source": [
    "# Gives the current time and date in string format\n",
    "time.ctime()"
   ]
  },
  {
   "cell_type": "code",
   "execution_count": 68,
   "metadata": {},
   "outputs": [
    {
     "data": {
      "text/plain": [
       "('India Standard Time', 'India Daylight Time')"
      ]
     },
     "execution_count": 68,
     "metadata": {},
     "output_type": "execute_result"
    }
   ],
   "source": [
    "# Returns Timezone name\n",
    "time.tzname"
   ]
  },
  {
   "cell_type": "code",
   "execution_count": 34,
   "metadata": {},
   "outputs": [
    {
     "name": "stdout",
     "output_type": "stream",
     "text": [
      "Hello\n",
      "Dear\n",
      "Good Morning\n"
     ]
    }
   ],
   "source": [
    "# Time module is really useful in many cases where you want your program to be idle for some time\n",
    "list1 = [\"Hello\",\"Dear\",\"Good Morning\"]\n",
    "for i in list1:\n",
    "    time.sleep(10)\n",
    "    print(i)"
   ]
  },
  {
   "cell_type": "code",
   "execution_count": 1,
   "metadata": {},
   "outputs": [
    {
     "name": "stdout",
     "output_type": "stream",
     "text": [
      "this program started in Fri Jul 13 15:00:12 2018\n",
      "take a break bro.chill out!!!\n",
      "i'm playing a song for you\n"
     ]
    }
   ],
   "source": [
    "# simple break app\n",
    "import webbrowser\n",
    "import random\n",
    "import time\n",
    "break_count = 0\n",
    "total_breaks = 1\n",
    "while (break_count < total_breaks):\n",
    "    print(\"this program started in\", time.ctime())\n",
    "    time.sleep(10)\n",
    "    print(\"take a break bro.chill out!!!\")\n",
    "    time.sleep(2)\n",
    "    print(\"i'm playing a song for you\")\n",
    "    time.sleep(2)\n",
    "    web = [\"https://www.youtube.com/watch?v=5za6Rroz3bI\",\"https://www.youtube.com/watch?v=3rPEWcY6Oww&t=50s\",\"https://www.youtube.com/watch?v=k4yXQkG2s1E\",\"https://www.youtube.com/watch?v=wTgrZE9RWNY\",\"https://www.youtube.com/watch?v=RunYl3Q0SYI\",\"https://www.youtube.com/watch?v=MubpNJAMu6c\",\"https://www.youtube.com/watch?v=nCD2hj6zJEc\"]\n",
    "    webbrowser.open(random.choice(web))\n",
    "    break_count += 1"
   ]
  },
  {
   "cell_type": "markdown",
   "metadata": {},
   "source": [
    "# Datetime Module"
   ]
  },
  {
   "cell_type": "code",
   "execution_count": 15,
   "metadata": {},
   "outputs": [],
   "source": [
    "# datetime module is also very important module in dealling with dates\n",
    "import datetime"
   ]
  },
  {
   "cell_type": "code",
   "execution_count": 16,
   "metadata": {},
   "outputs": [
    {
     "data": {
      "text/plain": [
       "datetime.datetime(2018, 6, 26, 10, 38, 42, 565753)"
      ]
     },
     "execution_count": 16,
     "metadata": {},
     "output_type": "execute_result"
    }
   ],
   "source": [
    "datetime.datetime.now()"
   ]
  },
  {
   "cell_type": "code",
   "execution_count": 33,
   "metadata": {},
   "outputs": [
    {
     "name": "stdout",
     "output_type": "stream",
     "text": [
      "2018-06-26 10:44:47.729163\n",
      "2018-06-26\n",
      "26\n",
      "6\n",
      "2018\n",
      "10\n",
      "44\n",
      "Tue Jun 26 10:44:47 2018\n",
      "None\n",
      "2\n"
     ]
    }
   ],
   "source": [
    "currenttime = datetime.datetime.now()\n",
    "print(currenttime)\n",
    "print(currenttime.date())\n",
    "print(currenttime.day)\n",
    "print(currenttime.month)\n",
    "print(currenttime.year)\n",
    "print(currenttime.hour)\n",
    "print(currenttime.minute)\n",
    "print(currenttime.ctime())\n",
    "print(currenttime.tzinfo)\n",
    "print(currenttime.isoweekday())\n"
   ]
  },
  {
   "cell_type": "code",
   "execution_count": 69,
   "metadata": {},
   "outputs": [
    {
     "data": {
      "text/plain": [
       "datetime.date(1994, 9, 8)"
      ]
     },
     "execution_count": 69,
     "metadata": {},
     "output_type": "execute_result"
    }
   ],
   "source": [
    "# We can create date by using the below code\n",
    "# the format for creating dates is yyyy,mm,dd\n",
    "datetime.date(1994,9,8)"
   ]
  },
  {
   "cell_type": "code",
   "execution_count": 39,
   "metadata": {},
   "outputs": [
    {
     "data": {
      "text/plain": [
       "datetime.timedelta(8692)"
      ]
     },
     "execution_count": 39,
     "metadata": {},
     "output_type": "execute_result"
    }
   ],
   "source": [
    "# whenever you subtract two dates it returns timedelta object\n",
    "datetime.datetime.now().date() - datetime.date(1994,9,8)"
   ]
  },
  {
   "cell_type": "code",
   "execution_count": 42,
   "metadata": {},
   "outputs": [
    {
     "name": "stdout",
     "output_type": "stream",
     "text": [
      "2018-06-26\n",
      "2018-06-19\n"
     ]
    }
   ],
   "source": [
    "# Timedelta can be really handy when finding diff between twodatevalues\n",
    "print(datetime.datetime.now().date())\n",
    "print(datetime.datetime.now().date() - datetime.timedelta(7))"
   ]
  },
  {
   "cell_type": "code",
   "execution_count": 46,
   "metadata": {},
   "outputs": [
    {
     "name": "stdout",
     "output_type": "stream",
     "text": [
      "17708 days, 11:38:59.678127\n",
      "1530013139.678127\n"
     ]
    }
   ],
   "source": [
    "diff1 = datetime.datetime.now() - datetime.datetime.utcfromtimestamp(0)#epochtime\n",
    "print(diff1)\n",
    "print(diff1.total_seconds())"
   ]
  },
  {
   "cell_type": "code",
   "execution_count": 48,
   "metadata": {},
   "outputs": [
    {
     "data": {
      "text/plain": [
       "datetime.datetime(2018, 6, 26, 11, 38, 59, 678127)"
      ]
     },
     "execution_count": 48,
     "metadata": {},
     "output_type": "execute_result"
    }
   ],
   "source": [
    "datetime.datetime.utcfromtimestamp(diff1.total_seconds())"
   ]
  },
  {
   "cell_type": "code",
   "execution_count": 71,
   "metadata": {},
   "outputs": [
    {
     "name": "stdout",
     "output_type": "stream",
     "text": [
      "2018\n",
      "2018-01-26\n",
      "2018-01-26\n"
     ]
    }
   ],
   "source": [
    "# converting string to date\n",
    "date_string1 = \"january26,2018\"\n",
    "date_string2 = \"Jan26,2018\"\n",
    "date_string3 = \"jan26th,2018\"\n",
    "date1 = datetime.datetime.strptime(date_string1,\"%B%d,%Y\")\n",
    "date2 = datetime.datetime.strptime(date_string2,\"%b%d,%Y\")\n",
    "print(datetime.datetime.strftime(date1,\"%Y\")) # It is used to split the required arguments form datetime objects\n",
    "print(date1.date())\n",
    "print(date2.date())"
   ]
  },
  {
   "cell_type": "markdown",
   "metadata": {},
   "source": [
    "# Calender Module"
   ]
  },
  {
   "cell_type": "code",
   "execution_count": 74,
   "metadata": {},
   "outputs": [],
   "source": [
    "import calendar"
   ]
  },
  {
   "cell_type": "code",
   "execution_count": 76,
   "metadata": {},
   "outputs": [
    {
     "name": "stdout",
     "output_type": "stream",
     "text": [
      "     June 2018\n",
      "Mo Tu We Th Fr Sa Su\n",
      "             1  2  3\n",
      " 4  5  6  7  8  9 10\n",
      "11 12 13 14 15 16 17\n",
      "18 19 20 21 22 23 24\n",
      "25 26 27 28 29 30\n",
      "\n"
     ]
    }
   ],
   "source": [
    "print(calendar.month(2018,6))"
   ]
  },
  {
   "cell_type": "code",
   "execution_count": 82,
   "metadata": {},
   "outputs": [
    {
     "name": "stdout",
     "output_type": "stream",
     "text": [
      "                                  2018\n",
      "\n",
      "      January                   February                   March\n",
      "Mo Tu We Th Fr Sa Su      Mo Tu We Th Fr Sa Su      Mo Tu We Th Fr Sa Su\n",
      " 1  2  3  4  5  6  7                1  2  3  4                1  2  3  4\n",
      " 8  9 10 11 12 13 14       5  6  7  8  9 10 11       5  6  7  8  9 10 11\n",
      "15 16 17 18 19 20 21      12 13 14 15 16 17 18      12 13 14 15 16 17 18\n",
      "22 23 24 25 26 27 28      19 20 21 22 23 24 25      19 20 21 22 23 24 25\n",
      "29 30 31                  26 27 28                  26 27 28 29 30 31\n",
      "\n",
      "       April                      May                       June\n",
      "Mo Tu We Th Fr Sa Su      Mo Tu We Th Fr Sa Su      Mo Tu We Th Fr Sa Su\n",
      "                   1          1  2  3  4  5  6                   1  2  3\n",
      " 2  3  4  5  6  7  8       7  8  9 10 11 12 13       4  5  6  7  8  9 10\n",
      " 9 10 11 12 13 14 15      14 15 16 17 18 19 20      11 12 13 14 15 16 17\n",
      "16 17 18 19 20 21 22      21 22 23 24 25 26 27      18 19 20 21 22 23 24\n",
      "23 24 25 26 27 28 29      28 29 30 31               25 26 27 28 29 30\n",
      "30\n",
      "\n",
      "        July                     August                  September\n",
      "Mo Tu We Th Fr Sa Su      Mo Tu We Th Fr Sa Su      Mo Tu We Th Fr Sa Su\n",
      "                   1             1  2  3  4  5                      1  2\n",
      " 2  3  4  5  6  7  8       6  7  8  9 10 11 12       3  4  5  6  7  8  9\n",
      " 9 10 11 12 13 14 15      13 14 15 16 17 18 19      10 11 12 13 14 15 16\n",
      "16 17 18 19 20 21 22      20 21 22 23 24 25 26      17 18 19 20 21 22 23\n",
      "23 24 25 26 27 28 29      27 28 29 30 31            24 25 26 27 28 29 30\n",
      "30 31\n",
      "\n",
      "      October                   November                  December\n",
      "Mo Tu We Th Fr Sa Su      Mo Tu We Th Fr Sa Su      Mo Tu We Th Fr Sa Su\n",
      " 1  2  3  4  5  6  7                1  2  3  4                      1  2\n",
      " 8  9 10 11 12 13 14       5  6  7  8  9 10 11       3  4  5  6  7  8  9\n",
      "15 16 17 18 19 20 21      12 13 14 15 16 17 18      10 11 12 13 14 15 16\n",
      "22 23 24 25 26 27 28      19 20 21 22 23 24 25      17 18 19 20 21 22 23\n",
      "29 30 31                  26 27 28 29 30            24 25 26 27 28 29 30\n",
      "                                                    31\n",
      "\n"
     ]
    }
   ],
   "source": [
    "print(calendar.calendar(2018))"
   ]
  },
  {
   "cell_type": "code",
   "execution_count": 87,
   "metadata": {},
   "outputs": [
    {
     "name": "stdout",
     "output_type": "stream",
     "text": [
      "True\n",
      "True\n",
      "False\n"
     ]
    }
   ],
   "source": [
    "print(calendar.isleap(2000))\n",
    "print(calendar.isleap(2012))\n",
    "print(calendar.isleap(2018))"
   ]
  },
  {
   "cell_type": "code",
   "execution_count": null,
   "metadata": {},
   "outputs": [],
   "source": []
  }
 ],
 "metadata": {
  "kernelspec": {
   "display_name": "Python 3",
   "language": "python",
   "name": "python3"
  },
  "language_info": {
   "codemirror_mode": {
    "name": "ipython",
    "version": 3
   },
   "file_extension": ".py",
   "mimetype": "text/x-python",
   "name": "python",
   "nbconvert_exporter": "python",
   "pygments_lexer": "ipython3",
   "version": "3.6.4"
  }
 },
 "nbformat": 4,
 "nbformat_minor": 2
}
