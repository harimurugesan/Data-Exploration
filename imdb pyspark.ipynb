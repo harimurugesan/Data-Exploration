{
 "cells": [
  {
   "cell_type": "code",
   "execution_count": 1,
   "metadata": {},
   "outputs": [
    {
     "data": {
      "text/html": [
       "\n",
       "            <div>\n",
       "                <p><b>SparkSession - hive</b></p>\n",
       "                \n",
       "        <div>\n",
       "            <p><b>SparkContext</b></p>\n",
       "\n",
       "            <p><a href=\"http://10.140.0.2:4040\">Spark UI</a></p>\n",
       "\n",
       "            <dl>\n",
       "              <dt>Version</dt>\n",
       "                <dd><code>v2.2.1</code></dd>\n",
       "              <dt>Master</dt>\n",
       "                <dd><code>yarn</code></dd>\n",
       "              <dt>AppName</dt>\n",
       "                <dd><code>pyspark-shell</code></dd>\n",
       "            </dl>\n",
       "        </div>\n",
       "        \n",
       "            </div>\n",
       "        "
      ],
      "text/plain": [
       "<pyspark.sql.session.SparkSession at 0x7f98b0dad6a0>"
      ]
     },
     "execution_count": 1,
     "metadata": {},
     "output_type": "execute_result"
    }
   ],
   "source": [
    "spark"
   ]
  },
  {
   "cell_type": "code",
   "execution_count": 17,
   "metadata": {},
   "outputs": [],
   "source": [
    "from pyspark.sql.functions import *"
   ]
  },
  {
   "cell_type": "code",
   "execution_count": 32,
   "metadata": {},
   "outputs": [
    {
     "name": "stdout",
     "output_type": "stream",
     "text": [
      "+---+--------------------+--------------------+\n",
      "|_c0|                 _c1|                 _c2|\n",
      "+---+--------------------+--------------------+\n",
      "|  1|    Toy Story (1995)|Adventure|Animati...|\n",
      "|  2|      Jumanji (1995)|Adventure|Childre...|\n",
      "|  3|Grumpier Old Men ...|      Comedy|Romance|\n",
      "|  4|Waiting to Exhale...|Comedy|Drama|Romance|\n",
      "|  5|Father of the Bri...|              Comedy|\n",
      "|  6|         Heat (1995)|Action|Crime|Thri...|\n",
      "|  7|      Sabrina (1995)|      Comedy|Romance|\n",
      "|  8| Tom and Huck (1995)|  Adventure|Children|\n",
      "|  9| Sudden Death (1995)|              Action|\n",
      "| 10|    GoldenEye (1995)|Action|Adventure|...|\n",
      "| 11|American Presiden...|Comedy|Drama|Romance|\n",
      "| 12|Dracula: Dead and...|       Comedy|Horror|\n",
      "| 13|        Balto (1995)|Adventure|Animati...|\n",
      "| 14|        Nixon (1995)|               Drama|\n",
      "| 15|Cutthroat Island ...|Action|Adventure|...|\n",
      "| 16|       Casino (1995)|         Crime|Drama|\n",
      "| 17|Sense and Sensibi...|       Drama|Romance|\n",
      "| 18|   Four Rooms (1995)|              Comedy|\n",
      "| 19|Ace Ventura: When...|              Comedy|\n",
      "| 20|  Money Train (1995)|Action|Comedy|Cri...|\n",
      "+---+--------------------+--------------------+\n",
      "only showing top 20 rows\n",
      "\n"
     ]
    }
   ],
   "source": [
    "movies = spark.read.format('com.databricks.spark.csv').options(header='false', inferschema='true',delimiter = \"$\").load('movies')\n",
    "movies.show()"
   ]
  },
  {
   "cell_type": "code",
   "execution_count": 33,
   "metadata": {},
   "outputs": [],
   "source": [
    "col1 = [\"movieid\",\"title\",\"genre\"]"
   ]
  },
  {
   "cell_type": "code",
   "execution_count": 34,
   "metadata": {},
   "outputs": [
    {
     "name": "stdout",
     "output_type": "stream",
     "text": [
      "+-------+--------------------+--------------------+\n",
      "|movieid|               title|               genre|\n",
      "+-------+--------------------+--------------------+\n",
      "|      1|    Toy Story (1995)|Adventure|Animati...|\n",
      "|      2|      Jumanji (1995)|Adventure|Childre...|\n",
      "|      3|Grumpier Old Men ...|      Comedy|Romance|\n",
      "|      4|Waiting to Exhale...|Comedy|Drama|Romance|\n",
      "|      5|Father of the Bri...|              Comedy|\n",
      "|      6|         Heat (1995)|Action|Crime|Thri...|\n",
      "|      7|      Sabrina (1995)|      Comedy|Romance|\n",
      "|      8| Tom and Huck (1995)|  Adventure|Children|\n",
      "|      9| Sudden Death (1995)|              Action|\n",
      "|     10|    GoldenEye (1995)|Action|Adventure|...|\n",
      "|     11|American Presiden...|Comedy|Drama|Romance|\n",
      "|     12|Dracula: Dead and...|       Comedy|Horror|\n",
      "|     13|        Balto (1995)|Adventure|Animati...|\n",
      "|     14|        Nixon (1995)|               Drama|\n",
      "|     15|Cutthroat Island ...|Action|Adventure|...|\n",
      "|     16|       Casino (1995)|         Crime|Drama|\n",
      "|     17|Sense and Sensibi...|       Drama|Romance|\n",
      "|     18|   Four Rooms (1995)|              Comedy|\n",
      "|     19|Ace Ventura: When...|              Comedy|\n",
      "|     20|  Money Train (1995)|Action|Comedy|Cri...|\n",
      "+-------+--------------------+--------------------+\n",
      "only showing top 20 rows\n",
      "\n"
     ]
    }
   ],
   "source": [
    "movies1= movies.toDF(*col1)\n",
    "movies1.show()"
   ]
  },
  {
   "cell_type": "code",
   "execution_count": 36,
   "metadata": {},
   "outputs": [
    {
     "name": "stdout",
     "output_type": "stream",
     "text": [
      "+-----+---+---+----------+\n",
      "|  _c0|_c1|_c2|       _c3|\n",
      "+-----+---+---+----------+\n",
      "|62762|383|4.0|1351934307|\n",
      "|62762|393|2.0|1352016085|\n",
      "|62762|405|2.0|1351934948|\n",
      "|62762|410|1.5|1364629157|\n",
      "|62762|420|3.0|1351841395|\n",
      "|62762|421|2.5|1352016082|\n",
      "|62762|426|2.0|1351956544|\n",
      "|62762|428|1.5|1351934945|\n",
      "|62762|432|1.5|1351840841|\n",
      "|62762|434|4.0|1351840020|\n",
      "|62762|435|0.5|1351929703|\n",
      "|62762|440|1.5|1351931058|\n",
      "|62762|442|4.5|1351840845|\n",
      "|62762|454|4.5|1351840708|\n",
      "|62762|455|3.5|1351841397|\n",
      "|62762|457|3.5|1351837525|\n",
      "|62762|466|3.0|1351848642|\n",
      "|62762|474|3.0|1351841401|\n",
      "|62762|480|2.0|1351837468|\n",
      "|62762|485|3.5|1351929750|\n",
      "+-----+---+---+----------+\n",
      "only showing top 20 rows\n",
      "\n"
     ]
    }
   ],
   "source": [
    "ratings = spark.read.format('com.databricks.spark.csv').options(header='false', inferschema='true',delimiter = \"$\").load('ratings')\n",
    "ratings.show()"
   ]
  },
  {
   "cell_type": "code",
   "execution_count": 37,
   "metadata": {},
   "outputs": [
    {
     "data": {
      "text/plain": [
       "['_c0', '_c1', '_c2', '_c3']"
      ]
     },
     "execution_count": 37,
     "metadata": {},
     "output_type": "execute_result"
    }
   ],
   "source": [
    "ratings.columns"
   ]
  },
  {
   "cell_type": "code",
   "execution_count": 38,
   "metadata": {},
   "outputs": [
    {
     "data": {
      "text/plain": [
       "138493"
      ]
     },
     "execution_count": 38,
     "metadata": {},
     "output_type": "execute_result"
    }
   ],
   "source": [
    "ratings.select(\"_c0\").distinct().count()"
   ]
  },
  {
   "cell_type": "code",
   "execution_count": 39,
   "metadata": {},
   "outputs": [
    {
     "data": {
      "text/plain": [
       "26744"
      ]
     },
     "execution_count": 39,
     "metadata": {},
     "output_type": "execute_result"
    }
   ],
   "source": [
    "ratings.select(\"_c1\").distinct().count()"
   ]
  },
  {
   "cell_type": "code",
   "execution_count": 40,
   "metadata": {},
   "outputs": [],
   "source": [
    "col2 = [\"userid\",\"movieid\",\"rating\",\"timestamp\"]"
   ]
  },
  {
   "cell_type": "code",
   "execution_count": 41,
   "metadata": {},
   "outputs": [
    {
     "name": "stdout",
     "output_type": "stream",
     "text": [
      "+------+-------+------+----------+\n",
      "|userid|movieid|rating| timestamp|\n",
      "+------+-------+------+----------+\n",
      "| 62762|    383|   4.0|1351934307|\n",
      "| 62762|    393|   2.0|1352016085|\n",
      "| 62762|    405|   2.0|1351934948|\n",
      "| 62762|    410|   1.5|1364629157|\n",
      "| 62762|    420|   3.0|1351841395|\n",
      "| 62762|    421|   2.5|1352016082|\n",
      "| 62762|    426|   2.0|1351956544|\n",
      "| 62762|    428|   1.5|1351934945|\n",
      "| 62762|    432|   1.5|1351840841|\n",
      "| 62762|    434|   4.0|1351840020|\n",
      "| 62762|    435|   0.5|1351929703|\n",
      "| 62762|    440|   1.5|1351931058|\n",
      "| 62762|    442|   4.5|1351840845|\n",
      "| 62762|    454|   4.5|1351840708|\n",
      "| 62762|    455|   3.5|1351841397|\n",
      "| 62762|    457|   3.5|1351837525|\n",
      "| 62762|    466|   3.0|1351848642|\n",
      "| 62762|    474|   3.0|1351841401|\n",
      "| 62762|    480|   2.0|1351837468|\n",
      "| 62762|    485|   3.5|1351929750|\n",
      "+------+-------+------+----------+\n",
      "only showing top 20 rows\n",
      "\n"
     ]
    }
   ],
   "source": [
    "ratings1 = ratings.toDF(*col2)\n",
    "ratings1.show()"
   ]
  },
  {
   "cell_type": "code",
   "execution_count": 42,
   "metadata": {},
   "outputs": [
    {
     "name": "stdout",
     "output_type": "stream",
     "text": [
      "+-------+--------------------+--------------------+----+\n",
      "|movieid|               title|               genre|year|\n",
      "+-------+--------------------+--------------------+----+\n",
      "|      1|    Toy Story (1995)|Adventure|Animati...|1995|\n",
      "|      2|      Jumanji (1995)|Adventure|Childre...|1995|\n",
      "|      3|Grumpier Old Men ...|      Comedy|Romance|1995|\n",
      "|      4|Waiting to Exhale...|Comedy|Drama|Romance|1995|\n",
      "|      5|Father of the Bri...|              Comedy|1995|\n",
      "|      6|         Heat (1995)|Action|Crime|Thri...|1995|\n",
      "|      7|      Sabrina (1995)|      Comedy|Romance|1995|\n",
      "|      8| Tom and Huck (1995)|  Adventure|Children|1995|\n",
      "|      9| Sudden Death (1995)|              Action|1995|\n",
      "|     10|    GoldenEye (1995)|Action|Adventure|...|1995|\n",
      "|     11|American Presiden...|Comedy|Drama|Romance|1995|\n",
      "|     12|Dracula: Dead and...|       Comedy|Horror|1995|\n",
      "|     13|        Balto (1995)|Adventure|Animati...|1995|\n",
      "|     14|        Nixon (1995)|               Drama|1995|\n",
      "|     15|Cutthroat Island ...|Action|Adventure|...|1995|\n",
      "|     16|       Casino (1995)|         Crime|Drama|1995|\n",
      "|     17|Sense and Sensibi...|       Drama|Romance|1995|\n",
      "|     18|   Four Rooms (1995)|              Comedy|1995|\n",
      "|     19|Ace Ventura: When...|              Comedy|1995|\n",
      "|     20|  Money Train (1995)|Action|Comedy|Cri...|1995|\n",
      "+-------+--------------------+--------------------+----+\n",
      "only showing top 20 rows\n",
      "\n"
     ]
    }
   ],
   "source": [
    "movies2 = movies1.withColumn('year', regexp_extract(col('title'),\"\\d{4}\",0))\n",
    "movies2.show()"
   ]
  },
  {
   "cell_type": "code",
   "execution_count": 43,
   "metadata": {},
   "outputs": [
    {
     "name": "stdout",
     "output_type": "stream",
     "text": [
      "+-------+-----+\n",
      "|movieid|count|\n",
      "+-------+-----+\n",
      "|   1580|35580|\n",
      "|   3175|13945|\n",
      "|   1088|11013|\n",
      "|    471|11268|\n",
      "|   1645|11458|\n",
      "|   2366| 6627|\n",
      "|   3997| 2047|\n",
      "|   6620| 3678|\n",
      "|   8638| 3449|\n",
      "|   1238| 3194|\n",
      "|   1959| 5016|\n",
      "|   2142| 2154|\n",
      "|   1591| 5255|\n",
      "|  32460|  291|\n",
      "|   1342| 3289|\n",
      "|   2122| 2398|\n",
      "|   3918| 1246|\n",
      "|   4519| 1936|\n",
      "|    148|  357|\n",
      "|    833| 1427|\n",
      "+-------+-----+\n",
      "only showing top 20 rows\n",
      "\n"
     ]
    }
   ],
   "source": [
    "ratingcount = ratings1.groupby(\"movieid\").count()\n",
    "ratingcount.show()"
   ]
  },
  {
   "cell_type": "code",
   "execution_count": 44,
   "metadata": {},
   "outputs": [
    {
     "name": "stdout",
     "output_type": "stream",
     "text": [
      "+-------+----------+\n",
      "|movieid|avg_rating|\n",
      "+-------+----------+\n",
      "|  44022|      3.33|\n",
      "|  54190|      3.67|\n",
      "|  33722|      3.53|\n",
      "|  36525|      3.48|\n",
      "|  57370|       2.8|\n",
      "|  40574|      2.89|\n",
      "|  47084|      3.75|\n",
      "|  34234|       2.0|\n",
      "|  41575|      2.88|\n",
      "|  63645|      3.68|\n",
      "|  64519|       3.5|\n",
      "|  46952|      3.33|\n",
      "|  58061|       4.0|\n",
      "|  53963|       2.7|\n",
      "|  47501|      3.13|\n",
      "|  63271|       2.0|\n",
      "|   1088|      3.21|\n",
      "|   1580|      3.56|\n",
      "|   1645|      3.48|\n",
      "|   3175|       3.6|\n",
      "+-------+----------+\n",
      "only showing top 20 rows\n",
      "\n"
     ]
    }
   ],
   "source": [
    "avgrating = ratings1.groupby(\"movieid\").agg(avg(\"rating\")).withColumnRenamed(\"avg(rating)\",\"rating\").withColumn(\"avg_rating\",round(col('rating'), 2)).drop(\"rating\")\n",
    "avgrating.show()"
   ]
  },
  {
   "cell_type": "code",
   "execution_count": 45,
   "metadata": {},
   "outputs": [
    {
     "name": "stdout",
     "output_type": "stream",
     "text": [
      "+-------+--------------------+--------------------+----+----------+\n",
      "|movieid|               title|               genre|year|avg_rating|\n",
      "+-------+--------------------+--------------------+----+----------+\n",
      "|  44022|Ice Age 2: The Me...|Adventure|Animati...|2006|      3.33|\n",
      "|  54190|Across the Univer...|Drama|Fantasy|Mus...|2007|      3.67|\n",
      "|  33722|Ladies in Lavende...|Comedy|Drama|Romance|2004|      3.53|\n",
      "|  36525|Just Like Heaven ...|Comedy|Fantasy|Ro...|2005|      3.48|\n",
      "|  57370|    Mad Money (2008)|Comedy|Crime|Thri...|2008|       2.8|\n",
      "|  40574|Get Rich or Die T...|  Action|Crime|Drama|2005|      2.89|\n",
      "|  47084|Live and Become (...|               Drama|2005|      3.75|\n",
      "|  34234|Pornography (Porn...|   Drama|Romance|War|2003|       2.0|\n",
      "|  41575|Promise, The (Wu ...|Action|Drama|Fantasy|2005|      2.88|\n",
      "|  63645|Free Will, The (F...|         Crime|Drama|2006|      3.68|\n",
      "|  64519|    Boomerang (1947)|Crime|Drama|Film-...|1947|       3.5|\n",
      "|  46952|Wrong Side Up (Pr...|        Comedy|Drama|2005|      3.33|\n",
      "|  58061|    Four Sons (1928)|               Drama|1928|       4.0|\n",
      "|  53963|Clubland (a.k.a. ...|        Comedy|Drama|2007|       2.7|\n",
      "|  47501|Tol'able David (1...|               Drama|1921|      3.13|\n",
      "|  63271| Gold Raiders (1951)|      Comedy|Western|1951|       2.0|\n",
      "|   1088|Dirty Dancing (1987)|Drama|Musical|Rom...|1987|      3.21|\n",
      "|   1580|Men in Black (a.k...|Action|Comedy|Sci-Fi|1997|      3.56|\n",
      "|   1645|Devil's Advocate,...|Drama|Mystery|Thr...|1997|      3.48|\n",
      "|   3175| Galaxy Quest (1999)|Adventure|Comedy|...|1999|       3.6|\n",
      "+-------+--------------------+--------------------+----+----------+\n",
      "only showing top 20 rows\n",
      "\n"
     ]
    }
   ],
   "source": [
    "movies3 = movies2.join(avgrating,how = \"inner\",on=\"movieid\")\n",
    "movies3.show()"
   ]
  },
  {
   "cell_type": "code",
   "execution_count": 46,
   "metadata": {},
   "outputs": [
    {
     "name": "stdout",
     "output_type": "stream",
     "text": [
      "+-------+--------------------+--------------------+----+----------+-----+\n",
      "|movieid|               title|               genre|year|avg_rating|count|\n",
      "+-------+--------------------+--------------------+----+----------+-----+\n",
      "|    148|Awfully Big Adven...|               Drama|1995|      2.89|  357|\n",
      "|    463|Guilty as Sin (1993)|Crime|Drama|Thriller|1993|       2.8|  410|\n",
      "|    471|Hudsucker Proxy, ...|              Comedy|1994|      3.66|11268|\n",
      "|    496|What Happened Was...|Comedy|Drama|Roma...|1994|      3.29|  413|\n",
      "|    833|High School High ...|              Comedy|1996|      2.73| 1427|\n",
      "|   1088|Dirty Dancing (1987)|Drama|Musical|Rom...|1987|      3.21|11013|\n",
      "|   1238|   Local Hero (1983)|              Comedy|1983|      3.97| 3194|\n",
      "|   1342|     Candyman (1992)|     Horror|Thriller|1992|      2.95| 3289|\n",
      "|   1580|Men in Black (a.k...|Action|Comedy|Sci-Fi|1997|      3.56|35580|\n",
      "|   1591|        Spawn (1997)|Action|Adventure|...|1997|      2.62| 5255|\n",
      "|   1645|Devil's Advocate,...|Drama|Mystery|Thr...|1997|      3.48|11458|\n",
      "|   1829|  Chinese Box (1997)|       Drama|Romance|1997|      3.09|  278|\n",
      "|   1959|Out of Africa (1985)|       Drama|Romance|1985|      3.63| 5016|\n",
      "|   2122|Children of the C...|     Horror|Thriller|1984|       2.6| 2398|\n",
      "|   2142|American Tail: Fi...|Adventure|Animati...|1991|      2.99| 2154|\n",
      "|   2366|    King Kong (1933)|Action|Adventure|...|1933|      3.55| 6627|\n",
      "|   2659|It Came from Holl...|  Comedy|Documentary|1982|      3.23|  260|\n",
      "|   2866|Buddy Holly Story...|               Drama|1978|      3.61| 1407|\n",
      "|   3175| Galaxy Quest (1999)|Adventure|Comedy|...|1999|       3.6|13945|\n",
      "|   3749|Time Regained (Te...|               Drama|1999|      3.26|  130|\n",
      "+-------+--------------------+--------------------+----+----------+-----+\n",
      "only showing top 20 rows\n",
      "\n"
     ]
    }
   ],
   "source": [
    "movies4 = movies3.join(ratingcount,how = \"inner\",on=\"movieid\")\n",
    "movies4.show()"
   ]
  },
  {
   "cell_type": "code",
   "execution_count": null,
   "metadata": {},
   "outputs": [],
   "source": []
  }
 ],
 "metadata": {
  "kernelspec": {
   "display_name": "PySpark",
   "language": "python",
   "name": "pyspark"
  },
  "language_info": {
   "codemirror_mode": {
    "name": "ipython",
    "version": 3
   },
   "file_extension": ".py",
   "mimetype": "text/x-python",
   "name": "python",
   "nbconvert_exporter": "python",
   "pygments_lexer": "ipython3",
   "version": "3.7.0"
  }
 },
 "nbformat": 4,
 "nbformat_minor": 2
}
