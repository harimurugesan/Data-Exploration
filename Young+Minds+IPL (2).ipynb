{
 "cells": [
  {
   "cell_type": "code",
   "execution_count": 2,
   "metadata": {
    "collapsed": true
   },
   "outputs": [],
   "source": [
    "import numpy as np \n",
    "import pandas as pd\n",
    "import matplotlib.pyplot as plt \n",
    "import seaborn as sns"
   ]
  },
  {
   "cell_type": "code",
   "execution_count": 3,
   "metadata": {
    "collapsed": true
   },
   "outputs": [
    {
     "data": {
      "text/html": [
       "<div>\n",
       "<style scoped>\n",
       "    .dataframe tbody tr th:only-of-type {\n",
       "        vertical-align: middle;\n",
       "    }\n",
       "\n",
       "    .dataframe tbody tr th {\n",
       "        vertical-align: top;\n",
       "    }\n",
       "\n",
       "    .dataframe thead th {\n",
       "        text-align: right;\n",
       "    }\n",
       "</style>\n",
       "<table border=\"1\" class=\"dataframe\">\n",
       "  <thead>\n",
       "    <tr style=\"text-align: right;\">\n",
       "      <th></th>\n",
       "      <th>id</th>\n",
       "      <th>season</th>\n",
       "      <th>city</th>\n",
       "      <th>date</th>\n",
       "      <th>team1</th>\n",
       "      <th>team2</th>\n",
       "      <th>toss_winner</th>\n",
       "      <th>toss_decision</th>\n",
       "      <th>result</th>\n",
       "      <th>dl_applied</th>\n",
       "      <th>winner</th>\n",
       "      <th>win_by_runs</th>\n",
       "      <th>win_by_wickets</th>\n",
       "      <th>player_of_match</th>\n",
       "      <th>venue</th>\n",
       "      <th>umpire1</th>\n",
       "      <th>umpire2</th>\n",
       "      <th>umpire3</th>\n",
       "    </tr>\n",
       "  </thead>\n",
       "  <tbody>\n",
       "    <tr>\n",
       "      <th>0</th>\n",
       "      <td>1</td>\n",
       "      <td>2017</td>\n",
       "      <td>Hyderabad</td>\n",
       "      <td>2017-04-05</td>\n",
       "      <td>Sunrisers Hyderabad</td>\n",
       "      <td>Royal Challengers Bangalore</td>\n",
       "      <td>Royal Challengers Bangalore</td>\n",
       "      <td>field</td>\n",
       "      <td>normal</td>\n",
       "      <td>0</td>\n",
       "      <td>Sunrisers Hyderabad</td>\n",
       "      <td>35</td>\n",
       "      <td>0</td>\n",
       "      <td>Yuvraj Singh</td>\n",
       "      <td>Rajiv Gandhi International Stadium, Uppal</td>\n",
       "      <td>AY Dandekar</td>\n",
       "      <td>NJ Llong</td>\n",
       "      <td>NaN</td>\n",
       "    </tr>\n",
       "    <tr>\n",
       "      <th>1</th>\n",
       "      <td>2</td>\n",
       "      <td>2017</td>\n",
       "      <td>Pune</td>\n",
       "      <td>2017-04-06</td>\n",
       "      <td>Mumbai Indians</td>\n",
       "      <td>Rising Pune Supergiant</td>\n",
       "      <td>Rising Pune Supergiant</td>\n",
       "      <td>field</td>\n",
       "      <td>normal</td>\n",
       "      <td>0</td>\n",
       "      <td>Rising Pune Supergiant</td>\n",
       "      <td>0</td>\n",
       "      <td>7</td>\n",
       "      <td>SPD Smith</td>\n",
       "      <td>Maharashtra Cricket Association Stadium</td>\n",
       "      <td>A Nand Kishore</td>\n",
       "      <td>S Ravi</td>\n",
       "      <td>NaN</td>\n",
       "    </tr>\n",
       "    <tr>\n",
       "      <th>2</th>\n",
       "      <td>3</td>\n",
       "      <td>2017</td>\n",
       "      <td>Rajkot</td>\n",
       "      <td>2017-04-07</td>\n",
       "      <td>Gujarat Lions</td>\n",
       "      <td>Kolkata Knight Riders</td>\n",
       "      <td>Kolkata Knight Riders</td>\n",
       "      <td>field</td>\n",
       "      <td>normal</td>\n",
       "      <td>0</td>\n",
       "      <td>Kolkata Knight Riders</td>\n",
       "      <td>0</td>\n",
       "      <td>10</td>\n",
       "      <td>CA Lynn</td>\n",
       "      <td>Saurashtra Cricket Association Stadium</td>\n",
       "      <td>Nitin Menon</td>\n",
       "      <td>CK Nandan</td>\n",
       "      <td>NaN</td>\n",
       "    </tr>\n",
       "    <tr>\n",
       "      <th>3</th>\n",
       "      <td>4</td>\n",
       "      <td>2017</td>\n",
       "      <td>Indore</td>\n",
       "      <td>2017-04-08</td>\n",
       "      <td>Rising Pune Supergiant</td>\n",
       "      <td>Kings XI Punjab</td>\n",
       "      <td>Kings XI Punjab</td>\n",
       "      <td>field</td>\n",
       "      <td>normal</td>\n",
       "      <td>0</td>\n",
       "      <td>Kings XI Punjab</td>\n",
       "      <td>0</td>\n",
       "      <td>6</td>\n",
       "      <td>GJ Maxwell</td>\n",
       "      <td>Holkar Cricket Stadium</td>\n",
       "      <td>AK Chaudhary</td>\n",
       "      <td>C Shamshuddin</td>\n",
       "      <td>NaN</td>\n",
       "    </tr>\n",
       "    <tr>\n",
       "      <th>4</th>\n",
       "      <td>5</td>\n",
       "      <td>2017</td>\n",
       "      <td>Bangalore</td>\n",
       "      <td>2017-04-08</td>\n",
       "      <td>Royal Challengers Bangalore</td>\n",
       "      <td>Delhi Daredevils</td>\n",
       "      <td>Royal Challengers Bangalore</td>\n",
       "      <td>bat</td>\n",
       "      <td>normal</td>\n",
       "      <td>0</td>\n",
       "      <td>Royal Challengers Bangalore</td>\n",
       "      <td>15</td>\n",
       "      <td>0</td>\n",
       "      <td>KM Jadhav</td>\n",
       "      <td>M Chinnaswamy Stadium</td>\n",
       "      <td>NaN</td>\n",
       "      <td>NaN</td>\n",
       "      <td>NaN</td>\n",
       "    </tr>\n",
       "  </tbody>\n",
       "</table>\n",
       "</div>"
      ],
      "text/plain": [
       "   id  season       city        date                        team1  \\\n",
       "0   1    2017  Hyderabad  2017-04-05          Sunrisers Hyderabad   \n",
       "1   2    2017       Pune  2017-04-06               Mumbai Indians   \n",
       "2   3    2017     Rajkot  2017-04-07                Gujarat Lions   \n",
       "3   4    2017     Indore  2017-04-08       Rising Pune Supergiant   \n",
       "4   5    2017  Bangalore  2017-04-08  Royal Challengers Bangalore   \n",
       "\n",
       "                         team2                  toss_winner toss_decision  \\\n",
       "0  Royal Challengers Bangalore  Royal Challengers Bangalore         field   \n",
       "1       Rising Pune Supergiant       Rising Pune Supergiant         field   \n",
       "2        Kolkata Knight Riders        Kolkata Knight Riders         field   \n",
       "3              Kings XI Punjab              Kings XI Punjab         field   \n",
       "4             Delhi Daredevils  Royal Challengers Bangalore           bat   \n",
       "\n",
       "   result  dl_applied                       winner  win_by_runs  \\\n",
       "0  normal           0          Sunrisers Hyderabad           35   \n",
       "1  normal           0       Rising Pune Supergiant            0   \n",
       "2  normal           0        Kolkata Knight Riders            0   \n",
       "3  normal           0              Kings XI Punjab            0   \n",
       "4  normal           0  Royal Challengers Bangalore           15   \n",
       "\n",
       "   win_by_wickets player_of_match                                      venue  \\\n",
       "0               0    Yuvraj Singh  Rajiv Gandhi International Stadium, Uppal   \n",
       "1               7       SPD Smith    Maharashtra Cricket Association Stadium   \n",
       "2              10         CA Lynn     Saurashtra Cricket Association Stadium   \n",
       "3               6      GJ Maxwell                     Holkar Cricket Stadium   \n",
       "4               0       KM Jadhav                      M Chinnaswamy Stadium   \n",
       "\n",
       "          umpire1        umpire2  umpire3  \n",
       "0     AY Dandekar       NJ Llong      NaN  \n",
       "1  A Nand Kishore         S Ravi      NaN  \n",
       "2     Nitin Menon      CK Nandan      NaN  \n",
       "3    AK Chaudhary  C Shamshuddin      NaN  \n",
       "4             NaN            NaN      NaN  "
      ]
     },
     "execution_count": 3,
     "metadata": {},
     "output_type": "execute_result"
    }
   ],
   "source": [
    "matches_2 = pd.read_csv(R'D:\\python files\\pandas exercise\\working file\\new_ipl\\matches.csv')\n",
    "matches_2.head()"
   ]
  },
  {
   "cell_type": "code",
   "execution_count": 4,
   "metadata": {
    "collapsed": true
   },
   "outputs": [
    {
     "data": {
      "text/html": [
       "<div>\n",
       "<style scoped>\n",
       "    .dataframe tbody tr th:only-of-type {\n",
       "        vertical-align: middle;\n",
       "    }\n",
       "\n",
       "    .dataframe tbody tr th {\n",
       "        vertical-align: top;\n",
       "    }\n",
       "\n",
       "    .dataframe thead th {\n",
       "        text-align: right;\n",
       "    }\n",
       "</style>\n",
       "<table border=\"1\" class=\"dataframe\">\n",
       "  <thead>\n",
       "    <tr style=\"text-align: right;\">\n",
       "      <th></th>\n",
       "      <th>match_id</th>\n",
       "      <th>inning</th>\n",
       "      <th>batting_team</th>\n",
       "      <th>bowling_team</th>\n",
       "      <th>over</th>\n",
       "      <th>ball</th>\n",
       "      <th>batsman</th>\n",
       "      <th>non_striker</th>\n",
       "      <th>bowler</th>\n",
       "      <th>is_super_over</th>\n",
       "      <th>...</th>\n",
       "      <th>bye_runs</th>\n",
       "      <th>legbye_runs</th>\n",
       "      <th>noball_runs</th>\n",
       "      <th>penalty_runs</th>\n",
       "      <th>batsman_runs</th>\n",
       "      <th>extra_runs</th>\n",
       "      <th>total_runs</th>\n",
       "      <th>player_dismissed</th>\n",
       "      <th>dismissal_kind</th>\n",
       "      <th>fielder</th>\n",
       "    </tr>\n",
       "  </thead>\n",
       "  <tbody>\n",
       "    <tr>\n",
       "      <th>0</th>\n",
       "      <td>1</td>\n",
       "      <td>1</td>\n",
       "      <td>Sunrisers Hyderabad</td>\n",
       "      <td>Royal Challengers Bangalore</td>\n",
       "      <td>1</td>\n",
       "      <td>1</td>\n",
       "      <td>DA Warner</td>\n",
       "      <td>S Dhawan</td>\n",
       "      <td>TS Mills</td>\n",
       "      <td>0</td>\n",
       "      <td>...</td>\n",
       "      <td>0</td>\n",
       "      <td>0</td>\n",
       "      <td>0</td>\n",
       "      <td>0</td>\n",
       "      <td>0</td>\n",
       "      <td>0</td>\n",
       "      <td>0</td>\n",
       "      <td>NaN</td>\n",
       "      <td>NaN</td>\n",
       "      <td>NaN</td>\n",
       "    </tr>\n",
       "    <tr>\n",
       "      <th>1</th>\n",
       "      <td>1</td>\n",
       "      <td>1</td>\n",
       "      <td>Sunrisers Hyderabad</td>\n",
       "      <td>Royal Challengers Bangalore</td>\n",
       "      <td>1</td>\n",
       "      <td>2</td>\n",
       "      <td>DA Warner</td>\n",
       "      <td>S Dhawan</td>\n",
       "      <td>TS Mills</td>\n",
       "      <td>0</td>\n",
       "      <td>...</td>\n",
       "      <td>0</td>\n",
       "      <td>0</td>\n",
       "      <td>0</td>\n",
       "      <td>0</td>\n",
       "      <td>0</td>\n",
       "      <td>0</td>\n",
       "      <td>0</td>\n",
       "      <td>NaN</td>\n",
       "      <td>NaN</td>\n",
       "      <td>NaN</td>\n",
       "    </tr>\n",
       "    <tr>\n",
       "      <th>2</th>\n",
       "      <td>1</td>\n",
       "      <td>1</td>\n",
       "      <td>Sunrisers Hyderabad</td>\n",
       "      <td>Royal Challengers Bangalore</td>\n",
       "      <td>1</td>\n",
       "      <td>3</td>\n",
       "      <td>DA Warner</td>\n",
       "      <td>S Dhawan</td>\n",
       "      <td>TS Mills</td>\n",
       "      <td>0</td>\n",
       "      <td>...</td>\n",
       "      <td>0</td>\n",
       "      <td>0</td>\n",
       "      <td>0</td>\n",
       "      <td>0</td>\n",
       "      <td>4</td>\n",
       "      <td>0</td>\n",
       "      <td>4</td>\n",
       "      <td>NaN</td>\n",
       "      <td>NaN</td>\n",
       "      <td>NaN</td>\n",
       "    </tr>\n",
       "    <tr>\n",
       "      <th>3</th>\n",
       "      <td>1</td>\n",
       "      <td>1</td>\n",
       "      <td>Sunrisers Hyderabad</td>\n",
       "      <td>Royal Challengers Bangalore</td>\n",
       "      <td>1</td>\n",
       "      <td>4</td>\n",
       "      <td>DA Warner</td>\n",
       "      <td>S Dhawan</td>\n",
       "      <td>TS Mills</td>\n",
       "      <td>0</td>\n",
       "      <td>...</td>\n",
       "      <td>0</td>\n",
       "      <td>0</td>\n",
       "      <td>0</td>\n",
       "      <td>0</td>\n",
       "      <td>0</td>\n",
       "      <td>0</td>\n",
       "      <td>0</td>\n",
       "      <td>NaN</td>\n",
       "      <td>NaN</td>\n",
       "      <td>NaN</td>\n",
       "    </tr>\n",
       "    <tr>\n",
       "      <th>4</th>\n",
       "      <td>1</td>\n",
       "      <td>1</td>\n",
       "      <td>Sunrisers Hyderabad</td>\n",
       "      <td>Royal Challengers Bangalore</td>\n",
       "      <td>1</td>\n",
       "      <td>5</td>\n",
       "      <td>DA Warner</td>\n",
       "      <td>S Dhawan</td>\n",
       "      <td>TS Mills</td>\n",
       "      <td>0</td>\n",
       "      <td>...</td>\n",
       "      <td>0</td>\n",
       "      <td>0</td>\n",
       "      <td>0</td>\n",
       "      <td>0</td>\n",
       "      <td>0</td>\n",
       "      <td>2</td>\n",
       "      <td>2</td>\n",
       "      <td>NaN</td>\n",
       "      <td>NaN</td>\n",
       "      <td>NaN</td>\n",
       "    </tr>\n",
       "  </tbody>\n",
       "</table>\n",
       "<p>5 rows × 21 columns</p>\n",
       "</div>"
      ],
      "text/plain": [
       "   match_id  inning         batting_team                 bowling_team  over  \\\n",
       "0         1       1  Sunrisers Hyderabad  Royal Challengers Bangalore     1   \n",
       "1         1       1  Sunrisers Hyderabad  Royal Challengers Bangalore     1   \n",
       "2         1       1  Sunrisers Hyderabad  Royal Challengers Bangalore     1   \n",
       "3         1       1  Sunrisers Hyderabad  Royal Challengers Bangalore     1   \n",
       "4         1       1  Sunrisers Hyderabad  Royal Challengers Bangalore     1   \n",
       "\n",
       "   ball    batsman non_striker    bowler  is_super_over   ...    bye_runs  \\\n",
       "0     1  DA Warner    S Dhawan  TS Mills              0   ...           0   \n",
       "1     2  DA Warner    S Dhawan  TS Mills              0   ...           0   \n",
       "2     3  DA Warner    S Dhawan  TS Mills              0   ...           0   \n",
       "3     4  DA Warner    S Dhawan  TS Mills              0   ...           0   \n",
       "4     5  DA Warner    S Dhawan  TS Mills              0   ...           0   \n",
       "\n",
       "   legbye_runs  noball_runs  penalty_runs  batsman_runs  extra_runs  \\\n",
       "0            0            0             0             0           0   \n",
       "1            0            0             0             0           0   \n",
       "2            0            0             0             4           0   \n",
       "3            0            0             0             0           0   \n",
       "4            0            0             0             0           2   \n",
       "\n",
       "   total_runs  player_dismissed dismissal_kind fielder  \n",
       "0           0               NaN            NaN     NaN  \n",
       "1           0               NaN            NaN     NaN  \n",
       "2           4               NaN            NaN     NaN  \n",
       "3           0               NaN            NaN     NaN  \n",
       "4           2               NaN            NaN     NaN  \n",
       "\n",
       "[5 rows x 21 columns]"
      ]
     },
     "execution_count": 4,
     "metadata": {},
     "output_type": "execute_result"
    }
   ],
   "source": [
    "deliveries_2 = pd.read_csv(R'D:\\python files\\pandas exercise\\working file\\new_ipl\\deliveries.csv')\n",
    "deliveries_2.head()"
   ]
  },
  {
   "cell_type": "code",
   "execution_count": null,
   "metadata": {
    "collapsed": true
   },
   "outputs": [],
   "source": [
    "for i in range(len(matches_2)):\n",
    "    set1 = []\n",
    "    set2 = []\n",
    "    set1 = set(set1)\n",
    "    set2 = set(set2)\n",
    "    set1.update([matches_2['team1'][i],matches_2['team2'][i]])\n",
    "    set2.update([matches_2['winner'][i]])\n",
    "    matches_2.loser[i] = list(set1 -set2)[0]\n",
    "    "
   ]
  },
  {
   "cell_type": "code",
   "execution_count": 4,
   "metadata": {
    "collapsed": true
   },
   "outputs": [
    {
     "name": "stdout",
     "output_type": "stream",
     "text": [
      "Total matches_2: 636\n",
      " \n",
      " Venues Played : ['Hyderabad' 'Pune' 'Rajkot' 'Indore' 'Bangalore' 'Mumbai' 'Kolkata'\n",
      " 'Delhi' 'Chandigarh' 'Kanpur' 'Jaipur' 'Chennai' 'Cape Town'\n",
      " 'Port Elizabeth' 'Durban' 'Centurion' 'East London' 'Johannesburg'\n",
      " 'Kimberley' 'Bloemfontein' 'Ahmedabad' 'Cuttack' 'Nagpur' 'Dharamsala'\n",
      " 'Kochi' 'Visakhapatnam' 'Raipur' 'Ranchi' 'Abu Dhabi' 'Sharjah' nan]\n",
      " \n",
      " Teams : ['Sunrisers Hyderabad' 'Mumbai Indians' 'Gujarat Lions'\n",
      " 'Rising Pune Supergiant' 'Royal Challengers Bangalore'\n",
      " 'Kolkata Knight Riders' 'Delhi Daredevils' 'Kings XI Punjab'\n",
      " 'Chennai Super Kings' 'Rajasthan Royals' 'Deccan Chargers'\n",
      " 'Kochi Tuskers Kerala' 'Pune Warriors' 'Rising Pune Supergiants']\n",
      " \n",
      " Teams : 14\n",
      " \n",
      " Venues: 30\n"
     ]
    }
   ],
   "source": [
    "print 'Total matches_2:',matches_2.shape[0]\n",
    "print ' \\n Venues Played :',matches_2['city'].unique()\n",
    "print ' \\n Teams :',matches_2['team1'].unique()\n",
    "print ' \\n Teams :',matches_2['team1'].nunique()\n",
    "print ' \\n Venues:',matches_2['city'].nunique()"
   ]
  },
  {
   "cell_type": "code",
   "execution_count": null,
   "metadata": {
    "collapsed": true
   },
   "outputs": [],
   "source": [
    "temp_df = matches.drop_duplicates(subset=['season'], keep='last')[['season', 'winner']].reset_index(drop=True)\n",
    "temp_df"
   ]
  },
  {
   "cell_type": "code",
   "execution_count": 10,
   "metadata": {
    "collapsed": true
   },
   "outputs": [
    {
     "data": {
      "image/png": "[encoded data removed]",
      "text/plain": [
       "<matplotlib.figure.Figure at 0xbd35750>"
      ]
     },
     "metadata": {},
     "output_type": "display_data"
    }
   ],
   "source": [
    "#overall toss_decision\n",
    "temp_series = matches_2.toss_decision.value_counts(normalize = True)\n",
    "#print temp_series\n",
    "#print temp_series\n",
    "labels = (np.array(temp_series.index))\n",
    "sizes = (np.array(temp_series))\n",
    "#print sizes\n",
    "#colors = ['gold', 'lightskyblue']\n",
    "plt.axis(\"equal\")\n",
    "plt.pie(sizes, labels=labels, colors=['blue','orange'],\n",
    "    autopct='%1.1f%%', shadow=True, startangle=90,radius =1.3)\n",
    "plt.title(\"Toss decision percentage\")\n",
    "plt.show()\n",
    "          "
   ]
  },
  {
   "cell_type": "code",
   "execution_count": 11,
   "metadata": {
    "collapsed": true
   },
   "outputs": [
    {
     "data": {
      "image/png": "[encoded data removed]",
      "text/plain": [
       "<matplotlib.figure.Figure at 0xbe2fd90>"
      ]
     },
     "metadata": {},
     "output_type": "display_data"
    }
   ],
   "source": [
    "#venuewise\n",
    "venue_wise =pd.crosstab(matches_2.venue,matches_2.toss_decision).sort_values('field',ascending = False).iloc[[0,1,2,3,5,6,7],:]\n",
    "venue_wise.index =['Chinnaswamy','Wankhade','Feroz Kotla','Eden Gardens','Mohali stadium','Mansingh Rajastan','MAC Chepauk']\n",
    "venue_wise.plot(kind ='bar',figsize=(20,7))\n",
    "plt.ylabel(\"TEAMS\")\n",
    "plt.xlabel('COUNT')\n",
    "plt.title(\"VENUE WISE TOSS DECISION\")\n",
    "plt.legend(fontsize ='xx-large')\n",
    "plt.xticks(fontsize=14, rotation=90)\n",
    "plt.yticks(fontsize=14)\n",
    "plt.savefig(R\"C:\\Users\\mira\\Pictures\\SnippingTool++\\Captures\\venue_wise.png\",pad_inches=3)\n",
    "plt.show()"
   ]
  },
  {
   "cell_type": "code",
   "execution_count": 13,
   "metadata": {
    "collapsed": true
   },
   "outputs": [
    {
     "data": {
      "image/png": "[encoded data removed]",
      "text/plain": [
       "<matplotlib.figure.Figure at 0x87fb5f0>"
      ]
     },
     "metadata": {},
     "output_type": "display_data"
    }
   ],
   "source": [
    "#teamwise toss\n",
    "teamwise = pd.crosstab(matches_2.toss_winner,matches_2.toss_decision).iloc[[0,2,4,6,7,9,12],:]\n",
    "teamwise\n",
    "\n",
    "teamwise['total'] = teamwise['bat'] + teamwise['field']\n",
    "teamwise['total'] = teamwise['total'].astype('float')\n",
    "teamwise['bat'] = (teamwise['bat']/teamwise['total']) * 100\n",
    "teamwise['field']=(teamwise['field']/teamwise['total']) * 100\n",
    "teamwise\n",
    "\n",
    "teamwise.drop(\"total\",inplace=True,axis=1)\n",
    "teamwise =teamwise.applymap(lambda x:round(x,2))\n",
    "\n",
    "\n",
    "teamwise.index = ['CSK','DD','KXIP','KKR','MI','RR','RCB']\n",
    "ax =teamwise.plot(kind ='bar',figsize=(18,7))\n",
    "\"\"\"for p in ax.patches:\n",
    "    ax.annotate(format(p.get_height()+1), (p.get_x()+0.1, p.get_height()+1))\"\"\"\n",
    "plt.xlabel(\"TEAMS\")\n",
    "plt.ylabel('PERCENTAGE')\n",
    "plt.title(\"TEAM WISE TOSS DECISION in %\")\n",
    "plt.legend(fontsize ='xx-large')\n",
    "plt.xticks(fontsize=14, rotation=90)\n",
    "plt.yticks(fontsize=14, rotation=90)\n",
    "plt.savefig(R\"C:\\Users\\mira\\Pictures\\SnippingTool++\\Captures\\teamwise.png\")\n",
    "plt.show()\n"
   ]
  },
  {
   "cell_type": "code",
   "execution_count": 12,
   "metadata": {
    "collapsed": true
   },
   "outputs": [
    {
     "data": {
      "image/png": "[encoded data removed]",
      "text/plain": [
       "<matplotlib.figure.Figure at 0x8571b90>"
      ]
     },
     "metadata": {},
     "output_type": "display_data"
    }
   ],
   "source": [
    "#yearwise toss\n",
    "yearwise =pd.crosstab(matches_2.season,matches_2.toss_decision)\n",
    "yearwise['total'] = yearwise['bat'] + yearwise['field']\n",
    "yearwise['total'] = yearwise['total'].astype('float')\n",
    "yearwise['bat'] = (yearwise['bat']/yearwise['total']) * 100\n",
    "yearwise['field']=(yearwise['field']/yearwise['total']) * 100\n",
    "\n",
    "yearwise.drop(\"total\",inplace=True,axis=1)\n",
    "yearwise =yearwise.applymap(lambda x:round(x,2))\n",
    "\n",
    "ax = yearwise.plot(kind = 'bar',figsize=(15,6))\n",
    "\"\"\"for p in ax.patches:\n",
    "    ax.annotate(format(p.get_height()), (p.get_x()+0.15, p.get_height()+1))\"\"\"\n",
    "\n",
    "plt.xlabel(\"YEARS\")\n",
    "plt.ylabel('PERCENTAGE')\n",
    "plt.title(\"YEAR WISE TOSS DECISION in %\")\n",
    "plt.legend(fontsize ='xx-large')\n",
    "plt.xticks(fontsize=14, rotation=90)\n",
    "plt.yticks(fontsize=14, rotation=90)\n",
    "plt.savefig(R\"C:\\Users\\mira\\Pictures\\SnippingTool++\\Captures\\teamwise.png\")\n",
    "plt.show()\n"
   ]
  },
  {
   "cell_type": "code",
   "execution_count": 19,
   "metadata": {},
   "outputs": [
    {
     "data": {
      "text/plain": [
       "True     0.511006\n",
       "False    0.488994\n",
       "dtype: float64"
      ]
     },
     "execution_count": 19,
     "metadata": {},
     "output_type": "execute_result"
    }
   ],
   "source": [
    "#toss decision influence\n",
    "(matches_2.toss_winner == matches_2.winner).value_counts(normalize = True)"
   ]
  },
  {
   "cell_type": "code",
   "execution_count": 20,
   "metadata": {
    "collapsed": true
   },
   "outputs": [],
   "source": [
    "#individual batsman wagon wheel\n",
    "batsman_runs = deliveries_2.pivot_table(index=['batsman'],columns='batsman_runs',values='ball',aggfunc=len)\n",
    "import plotly.plotly as py\n",
    "import plotly.graph_objs as go\n",
    "import plotly.tools as tls\n",
    "\n",
    "tls.set_credentials_file(username='rspmharimurugesan',api_key='YeBfzYl6R37nKLMf1u6j')"
   ]
  },
  {
   "cell_type": "code",
   "execution_count": 29,
   "metadata": {
    "collapsed": true
   },
   "outputs": [
    {
     "data": {
      "text/html": [
       "<div>\n",
       "<style scoped>\n",
       "    .dataframe tbody tr th:only-of-type {\n",
       "        vertical-align: middle;\n",
       "    }\n",
       "\n",
       "    .dataframe tbody tr th {\n",
       "        vertical-align: top;\n",
       "    }\n",
       "\n",
       "    .dataframe thead th {\n",
       "        text-align: right;\n",
       "    }\n",
       "</style>\n",
       "<table border=\"1\" class=\"dataframe\">\n",
       "  <thead>\n",
       "    <tr style=\"text-align: right;\">\n",
       "      <th>batsman</th>\n",
       "      <th>SK Raina</th>\n",
       "    </tr>\n",
       "    <tr>\n",
       "      <th>batsman_runs</th>\n",
       "      <th></th>\n",
       "    </tr>\n",
       "  </thead>\n",
       "  <tbody>\n",
       "    <tr>\n",
       "      <th>0</th>\n",
       "      <td>1163.0</td>\n",
       "    </tr>\n",
       "    <tr>\n",
       "      <th>1</th>\n",
       "      <td>1377.0</td>\n",
       "    </tr>\n",
       "    <tr>\n",
       "      <th>2</th>\n",
       "      <td>242.0</td>\n",
       "    </tr>\n",
       "    <tr>\n",
       "      <th>3</th>\n",
       "      <td>10.0</td>\n",
       "    </tr>\n",
       "    <tr>\n",
       "      <th>4</th>\n",
       "      <td>402.0</td>\n",
       "    </tr>\n",
       "    <tr>\n",
       "      <th>5</th>\n",
       "      <td>1.0</td>\n",
       "    </tr>\n",
       "    <tr>\n",
       "      <th>6</th>\n",
       "      <td>174.0</td>\n",
       "    </tr>\n",
       "  </tbody>\n",
       "</table>\n",
       "</div>"
      ],
      "text/plain": [
       "batsman       SK Raina\n",
       "batsman_runs          \n",
       "0               1163.0\n",
       "1               1377.0\n",
       "2                242.0\n",
       "3                 10.0\n",
       "4                402.0\n",
       "5                  1.0\n",
       "6                174.0"
      ]
     },
     "execution_count": 29,
     "metadata": {},
     "output_type": "execute_result"
    }
   ],
   "source": [
    "any_batsman = batsman_runs.loc[batsman_runs.index.str.contains('Raina',case=False)].T\n",
    "any_batsman"
   ]
  },
  {
   "cell_type": "code",
   "execution_count": 30,
   "metadata": {
    "collapsed": true
   },
   "outputs": [
    {
     "data": {
      "image/png": "[encoded data removed]",
      "text/plain": [
       "<matplotlib.figure.Figure at 0x81c4d50>"
      ]
     },
     "metadata": {},
     "output_type": "display_data"
    }
   ],
   "source": [
    "#individual player wagon wheel\n",
    "title = any_batsman.columns[0]\n",
    "any_batsman.columns = ['RUNS']\n",
    "any_batsman['RUNS'] = any_batsman['RUNS'] * any_batsman.index\n",
    "any_batsman.fillna(0,inplace=True)\n",
    "import numpy as np\n",
    "labels = any_batsman.index[1:]\n",
    "sizes = any_batsman.RUNS.values[1:]\n",
    "\n",
    "\n",
    "#plt.subplot(211)\n",
    "#plt.figure(figsize=(5,6))\n",
    "colors = ['gold', '#4682B4','#FF8C00','#228B22','#4B0082','#FF0000']\n",
    "plt.axis('equal')\n",
    "plt.pie(sizes,colors=colors,\n",
    "    autopct='%1.1f%%', shadow=True, startangle=90,radius = 1.5,explode  =[0,0,0,0,0,0.2])\n",
    "plt.title(title+ 10 * ' '+'(' +str(sizes.sum()) + ')',fontsize ='xx-large')\n",
    "plt.legend(labels)\n",
    "#plt.savefig(R\"C:\\Users\\mira\\Pictures\\SnippingTool++\\Captures\\dhoni.png\",pad_inches=1)\n",
    "plt.show()"
   ]
  },
  {
   "cell_type": "code",
   "execution_count": 32,
   "metadata": {
    "collapsed": true
   },
   "outputs": [
    {
     "data": {
      "text/plain": [
       "Mumbai Indians                 82\n",
       "Chennai Super Kings            77\n",
       "Kings XI Punjab                77\n",
       "Royal Challengers Bangalore    70\n",
       "Kolkata Knight Riders          68\n",
       "Delhi Daredevils               63\n",
       "Rajasthan Royals               54\n",
       "Sunrisers Hyderabad            46\n",
       "Deccan Chargers                43\n",
       "Pune Warriors                  20\n",
       "Gujarat Lions                  14\n",
       "Rising Pune Supergiant          8\n",
       "Kochi Tuskers Kerala            7\n",
       "Rising Pune Supergiants         7\n",
       "Name: batting_team, dtype: int64"
      ]
     },
     "execution_count": 32,
     "metadata": {},
     "output_type": "execute_result"
    }
   ],
   "source": [
    "deliveries_2.drop_duplicates(subset=['match_id'])['batting_team'].value_counts()"
   ]
  },
  {
   "cell_type": "code",
   "execution_count": 46,
   "metadata": {},
   "outputs": [
    {
     "data": {
      "text/html": [
       "<div>\n",
       "<style scoped>\n",
       "    .dataframe tbody tr th:only-of-type {\n",
       "        vertical-align: middle;\n",
       "    }\n",
       "\n",
       "    .dataframe tbody tr th {\n",
       "        vertical-align: top;\n",
       "    }\n",
       "\n",
       "    .dataframe thead th {\n",
       "        text-align: right;\n",
       "    }\n",
       "</style>\n",
       "<table border=\"1\" class=\"dataframe\">\n",
       "  <thead>\n",
       "    <tr style=\"text-align: right;\">\n",
       "      <th></th>\n",
       "      <th>batting_team</th>\n",
       "      <th>runs</th>\n",
       "      <th>inning</th>\n",
       "      <th>batting_ave</th>\n",
       "    </tr>\n",
       "  </thead>\n",
       "  <tbody>\n",
       "    <tr>\n",
       "      <th>0</th>\n",
       "      <td>Royal Challengers Bangalore</td>\n",
       "      <td>11705</td>\n",
       "      <td>70.0</td>\n",
       "      <td>167.214286</td>\n",
       "    </tr>\n",
       "    <tr>\n",
       "      <th>1</th>\n",
       "      <td>Chennai Super Kings</td>\n",
       "      <td>12693</td>\n",
       "      <td>77.0</td>\n",
       "      <td>164.844156</td>\n",
       "    </tr>\n",
       "    <tr>\n",
       "      <th>2</th>\n",
       "      <td>Mumbai Indians</td>\n",
       "      <td>13387</td>\n",
       "      <td>82.0</td>\n",
       "      <td>163.256098</td>\n",
       "    </tr>\n",
       "    <tr>\n",
       "      <th>3</th>\n",
       "      <td>Kings XI Punjab</td>\n",
       "      <td>12288</td>\n",
       "      <td>77.0</td>\n",
       "      <td>159.584416</td>\n",
       "    </tr>\n",
       "    <tr>\n",
       "      <th>4</th>\n",
       "      <td>Rajasthan Royals</td>\n",
       "      <td>8470</td>\n",
       "      <td>54.0</td>\n",
       "      <td>156.851852</td>\n",
       "    </tr>\n",
       "    <tr>\n",
       "      <th>5</th>\n",
       "      <td>Kolkata Knight Riders</td>\n",
       "      <td>10542</td>\n",
       "      <td>68.0</td>\n",
       "      <td>155.029412</td>\n",
       "    </tr>\n",
       "    <tr>\n",
       "      <th>6</th>\n",
       "      <td>Delhi Daredevils</td>\n",
       "      <td>9625</td>\n",
       "      <td>63.0</td>\n",
       "      <td>152.777778</td>\n",
       "    </tr>\n",
       "  </tbody>\n",
       "</table>\n",
       "</div>"
      ],
      "text/plain": [
       "                  batting_team   runs  inning  batting_ave\n",
       "0  Royal Challengers Bangalore  11705    70.0   167.214286\n",
       "1          Chennai Super Kings  12693    77.0   164.844156\n",
       "2               Mumbai Indians  13387    82.0   163.256098\n",
       "3              Kings XI Punjab  12288    77.0   159.584416\n",
       "4             Rajasthan Royals   8470    54.0   156.851852\n",
       "5        Kolkata Knight Riders  10542    68.0   155.029412\n",
       "6             Delhi Daredevils   9625    63.0   152.777778"
      ]
     },
     "execution_count": 46,
     "metadata": {},
     "output_type": "execute_result"
    }
   ],
   "source": [
    "#batting average for team bat first\n",
    "a=deliveries_2.loc[deliveries_2.inning==1].pivot_table(index = ['batting_team'],columns=['over'],values = 'total_runs',aggfunc='sum').T.sum().reset_index().rename(columns={0:'runs'})\n",
    "b=deliveries_2.drop_duplicates('match_id').pivot_table(index=['batting_team'],values ='inning',aggfunc='count').reset_index()\n",
    "ab=pd.merge(a,b,on='batting_team',how = 'inner')\n",
    "ab.inning = ab.inning.astype('float')\n",
    "ab['batting_ave']=ab.runs/ab.inning\n",
    "ab.iloc[[0,2,4,6,7,9,12]].sort_values('batting_ave',ascending=False).reset_index(drop = True)\n"
   ]
  },
  {
   "cell_type": "code",
   "execution_count": 56,
   "metadata": {
    "collapsed": true
   },
   "outputs": [],
   "source": [
    "matches_2_c =pd.merge(deliveries_2.drop_duplicates(\"match_id\")[['match_id','batting_team','bowling_team']].reset_index(drop =True),matches_2,left_on ='match_id',right_on='id')"
   ]
  },
  {
   "cell_type": "code",
   "execution_count": 59,
   "metadata": {},
   "outputs": [
    {
     "data": {
      "text/plain": [
       "False    0.553459\n",
       "True     0.446541\n",
       "dtype: float64"
      ]
     },
     "execution_count": 59,
     "metadata": {},
     "output_type": "execute_result"
    }
   ],
   "source": [
    "%matplotlib inline\n",
    "(matches_2_c['batting_team'] == matches_2_c['winner']).value_counts(normalize =True)"
   ]
  },
  {
   "cell_type": "code",
   "execution_count": 60,
   "metadata": {},
   "outputs": [
    {
     "data": {
      "text/plain": [
       "True     0.548742\n",
       "False    0.451258\n",
       "dtype: float64"
      ]
     },
     "execution_count": 60,
     "metadata": {},
     "output_type": "execute_result"
    }
   ],
   "source": [
    "(matches_2_c['bowling_team'] == matches_2_c['winner']).value_counts(normalize =True)"
   ]
  },
  {
   "cell_type": "code",
   "execution_count": 98,
   "metadata": {},
   "outputs": [
    {
     "name": "stdout",
     "output_type": "stream",
     "text": [
      "Batting First win Probability : 0.33\n",
      "Bowling First Win Probability : 0.49\n"
     ]
    }
   ],
   "source": [
    "# win probability \n",
    "bat_team =matches_2_c.loc[(matches_2_c['batting_team'] == \"Delhi Daredevils\")]\n",
    "print \"Batting First win Probability :\", round((bat_team.loc[(bat_team['winner'] == \"Delhi Daredevils\")].shape[0]/float(bat_team.shape[0])),2)\n",
    "\n",
    "bowl_team =matches_2_c.loc[(matches_2_c['bowling_team'] == \"Delhi Daredevils\")]\n",
    "print \"Bowling First Win Probability :\", round((bowl_team.loc[(bowl_team['winner'] == \"Delhi Daredevils\")].shape[0]/float(bowl_team.shape[0])),2)\n",
    "#.value_counts(normalize =True)\n",
    "#.value_counts(normalize =True)"
   ]
  },
  {
   "cell_type": "code",
   "execution_count": null,
   "metadata": {
    "collapsed": true
   },
   "outputs": [],
   "source": [
    "%matplotlib inline\n",
    "delivery[['batsman',\"batsman_runs\"]].groupby('batsman').sum().sort_values(by ='batsman_runs',ascending = False)[:15].plot(kind = 'bar')\n",
    "plt.xlabel('players')\n",
    "plt.ylabel('runs')\n",
    "plt.title('Top run scorers in ipl')\n"
   ]
  },
  {
   "cell_type": "code",
   "execution_count": null,
   "metadata": {
    "collapsed": true
   },
   "outputs": [],
   "source": [
    "#death overs top performers\n",
    "%matplotlib inline\n",
    "death_overs = deliveries_2.pivot_table(index = ['batsman'],columns=['over'],values = 'total_runs',aggfunc='sum').fillna(0).loc[:,16:]\n",
    "death_overs['total'] = death_overs[16] + death_overs[17] + death_overs[18] + death_overs[19] + death_overs[20]\n",
    "death_overs['total'] = death_overs[16] + death_overs[17] + death_overs[18] + death_overs[19] + death_overs[20]\n",
    "death_overs = death_overs.sort_values(by = 'total',ascending=False)[:10].iloc[:,:-1]\n",
    "death_overs.index = ['Dhoni','Pollard','RSharma','ABD','V Kohli','YPathan','Yuvi','Duminy','Raina','Jadeja']\n",
    "death_overs.plot(kind = 'bar',figsize=(19,7))\n",
    "plt.legend(fontsize ='xx-large')\n",
    "plt.xticks(fontsize=14, rotation=90)\n",
    "plt.yticks(fontsize=14, rotation=90)\n",
    "plt.xlabel(\"PLAYERS\")\n",
    "plt.ylabel(\"RUNS\")\n",
    "plt.title(\"BEST BATSMAN IN DEATH OVERS -(OVER WISE COMPARISON)\")\n",
    "plt.savefig(R\"C:\\Users\\mira\\Pictures\\SnippingTool++\\Captures\\death_over bastman\",pad_inches=0.1)\n",
    "plt.show()"
   ]
  },
  {
   "cell_type": "code",
   "execution_count": null,
   "metadata": {
    "collapsed": true
   },
   "outputs": [],
   "source": [
    "# powerplay top performers\n",
    "powerplay_batting = deliveries_2.pivot_table(index = ['batsman'],columns=['over'],values = 'total_runs',aggfunc='sum').fillna(0).loc[:,1:6]\n",
    "powerplay_batting['total'] = powerplay_batting[1] + powerplay_batting[2] + powerplay_batting[3] + powerplay_batting[4] + powerplay_batting[5] +powerplay_batting[6]\n",
    "powerplay_batting = powerplay_batting.sort_values(by = 'total',ascending=False)[:10].iloc[:,:-1]\n",
    "powerplay_batting.index =['Gambir','Warner','Gayle','Dhawan','Sehwag','Parthiv','Mculum','Uthappa','Mvijay','Rahane']\n",
    "powerplay_batting.plot(kind = 'bar',figsize=(19,7))\n",
    "plt.legend(fontsize ='xx-large')\n",
    "plt.xticks(fontsize=14, rotation=90)\n",
    "plt.yticks(fontsize=14, rotation=90)\n",
    "plt.xlabel(\"PLAYERS\")\n",
    "plt.ylabel(\"RUNS\")\n",
    "plt.title(\"BEST BATSMAN IN POWERPLAY -(OVER WISE COMPARISON)\")\n",
    "plt.savefig(R\"C:\\Users\\mira\\Pictures\\SnippingTool++\\Captures\\powerplay bastman\",pad_inches=5)\n",
    "plt.show()"
   ]
  },
  {
   "cell_type": "code",
   "execution_count": null,
   "metadata": {
    "collapsed": true
   },
   "outputs": [],
   "source": [
    "deliveries_2.loc[deliveries_2.dismissal_kind.isin(['caught', 'bowled', 'lbw', 'caught and bowled'])].bowler.value_counts()[:10]"
   ]
  },
  {
   "cell_type": "code",
   "execution_count": null,
   "metadata": {
    "collapsed": true
   },
   "outputs": [],
   "source": [
    "deliveries_2.loc[deliveries_2.dismissal_kind == 'stumped'].fielder.value_counts()[:10]"
   ]
  },
  {
   "cell_type": "code",
   "execution_count": null,
   "metadata": {
    "collapsed": true
   },
   "outputs": [],
   "source": [
    "delivery.loc[delivery.dismissal_kind.isin([\"lbw\"])].bowler.value_counts()[:10]"
   ]
  },
  {
   "cell_type": "code",
   "execution_count": null,
   "metadata": {
    "collapsed": true
   },
   "outputs": [],
   "source": [
    "deliveries_2.loc[deliveries_2.dismissal_kind.isin([\"caught and bowled\"])].bowler.value_counts()[:10]"
   ]
  },
  {
   "cell_type": "code",
   "execution_count": null,
   "metadata": {
    "collapsed": true
   },
   "outputs": [],
   "source": [
    "deliveries_2.loc[deliveries_2.dismissal_kind.isin([\"caught\"])].bowler.value_counts()[:10]"
   ]
  },
  {
   "cell_type": "code",
   "execution_count": null,
   "metadata": {
    "collapsed": true
   },
   "outputs": [],
   "source": [
    "deliveries_2.loc[deliveries_2.dismissal_kind.isin([\"run out\"])].fielder.value_counts()[:10]"
   ]
  },
  {
   "cell_type": "code",
   "execution_count": null,
   "metadata": {
    "collapsed": true
   },
   "outputs": [],
   "source": [
    "deliveries_2.dismissal_kind.value_counts()"
   ]
  },
  {
   "cell_type": "code",
   "execution_count": 16,
   "metadata": {},
   "outputs": [
    {
     "data": {
      "text/html": [
       "<div>\n",
       "<style scoped>\n",
       "    .dataframe tbody tr th:only-of-type {\n",
       "        vertical-align: middle;\n",
       "    }\n",
       "\n",
       "    .dataframe tbody tr th {\n",
       "        vertical-align: top;\n",
       "    }\n",
       "\n",
       "    .dataframe thead th {\n",
       "        text-align: right;\n",
       "    }\n",
       "</style>\n",
       "<table border=\"1\" class=\"dataframe\">\n",
       "  <thead>\n",
       "    <tr style=\"text-align: right;\">\n",
       "      <th></th>\n",
       "      <th>catches</th>\n",
       "    </tr>\n",
       "  </thead>\n",
       "  <tbody>\n",
       "    <tr>\n",
       "      <th>SK Raina</th>\n",
       "      <td>83</td>\n",
       "    </tr>\n",
       "    <tr>\n",
       "      <th>AB de Villiers</th>\n",
       "      <td>81</td>\n",
       "    </tr>\n",
       "    <tr>\n",
       "      <th>RG Sharma</th>\n",
       "      <td>70</td>\n",
       "    </tr>\n",
       "    <tr>\n",
       "      <th>KA Pollard</th>\n",
       "      <td>64</td>\n",
       "    </tr>\n",
       "    <tr>\n",
       "      <th>V Kohli</th>\n",
       "      <td>60</td>\n",
       "    </tr>\n",
       "  </tbody>\n",
       "</table>\n",
       "</div>"
      ],
      "text/plain": [
       "                catches\n",
       "SK Raina             83\n",
       "AB de Villiers       81\n",
       "RG Sharma            70\n",
       "KA Pollard           64\n",
       "V Kohli              60"
      ]
     },
     "execution_count": 16,
     "metadata": {},
     "output_type": "execute_result"
    }
   ],
   "source": [
    "mixed_catchers=dict(deliveries_2.loc[deliveries_2.dismissal_kind.isin([\"caught\"])].fielder.value_counts()[:10])\n",
    "\n",
    "top_5_catchers =set(dict(deliveries_2.loc[deliveries_2.dismissal_kind.isin([\"caught\"])].fielder.value_counts()[:10]).keys())-set([\"KD Karthik\",\"PA Patel\",\"MS Dhoni\",\"RV Uthappa\",\"AC Gilchrist\",\"NV Ojha\"])\n",
    "\n",
    "catchers ={}\n",
    "for i in top_5_catchers:\n",
    "    catchers.update({i:mixed_catchers[i]})\n",
    "\n",
    "pd.DataFrame([catchers]).T.rename(columns ={0:\"catches\"}).sort_values('catches',ascending = False)"
   ]
  },
  {
   "cell_type": "code",
   "execution_count": 17,
   "metadata": {
    "collapsed": true
   },
   "outputs": [
    {
     "data": {
      "text/html": [
       "<div>\n",
       "<style scoped>\n",
       "    .dataframe tbody tr th:only-of-type {\n",
       "        vertical-align: middle;\n",
       "    }\n",
       "\n",
       "    .dataframe tbody tr th {\n",
       "        vertical-align: top;\n",
       "    }\n",
       "\n",
       "    .dataframe thead th {\n",
       "        text-align: right;\n",
       "    }\n",
       "</style>\n",
       "<table border=\"1\" class=\"dataframe\">\n",
       "  <thead>\n",
       "    <tr style=\"text-align: right;\">\n",
       "      <th>over</th>\n",
       "      <th>1</th>\n",
       "      <th>2</th>\n",
       "      <th>3</th>\n",
       "      <th>4</th>\n",
       "      <th>5</th>\n",
       "      <th>total</th>\n",
       "    </tr>\n",
       "    <tr>\n",
       "      <th>bowler</th>\n",
       "      <th></th>\n",
       "      <th></th>\n",
       "      <th></th>\n",
       "      <th></th>\n",
       "      <th></th>\n",
       "      <th></th>\n",
       "    </tr>\n",
       "  </thead>\n",
       "  <tbody>\n",
       "    <tr>\n",
       "      <th>Z Khan</th>\n",
       "      <td>12.0</td>\n",
       "      <td>6.0</td>\n",
       "      <td>15.0</td>\n",
       "      <td>7.0</td>\n",
       "      <td>10.0</td>\n",
       "      <td>50.0</td>\n",
       "    </tr>\n",
       "    <tr>\n",
       "      <th>P Kumar</th>\n",
       "      <td>15.0</td>\n",
       "      <td>2.0</td>\n",
       "      <td>12.0</td>\n",
       "      <td>4.0</td>\n",
       "      <td>5.0</td>\n",
       "      <td>38.0</td>\n",
       "    </tr>\n",
       "    <tr>\n",
       "      <th>A Nehra</th>\n",
       "      <td>5.0</td>\n",
       "      <td>9.0</td>\n",
       "      <td>6.0</td>\n",
       "      <td>11.0</td>\n",
       "      <td>7.0</td>\n",
       "      <td>38.0</td>\n",
       "    </tr>\n",
       "    <tr>\n",
       "      <th>B Kumar</th>\n",
       "      <td>15.0</td>\n",
       "      <td>7.0</td>\n",
       "      <td>9.0</td>\n",
       "      <td>2.0</td>\n",
       "      <td>4.0</td>\n",
       "      <td>37.0</td>\n",
       "    </tr>\n",
       "    <tr>\n",
       "      <th>Sandeep Sharma</th>\n",
       "      <td>9.0</td>\n",
       "      <td>2.0</td>\n",
       "      <td>13.0</td>\n",
       "      <td>5.0</td>\n",
       "      <td>7.0</td>\n",
       "      <td>36.0</td>\n",
       "    </tr>\n",
       "    <tr>\n",
       "      <th>I Sharma</th>\n",
       "      <td>1.0</td>\n",
       "      <td>9.0</td>\n",
       "      <td>4.0</td>\n",
       "      <td>14.0</td>\n",
       "      <td>4.0</td>\n",
       "      <td>32.0</td>\n",
       "    </tr>\n",
       "    <tr>\n",
       "      <th>RP Singh</th>\n",
       "      <td>1.0</td>\n",
       "      <td>11.0</td>\n",
       "      <td>9.0</td>\n",
       "      <td>8.0</td>\n",
       "      <td>3.0</td>\n",
       "      <td>32.0</td>\n",
       "    </tr>\n",
       "    <tr>\n",
       "      <th>DS Kulkarni</th>\n",
       "      <td>1.0</td>\n",
       "      <td>12.0</td>\n",
       "      <td>1.0</td>\n",
       "      <td>12.0</td>\n",
       "      <td>6.0</td>\n",
       "      <td>32.0</td>\n",
       "    </tr>\n",
       "    <tr>\n",
       "      <th>AB Dinda</th>\n",
       "      <td>6.0</td>\n",
       "      <td>3.0</td>\n",
       "      <td>9.0</td>\n",
       "      <td>6.0</td>\n",
       "      <td>7.0</td>\n",
       "      <td>31.0</td>\n",
       "    </tr>\n",
       "    <tr>\n",
       "      <th>SL Malinga</th>\n",
       "      <td>10.0</td>\n",
       "      <td>10.0</td>\n",
       "      <td>2.0</td>\n",
       "      <td>3.0</td>\n",
       "      <td>5.0</td>\n",
       "      <td>30.0</td>\n",
       "    </tr>\n",
       "    <tr>\n",
       "      <th>M Morkel</th>\n",
       "      <td>1.0</td>\n",
       "      <td>8.0</td>\n",
       "      <td>6.0</td>\n",
       "      <td>10.0</td>\n",
       "      <td>4.0</td>\n",
       "      <td>29.0</td>\n",
       "    </tr>\n",
       "    <tr>\n",
       "      <th>JA Morkel</th>\n",
       "      <td>7.0</td>\n",
       "      <td>6.0</td>\n",
       "      <td>8.0</td>\n",
       "      <td>5.0</td>\n",
       "      <td>2.0</td>\n",
       "      <td>28.0</td>\n",
       "    </tr>\n",
       "    <tr>\n",
       "      <th>MM Patel</th>\n",
       "      <td>2.0</td>\n",
       "      <td>8.0</td>\n",
       "      <td>5.0</td>\n",
       "      <td>6.0</td>\n",
       "      <td>7.0</td>\n",
       "      <td>28.0</td>\n",
       "    </tr>\n",
       "    <tr>\n",
       "      <th>DW Steyn</th>\n",
       "      <td>8.0</td>\n",
       "      <td>6.0</td>\n",
       "      <td>8.0</td>\n",
       "      <td>5.0</td>\n",
       "      <td>1.0</td>\n",
       "      <td>28.0</td>\n",
       "    </tr>\n",
       "    <tr>\n",
       "      <th>IK Pathan</th>\n",
       "      <td>8.0</td>\n",
       "      <td>9.0</td>\n",
       "      <td>2.0</td>\n",
       "      <td>5.0</td>\n",
       "      <td>3.0</td>\n",
       "      <td>27.0</td>\n",
       "    </tr>\n",
       "  </tbody>\n",
       "</table>\n",
       "</div>"
      ],
      "text/plain": [
       "over               1     2     3     4     5  total\n",
       "bowler                                             \n",
       "Z Khan          12.0   6.0  15.0   7.0  10.0   50.0\n",
       "P Kumar         15.0   2.0  12.0   4.0   5.0   38.0\n",
       "A Nehra          5.0   9.0   6.0  11.0   7.0   38.0\n",
       "B Kumar         15.0   7.0   9.0   2.0   4.0   37.0\n",
       "Sandeep Sharma   9.0   2.0  13.0   5.0   7.0   36.0\n",
       "I Sharma         1.0   9.0   4.0  14.0   4.0   32.0\n",
       "RP Singh         1.0  11.0   9.0   8.0   3.0   32.0\n",
       "DS Kulkarni      1.0  12.0   1.0  12.0   6.0   32.0\n",
       "AB Dinda         6.0   3.0   9.0   6.0   7.0   31.0\n",
       "SL Malinga      10.0  10.0   2.0   3.0   5.0   30.0\n",
       "M Morkel         1.0   8.0   6.0  10.0   4.0   29.0\n",
       "JA Morkel        7.0   6.0   8.0   5.0   2.0   28.0\n",
       "MM Patel         2.0   8.0   5.0   6.0   7.0   28.0\n",
       "DW Steyn         8.0   6.0   8.0   5.0   1.0   28.0\n",
       "IK Pathan        8.0   9.0   2.0   5.0   3.0   27.0"
      ]
     },
     "execution_count": 17,
     "metadata": {},
     "output_type": "execute_result"
    }
   ],
   "source": [
    "deliveries_2[\"wicket\"]=np.where(((deliveries_2.dismissal_kind == u'caught' )| (deliveries_2.dismissal_kind == u'bowled')|(deliveries_2.dismissal_kind == u'lbw')| (deliveries_2.dismissal_kind == u'caught and bowled')),1,0) \n",
    "\n",
    "deliveries_2.pivot_table(values=['wicket'], index=['bowler'], columns='over', aggfunc='sum').fillna(0)\n",
    "\n",
    "first_five_overs_bowling =deliveries_2.pivot_table(values='wicket', index=['bowler'], columns='over', aggfunc='sum').fillna(0).iloc[:,0:5]\n",
    "\n",
    "first_five_overs_bowling['total'] = first_five_overs_bowling[1] + first_five_overs_bowling[2] + first_five_overs_bowling[3] + first_five_overs_bowling[4] + first_five_overs_bowling[5]\n",
    "\n",
    "\n",
    "first_five_overs_bowling.sort_values('total',ascending=False)[:15]\n"
   ]
  },
  {
   "cell_type": "code",
   "execution_count": 18,
   "metadata": {
    "collapsed": true
   },
   "outputs": [
    {
     "data": {
      "text/html": [
       "<div>\n",
       "<style scoped>\n",
       "    .dataframe tbody tr th:only-of-type {\n",
       "        vertical-align: middle;\n",
       "    }\n",
       "\n",
       "    .dataframe tbody tr th {\n",
       "        vertical-align: top;\n",
       "    }\n",
       "\n",
       "    .dataframe thead th {\n",
       "        text-align: right;\n",
       "    }\n",
       "</style>\n",
       "<table border=\"1\" class=\"dataframe\">\n",
       "  <thead>\n",
       "    <tr style=\"text-align: right;\">\n",
       "      <th>over</th>\n",
       "      <th>16</th>\n",
       "      <th>17</th>\n",
       "      <th>18</th>\n",
       "      <th>19</th>\n",
       "      <th>20</th>\n",
       "      <th>total</th>\n",
       "    </tr>\n",
       "    <tr>\n",
       "      <th>bowler</th>\n",
       "      <th></th>\n",
       "      <th></th>\n",
       "      <th></th>\n",
       "      <th></th>\n",
       "      <th></th>\n",
       "      <th></th>\n",
       "    </tr>\n",
       "  </thead>\n",
       "  <tbody>\n",
       "    <tr>\n",
       "      <th>SL Malinga</th>\n",
       "      <td>17.0</td>\n",
       "      <td>13.0</td>\n",
       "      <td>18.0</td>\n",
       "      <td>32.0</td>\n",
       "      <td>16.0</td>\n",
       "      <td>96.0</td>\n",
       "    </tr>\n",
       "    <tr>\n",
       "      <th>DJ Bravo</th>\n",
       "      <td>8.0</td>\n",
       "      <td>8.0</td>\n",
       "      <td>23.0</td>\n",
       "      <td>9.0</td>\n",
       "      <td>24.0</td>\n",
       "      <td>72.0</td>\n",
       "    </tr>\n",
       "    <tr>\n",
       "      <th>B Kumar</th>\n",
       "      <td>10.0</td>\n",
       "      <td>7.0</td>\n",
       "      <td>13.0</td>\n",
       "      <td>13.0</td>\n",
       "      <td>20.0</td>\n",
       "      <td>63.0</td>\n",
       "    </tr>\n",
       "    <tr>\n",
       "      <th>A Nehra</th>\n",
       "      <td>8.0</td>\n",
       "      <td>10.0</td>\n",
       "      <td>10.0</td>\n",
       "      <td>12.0</td>\n",
       "      <td>14.0</td>\n",
       "      <td>54.0</td>\n",
       "    </tr>\n",
       "    <tr>\n",
       "      <th>DW Steyn</th>\n",
       "      <td>7.0</td>\n",
       "      <td>15.0</td>\n",
       "      <td>6.0</td>\n",
       "      <td>13.0</td>\n",
       "      <td>7.0</td>\n",
       "      <td>48.0</td>\n",
       "    </tr>\n",
       "    <tr>\n",
       "      <th>SP Narine</th>\n",
       "      <td>7.0</td>\n",
       "      <td>8.0</td>\n",
       "      <td>13.0</td>\n",
       "      <td>9.0</td>\n",
       "      <td>8.0</td>\n",
       "      <td>45.0</td>\n",
       "    </tr>\n",
       "    <tr>\n",
       "      <th>R Vinay Kumar</th>\n",
       "      <td>3.0</td>\n",
       "      <td>7.0</td>\n",
       "      <td>6.0</td>\n",
       "      <td>9.0</td>\n",
       "      <td>20.0</td>\n",
       "      <td>45.0</td>\n",
       "    </tr>\n",
       "    <tr>\n",
       "      <th>RP Singh</th>\n",
       "      <td>2.0</td>\n",
       "      <td>8.0</td>\n",
       "      <td>11.0</td>\n",
       "      <td>10.0</td>\n",
       "      <td>14.0</td>\n",
       "      <td>45.0</td>\n",
       "    </tr>\n",
       "    <tr>\n",
       "      <th>UT Yadav</th>\n",
       "      <td>6.0</td>\n",
       "      <td>7.0</td>\n",
       "      <td>11.0</td>\n",
       "      <td>11.0</td>\n",
       "      <td>10.0</td>\n",
       "      <td>45.0</td>\n",
       "    </tr>\n",
       "    <tr>\n",
       "      <th>SR Watson</th>\n",
       "      <td>6.0</td>\n",
       "      <td>8.0</td>\n",
       "      <td>9.0</td>\n",
       "      <td>10.0</td>\n",
       "      <td>8.0</td>\n",
       "      <td>41.0</td>\n",
       "    </tr>\n",
       "    <tr>\n",
       "      <th>MM Sharma</th>\n",
       "      <td>0.0</td>\n",
       "      <td>3.0</td>\n",
       "      <td>9.0</td>\n",
       "      <td>17.0</td>\n",
       "      <td>9.0</td>\n",
       "      <td>38.0</td>\n",
       "    </tr>\n",
       "    <tr>\n",
       "      <th>Z Khan</th>\n",
       "      <td>2.0</td>\n",
       "      <td>11.0</td>\n",
       "      <td>7.0</td>\n",
       "      <td>10.0</td>\n",
       "      <td>7.0</td>\n",
       "      <td>37.0</td>\n",
       "    </tr>\n",
       "    <tr>\n",
       "      <th>P Kumar</th>\n",
       "      <td>4.0</td>\n",
       "      <td>5.0</td>\n",
       "      <td>8.0</td>\n",
       "      <td>7.0</td>\n",
       "      <td>12.0</td>\n",
       "      <td>36.0</td>\n",
       "    </tr>\n",
       "    <tr>\n",
       "      <th>L Balaji</th>\n",
       "      <td>4.0</td>\n",
       "      <td>2.0</td>\n",
       "      <td>5.0</td>\n",
       "      <td>5.0</td>\n",
       "      <td>17.0</td>\n",
       "      <td>33.0</td>\n",
       "    </tr>\n",
       "    <tr>\n",
       "      <th>JP Faulkner</th>\n",
       "      <td>3.0</td>\n",
       "      <td>6.0</td>\n",
       "      <td>4.0</td>\n",
       "      <td>12.0</td>\n",
       "      <td>7.0</td>\n",
       "      <td>32.0</td>\n",
       "    </tr>\n",
       "  </tbody>\n",
       "</table>\n",
       "</div>"
      ],
      "text/plain": [
       "over             16    17    18    19    20  total\n",
       "bowler                                            \n",
       "SL Malinga     17.0  13.0  18.0  32.0  16.0   96.0\n",
       "DJ Bravo        8.0   8.0  23.0   9.0  24.0   72.0\n",
       "B Kumar        10.0   7.0  13.0  13.0  20.0   63.0\n",
       "A Nehra         8.0  10.0  10.0  12.0  14.0   54.0\n",
       "DW Steyn        7.0  15.0   6.0  13.0   7.0   48.0\n",
       "SP Narine       7.0   8.0  13.0   9.0   8.0   45.0\n",
       "R Vinay Kumar   3.0   7.0   6.0   9.0  20.0   45.0\n",
       "RP Singh        2.0   8.0  11.0  10.0  14.0   45.0\n",
       "UT Yadav        6.0   7.0  11.0  11.0  10.0   45.0\n",
       "SR Watson       6.0   8.0   9.0  10.0   8.0   41.0\n",
       "MM Sharma       0.0   3.0   9.0  17.0   9.0   38.0\n",
       "Z Khan          2.0  11.0   7.0  10.0   7.0   37.0\n",
       "P Kumar         4.0   5.0   8.0   7.0  12.0   36.0\n",
       "L Balaji        4.0   2.0   5.0   5.0  17.0   33.0\n",
       "JP Faulkner     3.0   6.0   4.0  12.0   7.0   32.0"
      ]
     },
     "execution_count": 18,
     "metadata": {},
     "output_type": "execute_result"
    }
   ],
   "source": [
    "\n",
    "\n",
    "\n",
    "last_five_over_bowlers = deliveries_2.pivot_table(values='wicket', index=['bowler'], columns='over', aggfunc='sum').fillna(0).iloc[:,-5:]\n",
    "\n",
    "last_five_over_bowlers['total'] = last_five_over_bowlers[16] + last_five_over_bowlers[17] + last_five_over_bowlers[18] + last_five_over_bowlers[19] + last_five_over_bowlers[20]\n",
    "\n",
    "last_five_over_bowlers.sort_values('total',ascending=False)[:15]\n",
    "\n"
   ]
  },
  {
   "cell_type": "code",
   "execution_count": null,
   "metadata": {
    "collapsed": true
   },
   "outputs": [],
   "source": [
    "deliveries_2=pd.merge(deliveries_2,matches_2[['id','season']],how ='inner',left_on ='match_id',right_on='id')"
   ]
  },
  {
   "cell_type": "code",
   "execution_count": null,
   "metadata": {
    "collapsed": true
   },
   "outputs": [],
   "source": [
    "#TOP RUN SCORERS YEARWISE SCORE\n",
    "%matplotlib inline\n",
    "deliveries_2.groupby(['batsman','season'])['batsman_runs'].sum().reset_index().loc[deliveries_2.groupby(['batsman','season'])['batsman_runs'].sum().reset_index().batsman.isin(Top_batsman_score.batsman[:10].values)].groupby(['season','batsman'])['batsman_runs'].sum().unstack().plot(figsize = (18,9),marker = 'o',grid =True)\n",
    "plt.xlim(2008,2017)\n",
    "plt.xlabel('YEARS')\n",
    "plt.ylabel('TOTAL RUNS')\n",
    "plt.title(\"YEAR WISE RUNS SCORED BY TOP 10 RUN SCORERS\")\n",
    "plt.legend(fontsize  = 'x-large')\n",
    "plt.savefig(R\"C:\\Users\\mira\\Pictures\\SnippingTool++\\Captures\\year_runs.png\",pad_pad_inches=0.5)\n",
    "plt.show()"
   ]
  },
  {
   "cell_type": "code",
   "execution_count": null,
   "metadata": {
    "collapsed": true
   },
   "outputs": [],
   "source": [
    "# top bowlers yearwise wickets\n",
    "deliveries_2.groupby(['bowler','season'])['wicket'].sum().reset_index().loc[deliveries_2.groupby(['bowler','season'])['wicket'].sum().reset_index().bowler.isin([u'SL Malinga', u'DJ Bravo', u'PP Chawla', u'Harbhajan Singh',u'A Mishra', u'B Kumar', u'A Nehra', u'R Vinay Kumar', u'Z Khan',u'R Ashwin'])].groupby(['bowler','season'])['wicket'].sum().unstack().unstack().unstack().plot(figsize = (18,9),marker = 'D',grid = True)\n",
    "plt.xlim(2008,2017)\n",
    "plt.xlabel('YEARS')\n",
    "plt.ylabel('TOTAL WICKETS')\n",
    "plt.title(\"YEAR WISE RUNS SCORED BY TOP 10 RUN SCORERS\")\n",
    "plt.legend(fontsize  = 'x-large')\n",
    "plt.savefig(R\"C:\\Users\\mira\\Pictures\\SnippingTool++\\Captures\\year_runs.png\",pad_inches=0.5)\n",
    "plt.show()"
   ]
  },
  {
   "cell_type": "code",
   "execution_count": 19,
   "metadata": {
    "collapsed": true
   },
   "outputs": [
    {
     "data": {
      "image/png": "[encoded data removed]",
      "text/plain": [
       "<matplotlib.figure.Figure at 0x2ffc7f0>"
      ]
     },
     "metadata": {},
     "output_type": "display_data"
    }
   ],
   "source": [
    "plt.subplots(figsize=(10,6))\n",
    "ax=matches_2['toss_winner'].value_counts().plot.bar(width=0.6)\n",
    "for p in ax.patches:\n",
    "    ax.annotate(format(p.get_height()), (p.get_x()+0.15, p.get_height()+1))\n",
    "plt.show()"
   ]
  },
  {
   "cell_type": "markdown",
   "metadata": {
    "collapsed": true
   },
   "source": [
    "# to dos\n",
    "# team head to head  viz\n",
    "# players runs and six and four comparison viz \n",
    "# code adjustment and check\n",
    "# create presentation\n",
    "     # What is  Data?\n",
    "     # why analyse data?\n",
    "     # why you need Data analytics?\n",
    "      # why visualize?\n",
    "          # need to collect information about visual impact\n",
    "          # getting visuals \n",
    "          # visual jornalism\n",
    "          # analying gramenar case study"
   ]
  },
  {
   "cell_type": "code",
   "execution_count": null,
   "metadata": {
    "collapsed": true
   },
   "outputs": [],
   "source": []
  }
 ],
 "metadata": {
  "kernelspec": {
   "display_name": "Python 2",
   "language": "python",
   "name": "python2"
  },
  "language_info": {
   "codemirror_mode": {
    "name": "ipython",
    "version": 2
   },
   "file_extension": ".py",
   "mimetype": "text/x-python",
   "name": "python",
   "nbconvert_exporter": "python",
   "pygments_lexer": "ipython2",
   "version": "2.7.13"
  }
 },
 "nbformat": 4,
 "nbformat_minor": 2
}
