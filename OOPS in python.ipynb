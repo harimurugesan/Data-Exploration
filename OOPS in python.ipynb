{
 "cells": [
  {
   "cell_type": "markdown",
   "metadata": {},
   "source": [
    "# Class"
   ]
  },
  {
   "cell_type": "code",
   "execution_count": 1,
   "metadata": {},
   "outputs": [
    {
     "name": "stdout",
     "output_type": "stream",
     "text": [
      "5\n",
      "5\n",
      "8\n",
      "9\n"
     ]
    }
   ],
   "source": [
    "class firstClass:\n",
    "    def __init__(self,x,y): # init initializes the class variavle inside init can be accessed throughgt the class\n",
    "        self.x=x            # we have to use self as the default \n",
    "        self.y=y\n",
    "\n",
    "    def func(self,r,j):\n",
    "        self.r=r\n",
    "        self.j=j\n",
    "        print(self.r)\n",
    "        print(self.j)\n",
    "        print(self.x)\n",
    "        print(self.y)\n",
    "v=firstClass(8,9)\n",
    "v.func(5,5)"
   ]
  },
  {
   "cell_type": "markdown",
   "metadata": {},
   "source": [
    "#  Inheritance in Python"
   ]
  },
  {
   "cell_type": "code",
   "execution_count": 1,
   "metadata": {},
   "outputs": [
    {
     "name": "stdout",
     "output_type": "stream",
     "text": [
      "200\n",
      "40\n"
     ]
    }
   ],
   "source": [
    "class SuperClass:\n",
    "    def __init__(self,a,b):\n",
    "        self.a = a\n",
    "        self.b = b\n",
    "\n",
    "\n",
    "class BaseClass1(SuperClass):\n",
    "    def base1(self):\n",
    "        print(self.a * self.b)\n",
    "\n",
    "\n",
    "class BaseClass2(BaseClass1):\n",
    "    def __init__(self,a,b,c):\n",
    "        super(BaseClass2,self).__init__(a,b)\n",
    "        self.c = c\n",
    "\n",
    "    def base2(self):\n",
    "        print(self.a + self.b + self.c)\n",
    "\n",
    "b1 = BaseClass1(10,20)\n",
    "b1.base1()\n",
    "b2 = BaseClass2(10,20,10)\n",
    "b2.base2()"
   ]
  },
  {
   "cell_type": "markdown",
   "metadata": {},
   "source": [
    "# Polymorphism"
   ]
  },
  {
   "cell_type": "code",
   "execution_count": 1,
   "metadata": {},
   "outputs": [
    {
     "name": "stdout",
     "output_type": "stream",
     "text": [
      "Calling base method\n"
     ]
    }
   ],
   "source": [
    "class Super:        \n",
    "    def method(self):\n",
    "        print('Calling super method')\n",
    "\n",
    "class Base(Super): \n",
    "    def method(self):\n",
    "        print('Calling base method')\n",
    "\n",
    "c = Base()          # instance of child\n",
    "c.method()         # child calls overridden method"
   ]
  },
  {
   "cell_type": "markdown",
   "metadata": {},
   "source": [
    "# Encapsulation"
   ]
  },
  {
   "cell_type": "code",
   "execution_count": 13,
   "metadata": {},
   "outputs": [
    {
     "name": "stdout",
     "output_type": "stream",
     "text": [
      "5\n",
      "10\n"
     ]
    }
   ],
   "source": [
    "class Encapsulation:\n",
    "    def __init__(self,a):\n",
    "        self.a  = a\n",
    "        self.__protected = 10 # This will not be acesses outside the class\n",
    "e = Encapsulation(5)\n",
    "print(e.a)\n",
    "print(e._Encapsulation__protected) "
   ]
  },
  {
   "cell_type": "code",
   "execution_count": null,
   "metadata": {},
   "outputs": [],
   "source": []
  }
 ],
 "metadata": {
  "kernelspec": {
   "display_name": "Python 3",
   "language": "python",
   "name": "python3"
  },
  "language_info": {
   "codemirror_mode": {
    "name": "ipython",
    "version": 3
   },
   "file_extension": ".py",
   "mimetype": "text/x-python",
   "name": "python",
   "nbconvert_exporter": "python",
   "pygments_lexer": "ipython3",
   "version": "3.6.5"
  }
 },
 "nbformat": 4,
 "nbformat_minor": 2
}
