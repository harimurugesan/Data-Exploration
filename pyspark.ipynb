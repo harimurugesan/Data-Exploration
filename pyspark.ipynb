{
 "cells": [
  {
   "cell_type": "code",
   "execution_count": 1,
   "metadata": {},
   "outputs": [
    {
     "data": {
      "text/html": [
       "\n",
       "            <div>\n",
       "                <p><b>SparkSession - hive</b></p>\n",
       "                \n",
       "        <div>\n",
       "            <p><b>SparkContext</b></p>\n",
       "\n",
       "            <p><a href=\"http://10.140.0.2:4040\">Spark UI</a></p>\n",
       "\n",
       "            <dl>\n",
       "              <dt>Version</dt>\n",
       "                <dd><code>v2.2.1</code></dd>\n",
       "              <dt>Master</dt>\n",
       "                <dd><code>yarn</code></dd>\n",
       "              <dt>AppName</dt>\n",
       "                <dd><code>pyspark-shell</code></dd>\n",
       "            </dl>\n",
       "        </div>\n",
       "        \n",
       "            </div>\n",
       "        "
      ],
      "text/plain": [
       "<pyspark.sql.session.SparkSession at 0x7f9194452cf8>"
      ]
     },
     "execution_count": 1,
     "metadata": {},
     "output_type": "execute_result"
    }
   ],
   "source": [
    "spark"
   ]
  },
  {
   "cell_type": "code",
   "execution_count": 54,
   "metadata": {},
   "outputs": [],
   "source": [
    "from pyspark.sql.functions import *"
   ]
  },
  {
   "cell_type": "code",
   "execution_count": 55,
   "metadata": {},
   "outputs": [],
   "source": [
    "import pyspark.sql.functions as func"
   ]
  },
  {
   "cell_type": "code",
   "execution_count": 2,
   "metadata": {},
   "outputs": [
    {
     "name": "stdout",
     "output_type": "stream",
     "text": [
      "+-------+--------------------+--------------------+\n",
      "|movieid|               title|              genres|\n",
      "+-------+--------------------+--------------------+\n",
      "|      1|    Toy Story (1995)|Adventure|Animati...|\n",
      "|      2|      Jumanji (1995)|Adventure|Childre...|\n",
      "|      3|Grumpier Old Men ...|      Comedy|Romance|\n",
      "|      4|Waiting to Exhale...|Comedy|Drama|Romance|\n",
      "|      5|Father of the Bri...|              Comedy|\n",
      "|      6|         Heat (1995)|Action|Crime|Thri...|\n",
      "|      7|      Sabrina (1995)|      Comedy|Romance|\n",
      "|      8| Tom and Huck (1995)|  Adventure|Children|\n",
      "|      9| Sudden Death (1995)|              Action|\n",
      "|     10|    GoldenEye (1995)|Action|Adventure|...|\n",
      "|     11|American Presiden...|Comedy|Drama|Romance|\n",
      "|     12|Dracula: Dead and...|       Comedy|Horror|\n",
      "|     13|        Balto (1995)|Adventure|Animati...|\n",
      "|     14|        Nixon (1995)|               Drama|\n",
      "|     15|Cutthroat Island ...|Action|Adventure|...|\n",
      "|     16|       Casino (1995)|         Crime|Drama|\n",
      "|     17|Sense and Sensibi...|       Drama|Romance|\n",
      "|     18|   Four Rooms (1995)|              Comedy|\n",
      "|     19|Ace Ventura: When...|              Comedy|\n",
      "|     20|  Money Train (1995)|Action|Comedy|Cri...|\n",
      "+-------+--------------------+--------------------+\n",
      "only showing top 20 rows\n",
      "\n"
     ]
    }
   ],
   "source": [
    "movies = spark.read.parquet(\"movies\")\n",
    "movies.show()"
   ]
  },
  {
   "cell_type": "code",
   "execution_count": 3,
   "metadata": {},
   "outputs": [
    {
     "name": "stdout",
     "output_type": "stream",
     "text": [
      "+------+-------+------+----------+\n",
      "|userid|movieid|rating| timestamp|\n",
      "+------+-------+------+----------+\n",
      "|     1|      2|   3.5|1112486027|\n",
      "|     1|     29|   3.5|1112484676|\n",
      "|     1|     32|   3.5|1112484819|\n",
      "|     1|     47|   3.5|1112484727|\n",
      "|     1|     50|   3.5|1112484580|\n",
      "|     1|    112|   3.5|1094785740|\n",
      "|     1|    151|   4.0|1094785734|\n",
      "|     1|    223|   4.0|1112485573|\n",
      "|     1|    253|   4.0|1112484940|\n",
      "|     1|    260|   4.0|1112484826|\n",
      "|     1|    293|   4.0|1112484703|\n",
      "|     1|    296|   4.0|1112484767|\n",
      "|     1|    318|   4.0|1112484798|\n",
      "|     1|    337|   3.5|1094785709|\n",
      "|     1|    367|   3.5|1112485980|\n",
      "|     1|    541|   4.0|1112484603|\n",
      "|     1|    589|   3.5|1112485557|\n",
      "|     1|    593|   3.5|1112484661|\n",
      "|     1|    653|   3.0|1094785691|\n",
      "|     1|    919|   3.5|1094785621|\n",
      "+------+-------+------+----------+\n",
      "only showing top 20 rows\n",
      "\n"
     ]
    }
   ],
   "source": [
    "ratings = spark.read.parquet(\"ratings\")\n",
    "ratings.show()"
   ]
  },
  {
   "cell_type": "code",
   "execution_count": 33,
   "metadata": {},
   "outputs": [
    {
     "name": "stdout",
     "output_type": "stream",
     "text": [
      "+------+-------+------+----------+\n",
      "|userid|movieid|rating| timestamp|\n",
      "+------+-------+------+----------+\n",
      "|     1|      2|   3.5|1112486027|\n",
      "|     1|     29|   3.5|1112484676|\n",
      "|     1|     32|   3.5|1112484819|\n",
      "|     1|     47|   3.5|1112484727|\n",
      "|     1|     50|   3.5|1112484580|\n",
      "|     1|    112|   3.5|1094785740|\n",
      "|     1|    151|   4.0|1094785734|\n",
      "|     1|    223|   4.0|1112485573|\n",
      "|     1|    253|   4.0|1112484940|\n",
      "|     1|    260|   4.0|1112484826|\n",
      "|     1|    293|   4.0|1112484703|\n",
      "|     1|    296|   4.0|1112484767|\n",
      "|     1|    318|   4.0|1112484798|\n",
      "|     1|    337|   3.5|1094785709|\n",
      "|     1|    367|   3.5|1112485980|\n",
      "|     1|    541|   4.0|1112484603|\n",
      "|     1|    589|   3.5|1112485557|\n",
      "|     1|    593|   3.5|1112484661|\n",
      "|     1|    919|   3.5|1094785621|\n",
      "|     1|    924|   3.5|1094785598|\n",
      "+------+-------+------+----------+\n",
      "only showing top 20 rows\n",
      "\n"
     ]
    }
   ],
   "source": [
    "ratingsCon = spark.read.parquet(\"ratings\").where(col(\"rating\") > 3)\n",
    "ratingsCon.show()"
   ]
  },
  {
   "cell_type": "code",
   "execution_count": 6,
   "metadata": {},
   "outputs": [
    {
     "name": "stdout",
     "output_type": "stream",
     "text": [
      "+-------+--------------------+--------------------+----+\n",
      "|movieid|               title|              genres|year|\n",
      "+-------+--------------------+--------------------+----+\n",
      "|      1|    Toy Story (1995)|Adventure|Animati...|1995|\n",
      "|      2|      Jumanji (1995)|Adventure|Childre...|1995|\n",
      "|      3|Grumpier Old Men ...|      Comedy|Romance|1995|\n",
      "|      4|Waiting to Exhale...|Comedy|Drama|Romance|1995|\n",
      "|      5|Father of the Bri...|              Comedy|1995|\n",
      "|      6|         Heat (1995)|Action|Crime|Thri...|1995|\n",
      "|      7|      Sabrina (1995)|      Comedy|Romance|1995|\n",
      "|      8| Tom and Huck (1995)|  Adventure|Children|1995|\n",
      "|      9| Sudden Death (1995)|              Action|1995|\n",
      "|     10|    GoldenEye (1995)|Action|Adventure|...|1995|\n",
      "|     11|American Presiden...|Comedy|Drama|Romance|1995|\n",
      "|     12|Dracula: Dead and...|       Comedy|Horror|1995|\n",
      "|     13|        Balto (1995)|Adventure|Animati...|1995|\n",
      "|     14|        Nixon (1995)|               Drama|1995|\n",
      "|     15|Cutthroat Island ...|Action|Adventure|...|1995|\n",
      "|     16|       Casino (1995)|         Crime|Drama|1995|\n",
      "|     17|Sense and Sensibi...|       Drama|Romance|1995|\n",
      "|     18|   Four Rooms (1995)|              Comedy|1995|\n",
      "|     19|Ace Ventura: When...|              Comedy|1995|\n",
      "|     20|  Money Train (1995)|Action|Comedy|Cri...|1995|\n",
      "+-------+--------------------+--------------------+----+\n",
      "only showing top 20 rows\n",
      "\n"
     ]
    }
   ],
   "source": [
    "movies1= movies.withColumn('year', regexp_extract(col('title'),\"\\d{4}\",0))\n",
    "movies1.show()"
   ]
  },
  {
   "cell_type": "code",
   "execution_count": 7,
   "metadata": {},
   "outputs": [
    {
     "name": "stdout",
     "output_type": "stream",
     "text": [
      "+-------+-----+\n",
      "|movieid|count|\n",
      "+-------+-----+\n",
      "|   3997| 2047|\n",
      "|   1580|35580|\n",
      "|   3918| 1246|\n",
      "|   2366| 6627|\n",
      "|   3175|13945|\n",
      "|   4519| 1936|\n",
      "|   1591| 5255|\n",
      "|    471|11268|\n",
      "|   2866| 1407|\n",
      "|   1645|11458|\n",
      "|   5803| 1046|\n",
      "|   1088|11013|\n",
      "|    833| 1427|\n",
      "|   8638| 3449|\n",
      "|    463|  410|\n",
      "|   1959| 5016|\n",
      "|   2659|  260|\n",
      "|   1342| 3289|\n",
      "|   1238| 3194|\n",
      "|   2122| 2398|\n",
      "+-------+-----+\n",
      "only showing top 20 rows\n",
      "\n"
     ]
    }
   ],
   "source": [
    "ratingCount = ratings.groupby(\"movieid\").count()\n",
    "ratingCount.show()"
   ]
  },
  {
   "cell_type": "code",
   "execution_count": 9,
   "metadata": {},
   "outputs": [
    {
     "name": "stdout",
     "output_type": "stream",
     "text": [
      "+-------+---------+\n",
      "|movieid|avgRating|\n",
      "+-------+---------+\n",
      "|   3997|     2.07|\n",
      "|   1580|     3.56|\n",
      "|   3918|     2.92|\n",
      "|   2366|     3.55|\n",
      "|   3175|      3.6|\n",
      "|   4519|     3.25|\n",
      "|   1591|     2.62|\n",
      "|    471|     3.66|\n",
      "|   2866|     3.61|\n",
      "|   1645|     3.48|\n",
      "|   5803|     2.77|\n",
      "|   1088|     3.21|\n",
      "|    833|     2.73|\n",
      "|   8638|     3.94|\n",
      "|    463|      2.8|\n",
      "|   1959|     3.63|\n",
      "|   2659|     3.23|\n",
      "|   1342|     2.95|\n",
      "|   1238|     3.97|\n",
      "|   2122|      2.6|\n",
      "+-------+---------+\n",
      "only showing top 20 rows\n",
      "\n"
     ]
    }
   ],
   "source": [
    "avgRating = ratings.groupby(\"movieid\").agg(avg(\"rating\")).withColumnRenamed(\"avg(rating)\",\"rating\").withColumn(\"avgRating\",round(col('rating'), 2)).drop(\"rating\")\n",
    "avgRating.show()"
   ]
  },
  {
   "cell_type": "code",
   "execution_count": 14,
   "metadata": {},
   "outputs": [
    {
     "name": "stdout",
     "output_type": "stream",
     "text": [
      "+-------+------------------+\n",
      "|movieid|       avg(rating)|\n",
      "+-------+------------------+\n",
      "|   3997|2.0703468490473864|\n",
      "|   1580|  3.55831928049466|\n",
      "|   3918| 2.918940609951846|\n",
      "|   2366|3.5492681454655197|\n",
      "|   3175| 3.600717102904267|\n",
      "|   4519|3.2463842975206614|\n",
      "|   1591|2.6201712654614653|\n",
      "|    471|3.6641817536386228|\n",
      "|   2866| 3.605188343994314|\n",
      "|   1645|3.4787484726828417|\n",
      "|   5803| 2.772944550669216|\n",
      "|   1088| 3.209207300463089|\n",
      "|    833| 2.725998598458304|\n",
      "|   8638|3.9375181211945494|\n",
      "|    463|               2.8|\n",
      "|   1959| 3.628987240829346|\n",
      "|   2659|3.2326923076923078|\n",
      "|   1342| 2.949072666463971|\n",
      "|   1238|  3.96665623043206|\n",
      "|   2122| 2.596538782318599|\n",
      "+-------+------------------+\n",
      "only showing top 20 rows\n",
      "\n"
     ]
    }
   ],
   "source": [
    "aveRating2 = ratings.groupby(\"movieid\").agg({'rating':'mean'})\n",
    "aveRating2.show()"
   ]
  },
  {
   "cell_type": "code",
   "execution_count": 17,
   "metadata": {},
   "outputs": [
    {
     "name": "stdout",
     "output_type": "stream",
     "text": [
      "+-------+------------------+\n",
      "|movieid|         avgRating|\n",
      "+-------+------------------+\n",
      "|   3997|2.0703468490473864|\n",
      "|   1580|  3.55831928049466|\n",
      "|   3918| 2.918940609951846|\n",
      "|   2366|3.5492681454655197|\n",
      "|   3175| 3.600717102904267|\n",
      "|   4519|3.2463842975206614|\n",
      "|   1591|2.6201712654614653|\n",
      "|    471|3.6641817536386228|\n",
      "|   2866| 3.605188343994314|\n",
      "|   1645|3.4787484726828417|\n",
      "|   5803| 2.772944550669216|\n",
      "|   1088| 3.209207300463089|\n",
      "|    833| 2.725998598458304|\n",
      "|   8638|3.9375181211945494|\n",
      "|    463|               2.8|\n",
      "|   1959| 3.628987240829346|\n",
      "|   2659|3.2326923076923078|\n",
      "|   1342| 2.949072666463971|\n",
      "|   1238|  3.96665623043206|\n",
      "|   2122| 2.596538782318599|\n",
      "+-------+------------------+\n",
      "only showing top 20 rows\n",
      "\n"
     ]
    }
   ],
   "source": [
    "ratings.groupby(\"movieid\").agg(avg(\"rating\").alias('avgRating')).show()"
   ]
  },
  {
   "cell_type": "code",
   "execution_count": 27,
   "metadata": {},
   "outputs": [],
   "source": [
    "movies2 = movies1.withColumnRenamed(\"movieid\",\"movieId\")"
   ]
  },
  {
   "cell_type": "code",
   "execution_count": 28,
   "metadata": {
    "scrolled": true
   },
   "outputs": [
    {
     "name": "stdout",
     "output_type": "stream",
     "text": [
      "+-------+--------------------+--------------------+----+\n",
      "|movieId|               title|              genres|year|\n",
      "+-------+--------------------+--------------------+----+\n",
      "|      1|    Toy Story (1995)|Adventure|Animati...|1995|\n",
      "|      2|      Jumanji (1995)|Adventure|Childre...|1995|\n",
      "|      3|Grumpier Old Men ...|      Comedy|Romance|1995|\n",
      "|      4|Waiting to Exhale...|Comedy|Drama|Romance|1995|\n",
      "|      5|Father of the Bri...|              Comedy|1995|\n",
      "|      6|         Heat (1995)|Action|Crime|Thri...|1995|\n",
      "|      7|      Sabrina (1995)|      Comedy|Romance|1995|\n",
      "|      8| Tom and Huck (1995)|  Adventure|Children|1995|\n",
      "|      9| Sudden Death (1995)|              Action|1995|\n",
      "|     10|    GoldenEye (1995)|Action|Adventure|...|1995|\n",
      "|     11|American Presiden...|Comedy|Drama|Romance|1995|\n",
      "|     12|Dracula: Dead and...|       Comedy|Horror|1995|\n",
      "|     13|        Balto (1995)|Adventure|Animati...|1995|\n",
      "|     14|        Nixon (1995)|               Drama|1995|\n",
      "|     15|Cutthroat Island ...|Action|Adventure|...|1995|\n",
      "|     16|       Casino (1995)|         Crime|Drama|1995|\n",
      "|     17|Sense and Sensibi...|       Drama|Romance|1995|\n",
      "|     18|   Four Rooms (1995)|              Comedy|1995|\n",
      "|     19|Ace Ventura: When...|              Comedy|1995|\n",
      "|     20|  Money Train (1995)|Action|Comedy|Cri...|1995|\n",
      "+-------+--------------------+--------------------+----+\n",
      "only showing top 20 rows\n",
      "\n"
     ]
    }
   ],
   "source": [
    "movies2.show()"
   ]
  },
  {
   "cell_type": "code",
   "execution_count": 29,
   "metadata": {},
   "outputs": [
    {
     "name": "stdout",
     "output_type": "stream",
     "text": [
      "+-------+--------------------+--------------------+----+-------+---------+\n",
      "|movieId|               title|              genres|year|movieid|avgRating|\n",
      "+-------+--------------------+--------------------+----+-------+---------+\n",
      "|   3997|Dungeons & Dragon...|   Adventure|Fantasy|2000|   3997|     2.07|\n",
      "|   1580|Men in Black (a.k...|Action|Comedy|Sci-Fi|1997|   1580|     3.56|\n",
      "|   3918|Hellbound: Hellra...|              Horror|1988|   3918|     2.92|\n",
      "|   2366|    King Kong (1933)|Action|Adventure|...|1933|   2366|     3.55|\n",
      "|   3175| Galaxy Quest (1999)|Adventure|Comedy|...|1999|   3175|      3.6|\n",
      "|   4519|Land Before Time,...|Adventure|Animati...|1988|   4519|     3.25|\n",
      "|   1591|        Spawn (1997)|Action|Adventure|...|1997|   1591|     2.62|\n",
      "|    471|Hudsucker Proxy, ...|              Comedy|1994|    471|     3.66|\n",
      "|   2866|Buddy Holly Story...|               Drama|1978|   2866|     3.61|\n",
      "|   1645|Devil's Advocate,...|Drama|Mystery|Thr...|1997|   1645|     3.48|\n",
      "|   5803|        I Spy (2002)|Action|Adventure|...|2002|   5803|     2.77|\n",
      "|   1088|Dirty Dancing (1987)|Drama|Musical|Rom...|1987|   1088|     3.21|\n",
      "|    833|High School High ...|              Comedy|1996|    833|     2.73|\n",
      "|   8638|Before Sunset (2004)|       Drama|Romance|2004|   8638|     3.94|\n",
      "|    463|Guilty as Sin (1993)|Crime|Drama|Thriller|1993|    463|      2.8|\n",
      "|   1959|Out of Africa (1985)|       Drama|Romance|1985|   1959|     3.63|\n",
      "|   2659|It Came from Holl...|  Comedy|Documentary|1982|   2659|     3.23|\n",
      "|   1342|     Candyman (1992)|     Horror|Thriller|1992|   1342|     2.95|\n",
      "|   1238|   Local Hero (1983)|              Comedy|1983|   1238|     3.97|\n",
      "|   2122|Children of the C...|     Horror|Thriller|1984|   2122|      2.6|\n",
      "+-------+--------------------+--------------------+----+-------+---------+\n",
      "only showing top 20 rows\n",
      "\n"
     ]
    }
   ],
   "source": [
    "movies3 = movies2.join(avgRating,movies2.movieId==avgRating.movieid,how = \"inner\")\n",
    "movies3.show()"
   ]
  },
  {
   "cell_type": "code",
   "execution_count": 34,
   "metadata": {
    "scrolled": true
   },
   "outputs": [
    {
     "name": "stdout",
     "output_type": "stream",
     "text": [
      "+-------+--------------------+--------------------+----+---------+\n",
      "|movieid|               title|              genres|year|avgRating|\n",
      "+-------+--------------------+--------------------+----+---------+\n",
      "|   3997|Dungeons & Dragon...|   Adventure|Fantasy|2000|     2.07|\n",
      "|   1580|Men in Black (a.k...|Action|Comedy|Sci-Fi|1997|     3.56|\n",
      "|   3918|Hellbound: Hellra...|              Horror|1988|     2.92|\n",
      "|   2366|    King Kong (1933)|Action|Adventure|...|1933|     3.55|\n",
      "|   3175| Galaxy Quest (1999)|Adventure|Comedy|...|1999|      3.6|\n",
      "|   4519|Land Before Time,...|Adventure|Animati...|1988|     3.25|\n",
      "|   1591|        Spawn (1997)|Action|Adventure|...|1997|     2.62|\n",
      "|    471|Hudsucker Proxy, ...|              Comedy|1994|     3.66|\n",
      "|   2866|Buddy Holly Story...|               Drama|1978|     3.61|\n",
      "|   1645|Devil's Advocate,...|Drama|Mystery|Thr...|1997|     3.48|\n",
      "|   5803|        I Spy (2002)|Action|Adventure|...|2002|     2.77|\n",
      "|   1088|Dirty Dancing (1987)|Drama|Musical|Rom...|1987|     3.21|\n",
      "|    833|High School High ...|              Comedy|1996|     2.73|\n",
      "|   8638|Before Sunset (2004)|       Drama|Romance|2004|     3.94|\n",
      "|    463|Guilty as Sin (1993)|Crime|Drama|Thriller|1993|      2.8|\n",
      "|   1959|Out of Africa (1985)|       Drama|Romance|1985|     3.63|\n",
      "|   2659|It Came from Holl...|  Comedy|Documentary|1982|     3.23|\n",
      "|   1342|     Candyman (1992)|     Horror|Thriller|1992|     2.95|\n",
      "|   1238|   Local Hero (1983)|              Comedy|1983|     3.97|\n",
      "|   2122|Children of the C...|     Horror|Thriller|1984|      2.6|\n",
      "+-------+--------------------+--------------------+----+---------+\n",
      "only showing top 20 rows\n",
      "\n"
     ]
    }
   ],
   "source": [
    "movies4 = movies1.join(avgRating,how = \"inner\",on = 'movieid')\n",
    "movies4.show()"
   ]
  },
  {
   "cell_type": "code",
   "execution_count": 35,
   "metadata": {},
   "outputs": [
    {
     "name": "stdout",
     "output_type": "stream",
     "text": [
      "+-------+--------------------+--------------------+----+---------+-----+\n",
      "|movieid|               title|              genres|year|avgRating|count|\n",
      "+-------+--------------------+--------------------+----+---------+-----+\n",
      "|    148|Awfully Big Adven...|               Drama|1995|     2.89|  357|\n",
      "|    463|Guilty as Sin (1993)|Crime|Drama|Thriller|1993|      2.8|  410|\n",
      "|    471|Hudsucker Proxy, ...|              Comedy|1994|     3.66|11268|\n",
      "|    496|What Happened Was...|Comedy|Drama|Roma...|1994|     3.29|  413|\n",
      "|    833|High School High ...|              Comedy|1996|     2.73| 1427|\n",
      "|   1088|Dirty Dancing (1987)|Drama|Musical|Rom...|1987|     3.21|11013|\n",
      "|   1238|   Local Hero (1983)|              Comedy|1983|     3.97| 3194|\n",
      "|   1342|     Candyman (1992)|     Horror|Thriller|1992|     2.95| 3289|\n",
      "|   1580|Men in Black (a.k...|Action|Comedy|Sci-Fi|1997|     3.56|35580|\n",
      "|   1591|        Spawn (1997)|Action|Adventure|...|1997|     2.62| 5255|\n",
      "|   1645|Devil's Advocate,...|Drama|Mystery|Thr...|1997|     3.48|11458|\n",
      "|   1829|  Chinese Box (1997)|       Drama|Romance|1997|     3.09|  278|\n",
      "|   1959|Out of Africa (1985)|       Drama|Romance|1985|     3.63| 5016|\n",
      "|   2122|Children of the C...|     Horror|Thriller|1984|      2.6| 2398|\n",
      "|   2142|American Tail: Fi...|Adventure|Animati...|1991|     2.99| 2154|\n",
      "|   2366|    King Kong (1933)|Action|Adventure|...|1933|     3.55| 6627|\n",
      "|   2659|It Came from Holl...|  Comedy|Documentary|1982|     3.23|  260|\n",
      "|   2866|Buddy Holly Story...|               Drama|1978|     3.61| 1407|\n",
      "|   3175| Galaxy Quest (1999)|Adventure|Comedy|...|1999|      3.6|13945|\n",
      "|   3749|Time Regained (Te...|               Drama|1999|     3.26|  130|\n",
      "+-------+--------------------+--------------------+----+---------+-----+\n",
      "only showing top 20 rows\n",
      "\n"
     ]
    }
   ],
   "source": [
    "movies5 = movies4.join(ratingcount,how = \"inner\",on = 'movieid')\n",
    "movies5.show()"
   ]
  },
  {
   "cell_type": "code",
   "execution_count": 37,
   "metadata": {},
   "outputs": [
    {
     "data": {
      "text/plain": [
       "2346"
      ]
     },
     "execution_count": 37,
     "metadata": {},
     "output_type": "execute_result"
    }
   ],
   "source": [
    "movies5.filter(movies5.year < 1950).count()"
   ]
  },
  {
   "cell_type": "code",
   "execution_count": 45,
   "metadata": {},
   "outputs": [
    {
     "name": "stdout",
     "output_type": "stream",
     "text": [
      "+---------+\n",
      "|max(year)|\n",
      "+---------+\n",
      "|     9012|\n",
      "+---------+\n",
      "\n"
     ]
    }
   ],
   "source": [
    "movies5.agg({'year':'max'}).show()"
   ]
  },
  {
   "cell_type": "code",
   "execution_count": 46,
   "metadata": {},
   "outputs": [
    {
     "name": "stdout",
     "output_type": "stream",
     "text": [
      "+---------+\n",
      "|min(year)|\n",
      "+---------+\n",
      "|         |\n",
      "+---------+\n",
      "\n"
     ]
    }
   ],
   "source": [
    "movies5.agg({'year':'min'}).show()"
   ]
  },
  {
   "cell_type": "code",
   "execution_count": 51,
   "metadata": {},
   "outputs": [
    {
     "name": "stdout",
     "output_type": "stream",
     "text": [
      "+-------+--------------------+--------------------+---------+-----+-------+\n",
      "|movieid|               title|              genres|avgRating|count|release|\n",
      "+-------+--------------------+--------------------+---------+-----+-------+\n",
      "|    148|Awfully Big Adven...|               Drama|     2.89|  357|   1995|\n",
      "|    463|Guilty as Sin (1993)|Crime|Drama|Thriller|      2.8|  410|   1993|\n",
      "|    471|Hudsucker Proxy, ...|              Comedy|     3.66|11268|   1994|\n",
      "|    496|What Happened Was...|Comedy|Drama|Roma...|     3.29|  413|   1994|\n",
      "|    833|High School High ...|              Comedy|     2.73| 1427|   1996|\n",
      "|   1088|Dirty Dancing (1987)|Drama|Musical|Rom...|     3.21|11013|   1987|\n",
      "|   1238|   Local Hero (1983)|              Comedy|     3.97| 3194|   1983|\n",
      "|   1342|     Candyman (1992)|     Horror|Thriller|     2.95| 3289|   1992|\n",
      "|   1580|Men in Black (a.k...|Action|Comedy|Sci-Fi|     3.56|35580|   1997|\n",
      "|   1591|        Spawn (1997)|Action|Adventure|...|     2.62| 5255|   1997|\n",
      "|   1645|Devil's Advocate,...|Drama|Mystery|Thr...|     3.48|11458|   1997|\n",
      "|   1829|  Chinese Box (1997)|       Drama|Romance|     3.09|  278|   1997|\n",
      "|   1959|Out of Africa (1985)|       Drama|Romance|     3.63| 5016|   1985|\n",
      "|   2122|Children of the C...|     Horror|Thriller|      2.6| 2398|   1984|\n",
      "|   2142|American Tail: Fi...|Adventure|Animati...|     2.99| 2154|   1991|\n",
      "|   2366|    King Kong (1933)|Action|Adventure|...|     3.55| 6627|   1933|\n",
      "|   2659|It Came from Holl...|  Comedy|Documentary|     3.23|  260|   1982|\n",
      "|   2866|Buddy Holly Story...|               Drama|     3.61| 1407|   1978|\n",
      "|   3175| Galaxy Quest (1999)|Adventure|Comedy|...|      3.6|13945|   1999|\n",
      "|   3749|Time Regained (Te...|               Drama|     3.26|  130|   1999|\n",
      "+-------+--------------------+--------------------+---------+-----+-------+\n",
      "only showing top 20 rows\n",
      "\n"
     ]
    }
   ],
   "source": [
    "movies6 = movies5.withColumn('release', regexp_replace(regexp_extract(col('title'),\"\\(\\d{4}\\)\",0),'[\\(\\)]',\"\")).drop('year')\n",
    "movies6.show()\n",
    "                              "
   ]
  },
  {
   "cell_type": "code",
   "execution_count": 52,
   "metadata": {},
   "outputs": [
    {
     "name": "stdout",
     "output_type": "stream",
     "text": [
      "root\n",
      " |-- movieid: integer (nullable = true)\n",
      " |-- title: string (nullable = true)\n",
      " |-- genres: string (nullable = true)\n",
      " |-- avgRating: double (nullable = true)\n",
      " |-- count: long (nullable = false)\n",
      " |-- release: string (nullable = true)\n",
      "\n"
     ]
    }
   ],
   "source": [
    "movies6.printSchema()"
   ]
  },
  {
   "cell_type": "code",
   "execution_count": 60,
   "metadata": {},
   "outputs": [
    {
     "name": "stdout",
     "output_type": "stream",
     "text": [
      "root\n",
      " |-- movieid: integer (nullable = true)\n",
      " |-- title: string (nullable = true)\n",
      " |-- genres: string (nullable = true)\n",
      " |-- avgRating: double (nullable = true)\n",
      " |-- count: long (nullable = false)\n",
      " |-- releaseYear: integer (nullable = true)\n",
      "\n"
     ]
    }
   ],
   "source": [
    "movies7 = movies6.withColumn('releaseYear',movies6['release'].cast('int')).drop('release')\n",
    "movies7.printSchema()"
   ]
  },
  {
   "cell_type": "code",
   "execution_count": 61,
   "metadata": {},
   "outputs": [
    {
     "name": "stdout",
     "output_type": "stream",
     "text": [
      "+-------+--------------------+--------------------+---------+-----+-----------+\n",
      "|movieid|               title|              genres|avgRating|count|releaseYear|\n",
      "+-------+--------------------+--------------------+---------+-----+-----------+\n",
      "|    148|Awfully Big Adven...|               Drama|     2.89|  357|       1995|\n",
      "|    463|Guilty as Sin (1993)|Crime|Drama|Thriller|      2.8|  410|       1993|\n",
      "|    471|Hudsucker Proxy, ...|              Comedy|     3.66|11268|       1994|\n",
      "|    496|What Happened Was...|Comedy|Drama|Roma...|     3.29|  413|       1994|\n",
      "|    833|High School High ...|              Comedy|     2.73| 1427|       1996|\n",
      "|   1088|Dirty Dancing (1987)|Drama|Musical|Rom...|     3.21|11013|       1987|\n",
      "|   1238|   Local Hero (1983)|              Comedy|     3.97| 3194|       1983|\n",
      "|   1342|     Candyman (1992)|     Horror|Thriller|     2.95| 3289|       1992|\n",
      "|   1580|Men in Black (a.k...|Action|Comedy|Sci-Fi|     3.56|35580|       1997|\n",
      "|   1591|        Spawn (1997)|Action|Adventure|...|     2.62| 5255|       1997|\n",
      "|   1645|Devil's Advocate,...|Drama|Mystery|Thr...|     3.48|11458|       1997|\n",
      "|   1829|  Chinese Box (1997)|       Drama|Romance|     3.09|  278|       1997|\n",
      "|   1959|Out of Africa (1985)|       Drama|Romance|     3.63| 5016|       1985|\n",
      "|   2122|Children of the C...|     Horror|Thriller|      2.6| 2398|       1984|\n",
      "|   2142|American Tail: Fi...|Adventure|Animati...|     2.99| 2154|       1991|\n",
      "|   2366|    King Kong (1933)|Action|Adventure|...|     3.55| 6627|       1933|\n",
      "|   2659|It Came from Holl...|  Comedy|Documentary|     3.23|  260|       1982|\n",
      "|   2866|Buddy Holly Story...|               Drama|     3.61| 1407|       1978|\n",
      "|   3175| Galaxy Quest (1999)|Adventure|Comedy|...|      3.6|13945|       1999|\n",
      "|   3749|Time Regained (Te...|               Drama|     3.26|  130|       1999|\n",
      "+-------+--------------------+--------------------+---------+-----+-----------+\n",
      "only showing top 20 rows\n",
      "\n"
     ]
    }
   ],
   "source": [
    "movies7.show()"
   ]
  },
  {
   "cell_type": "code",
   "execution_count": 64,
   "metadata": {},
   "outputs": [
    {
     "name": "stdout",
     "output_type": "stream",
     "text": [
      "+----------------+\n",
      "|max(releaseYear)|\n",
      "+----------------+\n",
      "|            2015|\n",
      "+----------------+\n",
      "\n"
     ]
    }
   ],
   "source": [
    "movies7.agg({'releaseYear':'max'}).show()"
   ]
  },
  {
   "cell_type": "code",
   "execution_count": 65,
   "metadata": {},
   "outputs": [
    {
     "name": "stdout",
     "output_type": "stream",
     "text": [
      "+----------------+\n",
      "|min(releaseYear)|\n",
      "+----------------+\n",
      "|            1891|\n",
      "+----------------+\n",
      "\n"
     ]
    }
   ],
   "source": [
    "movies7.agg({'releaseYear':'min'}).show()"
   ]
  },
  {
   "cell_type": "code",
   "execution_count": 80,
   "metadata": {},
   "outputs": [
    {
     "name": "stdout",
     "output_type": "stream",
     "text": [
      "+----------+\n",
      "|min(count)|\n",
      "+----------+\n",
      "|         1|\n",
      "+----------+\n",
      "\n"
     ]
    }
   ],
   "source": [
    "movies7.groupby(\"releaseYear\").agg(countDistinct(\"title\").alias('count')).agg({'count':'min'}).show()"
   ]
  },
  {
   "cell_type": "code",
   "execution_count": 77,
   "metadata": {},
   "outputs": [
    {
     "name": "stdout",
     "output_type": "stream",
     "text": [
      "+----------+\n",
      "|max(count)|\n",
      "+----------+\n",
      "|      1101|\n",
      "+----------+\n",
      "\n"
     ]
    }
   ],
   "source": [
    "movies7.groupby(\"releaseYear\").agg(countDistinct(\"title\").alias('count')).agg({'count':'max'}).show()"
   ]
  },
  {
   "cell_type": "code",
   "execution_count": 79,
   "metadata": {},
   "outputs": [
    {
     "name": "stdout",
     "output_type": "stream",
     "text": [
      "+-----------+-----+\n",
      "|releaseYear|count|\n",
      "+-----------+-----+\n",
      "|       2009| 1101|\n",
      "|       2011| 1006|\n",
      "|       2012|  996|\n",
      "|       2013|  987|\n",
      "|       2008|  968|\n",
      "|       2010|  946|\n",
      "|       2007|  891|\n",
      "|       2006|  843|\n",
      "|       2005|  729|\n",
      "|       2014|  710|\n",
      "|       2004|  700|\n",
      "|       2002|  676|\n",
      "|       2003|  648|\n",
      "|       2001|  629|\n",
      "|       2000|  608|\n",
      "|       1998|  552|\n",
      "|       1999|  536|\n",
      "|       1997|  523|\n",
      "|       1996|  505|\n",
      "|       1995|  472|\n",
      "+-----------+-----+\n",
      "only showing top 20 rows\n",
      "\n"
     ]
    }
   ],
   "source": [
    "movies7.groupby(\"releaseYear\").agg(countDistinct(\"title\").alias('count')).sort(col(\"count\").desc()).show()"
   ]
  },
  {
   "cell_type": "code",
   "execution_count": null,
   "metadata": {},
   "outputs": [],
   "source": [
    "interactions_df.registerTempTable(\"movies\")"
   ]
  },
  {
   "cell_type": "code",
   "execution_count": 96,
   "metadata": {},
   "outputs": [
    {
     "name": "stdout",
     "output_type": "stream",
     "text": [
      "+---------------------------+\n",
      "|count(DISTINCT releaseYear)|\n",
      "+---------------------------+\n",
      "|                        118|\n",
      "+---------------------------+\n",
      "\n"
     ]
    }
   ],
   "source": [
    "movies7.agg(countDistinct(\"releaseYear\")).show()"
   ]
  },
  {
   "cell_type": "code",
   "execution_count": 97,
   "metadata": {},
   "outputs": [
    {
     "data": {
      "text/plain": [
       "119"
      ]
     },
     "execution_count": 97,
     "metadata": {},
     "output_type": "execute_result"
    }
   ],
   "source": [
    "movies7.select('releaseYear').distinct().count()"
   ]
  },
  {
   "cell_type": "code",
   "execution_count": 98,
   "metadata": {},
   "outputs": [],
   "source": [
    "movies7.registerTempTable(\"movies\")"
   ]
  },
  {
   "cell_type": "code",
   "execution_count": 117,
   "metadata": {},
   "outputs": [
    {
     "name": "stdout",
     "output_type": "stream",
     "text": [
      "+-------+-----+------+---------+-----+-----------+\n",
      "|movieid|title|genres|avgRating|count|releaseYear|\n",
      "+-------+-----+------+---------+-----+-----------+\n",
      "+-------+-----+------+---------+-----+-----------+\n",
      "\n"
     ]
    }
   ],
   "source": [
    "spark.sql(\"select * from movies WHERE releaseYear not in\"+'('+str(list(range(1891,2016))).replace('[',\"\") .replace(']',\"\") +')').show()"
   ]
  },
  {
   "cell_type": "code",
   "execution_count": 140,
   "metadata": {
    "scrolled": true
   },
   "outputs": [
    {
     "name": "stdout",
     "output_type": "stream",
     "text": [
      "+----+\n",
      "|  id|\n",
      "+----+\n",
      "|1908|\n",
      "|1911|\n",
      "|1897|\n",
      "|1892|\n",
      "|1906|\n",
      "|1907|\n",
      "|1904|\n",
      "+----+\n",
      "\n"
     ]
    }
   ],
   "source": [
    "spark.range(1891,2016).subtract(movies7.select('releaseYear').distinct()).show()"
   ]
  },
  {
   "cell_type": "code",
   "execution_count": null,
   "metadata": {},
   "outputs": [],
   "source": []
  }
 ],
 "metadata": {
  "kernelspec": {
   "display_name": "PySpark",
   "language": "python",
   "name": "pyspark"
  },
  "language_info": {
   "codemirror_mode": {
    "name": "ipython",
    "version": 3
   },
   "file_extension": ".py",
   "mimetype": "text/x-python",
   "name": "python",
   "nbconvert_exporter": "python",
   "pygments_lexer": "ipython3",
   "version": "3.7.0"
  }
 },
 "nbformat": 4,
 "nbformat_minor": 2
}
