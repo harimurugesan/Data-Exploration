{
 "cells": [
  {
   "cell_type": "markdown",
   "metadata": {},
   "source": [
    "# Arithmetic operators"
   ]
  },
  {
   "cell_type": "code",
   "execution_count": 21,
   "metadata": {},
   "outputs": [
    {
     "name": "stdout",
     "output_type": "stream",
     "text": [
      "4\n",
      "0.90\n",
      "2.5\n",
      "2\n",
      "10\n",
      "8\n",
      "2\n"
     ]
    }
   ],
   "source": [
    "print(2 + 2)# addition \n",
    "print(\"%.2f\"%(2.9 -2))# subtraction\n",
    "print(5/2)# division\n",
    "print(5//2)# floor division returns only int\n",
    "print(2*5)# multiplication\n",
    "print(2**3)# power\n",
    "print(5% 3)# modulo"
   ]
  },
  {
   "cell_type": "markdown",
   "metadata": {},
   "source": [
    "# Comparison (Relational) Operators "
   ]
  },
  {
   "cell_type": "code",
   "execution_count": 12,
   "metadata": {},
   "outputs": [
    {
     "name": "stdout",
     "output_type": "stream",
     "text": [
      "True\n",
      "False\n",
      "True\n",
      "False\n",
      "True\n",
      "False\n"
     ]
    }
   ],
   "source": [
    "# These operators compare the values on either side of them and decide the relation among them\n",
    "# while comparison it returns boolean(T or F)\n",
    "a = 10\n",
    "b = 5\n",
    "c = \"cricket\"\n",
    "d = \"cricket\"\n",
    "print(c == d)\n",
    "print(c != d)\n",
    "print(a > b)\n",
    "print(a < b)\n",
    "print(10 >= 10 )\n",
    "print(5 <= 2)"
   ]
  },
  {
   "cell_type": "markdown",
   "metadata": {},
   "source": [
    "# Assignment Operators"
   ]
  },
  {
   "cell_type": "code",
   "execution_count": 19,
   "metadata": {},
   "outputs": [
    {
     "name": "stdout",
     "output_type": "stream",
     "text": [
      "6\n",
      "5\n",
      "25\n",
      "5.0\n"
     ]
    }
   ],
   "source": [
    "# It assigns value to the variable after doing some transformations\n",
    "a = 5\n",
    "a+= 1 # It simply means a = a + 1\n",
    "print(a)\n",
    "a-= 1\n",
    "print(a)\n",
    "a*= 5 # a = a * 5\n",
    "print(a)\n",
    "a/= 5 # a = a / 5\n",
    "print(a)"
   ]
  },
  {
   "cell_type": "markdown",
   "metadata": {},
   "source": [
    "# Logical Operators"
   ]
  },
  {
   "cell_type": "code",
   "execution_count": 28,
   "metadata": {},
   "outputs": [
    {
     "name": "stdout",
     "output_type": "stream",
     "text": [
      "True\n",
      "True\n",
      "False\n"
     ]
    }
   ],
   "source": [
    "print(5 > 2 and 2 == 2) # all condition true\n",
    "print(5 > 2 or 10 > 2) # any one condition true\n",
    "print(not(10 > 2)) # inverse of the condition"
   ]
  },
  {
   "cell_type": "markdown",
   "metadata": {},
   "source": [
    "# Bitwise Operators"
   ]
  },
  {
   "cell_type": "code",
   "execution_count": 24,
   "metadata": {},
   "outputs": [
    {
     "name": "stdout",
     "output_type": "stream",
     "text": [
      "2\n",
      "40\n",
      "0\n",
      "13\n",
      "38\n",
      "-25\n"
     ]
    }
   ],
   "source": [
    "# Bitwise operator works on bits and performs bit-by-bit operation\n",
    "                       #64 32 16 8 4 2 1\n",
    "#    5 is represanted as         0 1 0 1\n",
    "#    1 is represented as         0 0 0 1\n",
    "#    8 is represented as         1 0 0 0\n",
    "#   42 is represented as 0  1  0 1 0 1 0\n",
    "print(5 >> 1)#right sft  0  0  0 0 0 1 0 -> 2\n",
    "print(5 << 3)# left sft  0  1  0 1 0 0 0  -> 40\n",
    "print(8 & 5) # The output of bitwise AND is 1 if the corresponding bits of two operands is 1\n",
    "print(9 | 4) # The output of bitwise OR is 1 if the corresponding bits of anyone operands is 1\n",
    "print(12 ^ 42)  # The result of bitwise XOR operator is 1 if the corresponding bits of two operands are opposite\n",
    "print(~ 24) # In complement operator For any integer n, bitwise complement of n will be -(n+1)"
   ]
  },
  {
   "cell_type": "markdown",
   "metadata": {},
   "source": [
    "# Membership Operators"
   ]
  },
  {
   "cell_type": "code",
   "execution_count": 31,
   "metadata": {},
   "outputs": [
    {
     "name": "stdout",
     "output_type": "stream",
     "text": [
      "True\n",
      "False\n",
      "True\n",
      "False\n"
     ]
    }
   ],
   "source": [
    "a = [1,2,3,4,5]\n",
    "print(4 in a) # It confirms the membership of the element\n",
    "print(10 in a)\n",
    "print(10 not in a)\n",
    "print(4 not in a)"
   ]
  },
  {
   "cell_type": "markdown",
   "metadata": {},
   "source": [
    "# Identity Operators"
   ]
  },
  {
   "cell_type": "code",
   "execution_count": 39,
   "metadata": {},
   "outputs": [],
   "source": [
    "# Identity operators compare the memory locations of two objects\n",
    "x = 5\n",
    "y = 5.0"
   ]
  },
  {
   "cell_type": "code",
   "execution_count": 40,
   "metadata": {},
   "outputs": [
    {
     "name": "stdout",
     "output_type": "stream",
     "text": [
      "True\n",
      "False\n",
      "1437101664 2110175356584\n"
     ]
    }
   ],
   "source": [
    "print (x == y)\n",
    "print( x is y)\n",
    "print(id(x),id(y))"
   ]
  }
 ],
 "metadata": {
  "kernelspec": {
   "display_name": "Python 3",
   "language": "python",
   "name": "python3"
  },
  "language_info": {
   "codemirror_mode": {
    "name": "ipython",
    "version": 3
   },
   "file_extension": ".py",
   "mimetype": "text/x-python",
   "name": "python",
   "nbconvert_exporter": "python",
   "pygments_lexer": "ipython3",
   "version": "3.6.4"
  }
 },
 "nbformat": 4,
 "nbformat_minor": 2
}
