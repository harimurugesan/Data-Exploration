{
 "cells": [
  {
   "cell_type": "markdown",
   "metadata": {},
   "source": [
    "# if Statement"
   ]
  },
  {
   "cell_type": "code",
   "execution_count": 1,
   "metadata": {},
   "outputs": [
    {
     "name": "stdout",
     "output_type": "stream",
     "text": [
      "36\n",
      "36 is divisible by 6\n"
     ]
    }
   ],
   "source": [
    "# If is a block when the condition is True it allows inside the block\n",
    "a = int(input()) # we can get user input by using input() -> this gets only string input we have to typecast for the desired outcome \n",
    "if a % 6 == 0:\n",
    "    print(\"{} is divisible by 6\".format(a))"
   ]
  },
  {
   "cell_type": "markdown",
   "metadata": {},
   "source": [
    "# if else statement"
   ]
  },
  {
   "cell_type": "code",
   "execution_count": 3,
   "metadata": {},
   "outputs": [
    {
     "name": "stdout",
     "output_type": "stream",
     "text": [
      "44\n",
      "44 is not divisible by 6\n"
     ]
    }
   ],
   "source": [
    "a = int(input())\n",
    "if a % 6 == 0:\n",
    "    print(\"{} is divisible by 6\".format(a))\n",
    "else:\n",
    "    print(\"%d is not divisible by 6\"%(a))"
   ]
  },
  {
   "cell_type": "code",
   "execution_count": 5,
   "metadata": {},
   "outputs": [
    {
     "name": "stdout",
     "output_type": "stream",
     "text": [
      "i love cricket\n",
      "cricket\n"
     ]
    }
   ],
   "source": [
    "a = input()\n",
    "if( (a == \"cricket\")  | ('cricket' in a) ) :# Always cover your condition in (), when using more than one condition\n",
    "    print(\"cricket\")"
   ]
  },
  {
   "cell_type": "code",
   "execution_count": 7,
   "metadata": {},
   "outputs": [
    {
     "name": "stdout",
     "output_type": "stream",
     "text": [
      "99\n",
      "failure\n"
     ]
    }
   ],
   "source": [
    "a = int(input())\n",
    "if((a % 11 == 0) & (a % 8 == 0) & (a % 4 == 0)):\n",
    "    print(\"Sucess\")\n",
    "else:\n",
    "    print(\"failure\")"
   ]
  },
  {
   "cell_type": "code",
   "execution_count": 2,
   "metadata": {},
   "outputs": [
    {
     "name": "stdout",
     "output_type": "stream",
     "text": [
      "4\n",
      "Sucess\n"
     ]
    }
   ],
   "source": [
    "a = int(input())\n",
    "if((a % 11 == 0) | (a % 8 == 0) | (a % 4 == 0)):\n",
    "    print(\"Sucess\")\n",
    "else:\n",
    "    print(\"failure\")"
   ]
  },
  {
   "cell_type": "markdown",
   "metadata": {},
   "source": [
    "# nested if"
   ]
  },
  {
   "cell_type": "code",
   "execution_count": 1,
   "metadata": {},
   "outputs": [
    {
     "name": "stdout",
     "output_type": "stream",
     "text": [
      "7\n",
      "7 is not divisible by either 3 or 5\n"
     ]
    }
   ],
   "source": [
    "i = int(input())\n",
    "if i % 5 == 0: # If enters into the statement if the condition is true\n",
    "    print(\"{} is divisible by 5\".format(i))\n",
    "elif i % 3  == 0:# when we use elif ,the program try to match any one of the if or elif statement which is True\n",
    "    print(\"{} is divisible by 3\".format(i))\n",
    "elif i % 8  == 0:\n",
    "    print(\"{} is divisible by 8\".format(i))\n",
    "else:# if none matches the condition then else block gets executed\n",
    "    print(\"{} is not divisible by either 3 or 5\".format(i))"
   ]
  },
  {
   "cell_type": "code",
   "execution_count": null,
   "metadata": {},
   "outputs": [],
   "source": []
  }
 ],
 "metadata": {
  "kernelspec": {
   "display_name": "Python 3",
   "language": "python",
   "name": "python3"
  },
  "language_info": {
   "codemirror_mode": {
    "name": "ipython",
    "version": 3
   },
   "file_extension": ".py",
   "mimetype": "text/x-python",
   "name": "python",
   "nbconvert_exporter": "python",
   "pygments_lexer": "ipython3",
   "version": "3.6.4"
  }
 },
 "nbformat": 4,
 "nbformat_minor": 2
}
